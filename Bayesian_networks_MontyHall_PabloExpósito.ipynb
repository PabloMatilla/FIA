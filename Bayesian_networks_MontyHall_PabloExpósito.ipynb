{
  "nbformat": 4,
  "nbformat_minor": 0,
  "metadata": {
    "colab": {
      "provenance": []
    },
    "kernelspec": {
      "name": "python3",
      "display_name": "Python 3"
    },
    "language_info": {
      "name": "python"
    }
  },
  "cells": [
    {
      "cell_type": "code",
      "execution_count": 3,
      "metadata": {
        "id": "KFYN8DzwkL8_"
      },
      "outputs": [],
      "source": [
        "# Pablo Exposito Matilla al415550@uji.es"
      ]
    },
    {
      "cell_type": "markdown",
      "source": [
        "## 3. Bayesian networks"
      ],
      "metadata": {
        "id": "TEuDaMpSB0-z"
      }
    },
    {
      "cell_type": "markdown",
      "source": [
        "***` Monty Hall`***\n",
        "\n",
        "First, consider this situation, and how we can model it as a Bayesian network. Then, follow the notebook MontyHall- Problem.ipynb to understand how the model is implemented in pomegranate and how different inferences can be made. Explore the problem using the model in pomegranate:"
      ],
      "metadata": {
        "id": "fpHcrM6XH7c6"
      }
    },
    {
      "cell_type": "code",
      "source": [
        "!pip install pomegranate==0.13.0"
      ],
      "metadata": {
        "id": "rnZ-X8eVB9pH",
        "colab": {
          "base_uri": "https://localhost:8080/"
        },
        "outputId": "d07c9c9b-3406-4730-f948-86425780730e"
      },
      "execution_count": 2,
      "outputs": [
        {
          "output_type": "stream",
          "name": "stdout",
          "text": [
            "Looking in indexes: https://pypi.org/simple, https://us-python.pkg.dev/colab-wheels/public/simple/\n",
            "Collecting pomegranate==0.13.0\n",
            "  Downloading pomegranate-0.13.0.tar.gz (3.3 MB)\n",
            "\u001b[2K     \u001b[90m━━━━━━━━━━━━━━━━━━━━━━━━━━━━━━━━━━━━━━━━\u001b[0m \u001b[32m3.3/3.3 MB\u001b[0m \u001b[31m7.8 MB/s\u001b[0m eta \u001b[36m0:00:00\u001b[0m\n",
            "\u001b[?25h  Preparing metadata (setup.py) ... \u001b[?25l\u001b[?25hdone\n",
            "Requirement already satisfied: numpy>=1.8.0 in /usr/local/lib/python3.10/dist-packages (from pomegranate==0.13.0) (1.22.4)\n",
            "Requirement already satisfied: joblib>=0.9.0b4 in /usr/local/lib/python3.10/dist-packages (from pomegranate==0.13.0) (1.2.0)\n",
            "Requirement already satisfied: networkx>=2.0 in /usr/local/lib/python3.10/dist-packages (from pomegranate==0.13.0) (3.1)\n",
            "Requirement already satisfied: scipy>=0.17.0 in /usr/local/lib/python3.10/dist-packages (from pomegranate==0.13.0) (1.10.1)\n",
            "Requirement already satisfied: pyyaml in /usr/local/lib/python3.10/dist-packages (from pomegranate==0.13.0) (6.0)\n",
            "Building wheels for collected packages: pomegranate\n",
            "  Building wheel for pomegranate (setup.py) ... \u001b[?25l\u001b[?25hdone\n",
            "  Created wheel for pomegranate: filename=pomegranate-0.13.0-cp310-cp310-linux_x86_64.whl size=14265858 sha256=a22f32ee57f7cb1d8e22faee914380b000bb04254dfff20c328a216f8ae1ef14\n",
            "  Stored in directory: /root/.cache/pip/wheels/73/c1/c2/506ecde883bdab789bd89ee279a66f4d03d4730e5f2832656c\n",
            "Successfully built pomegranate\n",
            "Installing collected packages: pomegranate\n",
            "Successfully installed pomegranate-0.13.0\n"
          ]
        }
      ]
    },
    {
      "cell_type": "code",
      "source": [
        "!apt install libgraphviz-dev\n",
        "!pip uninstall pygraphviz -y\n",
        "!pip install pygraphviz"
      ],
      "metadata": {
        "colab": {
          "base_uri": "https://localhost:8080/"
        },
        "id": "QbZIkPaBG6u0",
        "outputId": "81183df6-ffd3-462c-ab3d-dfbeed83f328"
      },
      "execution_count": 4,
      "outputs": [
        {
          "output_type": "stream",
          "name": "stdout",
          "text": [
            "Reading package lists... Done\n",
            "Building dependency tree       \n",
            "Reading state information... Done\n",
            "The following additional packages will be installed:\n",
            "  libgail-common libgail18 libgtk2.0-0 libgtk2.0-bin libgtk2.0-common\n",
            "  libgvc6-plugins-gtk libxdot4\n",
            "Suggested packages:\n",
            "  gvfs\n",
            "The following NEW packages will be installed:\n",
            "  libgail-common libgail18 libgraphviz-dev libgtk2.0-0 libgtk2.0-bin\n",
            "  libgtk2.0-common libgvc6-plugins-gtk libxdot4\n",
            "0 upgraded, 8 newly installed, 0 to remove and 24 not upgraded.\n",
            "Need to get 2,148 kB of archives.\n",
            "After this operation, 7,427 kB of additional disk space will be used.\n",
            "Get:1 http://archive.ubuntu.com/ubuntu focal/main amd64 libgtk2.0-common all 2.24.32-4ubuntu4 [126 kB]\n",
            "Get:2 http://archive.ubuntu.com/ubuntu focal/main amd64 libgtk2.0-0 amd64 2.24.32-4ubuntu4 [1,791 kB]\n",
            "Get:3 http://archive.ubuntu.com/ubuntu focal/main amd64 libgail18 amd64 2.24.32-4ubuntu4 [14.7 kB]\n",
            "Get:4 http://archive.ubuntu.com/ubuntu focal/main amd64 libgail-common amd64 2.24.32-4ubuntu4 [116 kB]\n",
            "Get:5 http://archive.ubuntu.com/ubuntu focal/universe amd64 libxdot4 amd64 2.42.2-3build2 [15.4 kB]\n",
            "Get:6 http://archive.ubuntu.com/ubuntu focal/universe amd64 libgvc6-plugins-gtk amd64 2.42.2-3build2 [20.6 kB]\n",
            "Get:7 http://archive.ubuntu.com/ubuntu focal/universe amd64 libgraphviz-dev amd64 2.42.2-3build2 [57.2 kB]\n",
            "Get:8 http://archive.ubuntu.com/ubuntu focal/main amd64 libgtk2.0-bin amd64 2.24.32-4ubuntu4 [7,728 B]\n",
            "Fetched 2,148 kB in 1s (2,289 kB/s)\n",
            "Selecting previously unselected package libgtk2.0-common.\n",
            "(Reading database ... 122519 files and directories currently installed.)\n",
            "Preparing to unpack .../0-libgtk2.0-common_2.24.32-4ubuntu4_all.deb ...\n",
            "Unpacking libgtk2.0-common (2.24.32-4ubuntu4) ...\n",
            "Selecting previously unselected package libgtk2.0-0:amd64.\n",
            "Preparing to unpack .../1-libgtk2.0-0_2.24.32-4ubuntu4_amd64.deb ...\n",
            "Unpacking libgtk2.0-0:amd64 (2.24.32-4ubuntu4) ...\n",
            "Selecting previously unselected package libgail18:amd64.\n",
            "Preparing to unpack .../2-libgail18_2.24.32-4ubuntu4_amd64.deb ...\n",
            "Unpacking libgail18:amd64 (2.24.32-4ubuntu4) ...\n",
            "Selecting previously unselected package libgail-common:amd64.\n",
            "Preparing to unpack .../3-libgail-common_2.24.32-4ubuntu4_amd64.deb ...\n",
            "Unpacking libgail-common:amd64 (2.24.32-4ubuntu4) ...\n",
            "Selecting previously unselected package libxdot4:amd64.\n",
            "Preparing to unpack .../4-libxdot4_2.42.2-3build2_amd64.deb ...\n",
            "Unpacking libxdot4:amd64 (2.42.2-3build2) ...\n",
            "Selecting previously unselected package libgvc6-plugins-gtk.\n",
            "Preparing to unpack .../5-libgvc6-plugins-gtk_2.42.2-3build2_amd64.deb ...\n",
            "Unpacking libgvc6-plugins-gtk (2.42.2-3build2) ...\n",
            "Selecting previously unselected package libgraphviz-dev:amd64.\n",
            "Preparing to unpack .../6-libgraphviz-dev_2.42.2-3build2_amd64.deb ...\n",
            "Unpacking libgraphviz-dev:amd64 (2.42.2-3build2) ...\n",
            "Selecting previously unselected package libgtk2.0-bin.\n",
            "Preparing to unpack .../7-libgtk2.0-bin_2.24.32-4ubuntu4_amd64.deb ...\n",
            "Unpacking libgtk2.0-bin (2.24.32-4ubuntu4) ...\n",
            "Setting up libxdot4:amd64 (2.42.2-3build2) ...\n",
            "Setting up libgtk2.0-common (2.24.32-4ubuntu4) ...\n",
            "Setting up libgtk2.0-0:amd64 (2.24.32-4ubuntu4) ...\n",
            "Setting up libgvc6-plugins-gtk (2.42.2-3build2) ...\n",
            "Setting up libgail18:amd64 (2.24.32-4ubuntu4) ...\n",
            "Setting up libgtk2.0-bin (2.24.32-4ubuntu4) ...\n",
            "Setting up libgail-common:amd64 (2.24.32-4ubuntu4) ...\n",
            "Setting up libgraphviz-dev:amd64 (2.42.2-3build2) ...\n",
            "Processing triggers for man-db (2.9.1-1) ...\n",
            "Processing triggers for libc-bin (2.31-0ubuntu9.9) ...\n",
            "\u001b[33mWARNING: Skipping pygraphviz as it is not installed.\u001b[0m\u001b[33m\n",
            "\u001b[0mLooking in indexes: https://pypi.org/simple, https://us-python.pkg.dev/colab-wheels/public/simple/\n",
            "Collecting pygraphviz\n",
            "  Downloading pygraphviz-1.10.zip (120 kB)\n",
            "\u001b[2K     \u001b[90m━━━━━━━━━━━━━━━━━━━━━━━━━━━━━━━━━━━━━━━\u001b[0m \u001b[32m120.6/120.6 kB\u001b[0m \u001b[31m7.4 MB/s\u001b[0m eta \u001b[36m0:00:00\u001b[0m\n",
            "\u001b[?25h  Preparing metadata (setup.py) ... \u001b[?25l\u001b[?25hdone\n",
            "Building wheels for collected packages: pygraphviz\n",
            "  Building wheel for pygraphviz (setup.py) ... \u001b[?25l\u001b[?25hdone\n",
            "  Created wheel for pygraphviz: filename=pygraphviz-1.10-cp310-cp310-linux_x86_64.whl size=184063 sha256=9ecabde491d15e1d15748d48c7faf09e2dcfb1422fbbd2e4968b0f643716dd98\n",
            "  Stored in directory: /root/.cache/pip/wheels/e9/50/02/d9d68f6c947a928e517d5cd9af0ab007c1274fdba95fa9cbe3\n",
            "Successfully built pygraphviz\n",
            "Installing collected packages: pygraphviz\n",
            "Successfully installed pygraphviz-1.10\n"
          ]
        }
      ]
    },
    {
      "cell_type": "code",
      "source": [
        "from pomegranate import *\n",
        "import matplotlib.pyplot as plt\n",
        "import seaborn\n",
        "import numpy\n",
        "import pygraphviz\n",
        "\n",
        "seaborn.set_style('whitegrid')\n",
        "numpy.random.seed(0)\n",
        "numpy.set_printoptions(suppress=True)"
      ],
      "metadata": {
        "id": "ayLxI9KUHDFd"
      },
      "execution_count": 5,
      "outputs": []
    },
    {
      "cell_type": "code",
      "source": [
        "guest = DiscreteDistribution({'A':1/3,'B':1/3,'C':1/3})\n",
        "print(\"guest\",guest)\n",
        "print(\"parameters:\",guest.parameters)\n",
        "print(\"P(G=A)=\",guest.parameters[0][\"A\"])"
      ],
      "metadata": {
        "colab": {
          "base_uri": "https://localhost:8080/"
        },
        "id": "nQTnnGsDHEi_",
        "outputId": "aea113aa-ba9a-4aa4-e146-885499f80822"
      },
      "execution_count": 6,
      "outputs": [
        {
          "output_type": "stream",
          "name": "stdout",
          "text": [
            "guest {\n",
            "    \"class\" :\"Distribution\",\n",
            "    \"dtype\" :\"str\",\n",
            "    \"name\" :\"DiscreteDistribution\",\n",
            "    \"parameters\" :[\n",
            "        {\n",
            "            \"A\" :0.3333333333333333,\n",
            "            \"B\" :0.3333333333333333,\n",
            "            \"C\" :0.3333333333333333\n",
            "        }\n",
            "    ],\n",
            "    \"frozen\" :false\n",
            "}\n",
            "parameters: [{'A': 0.3333333333333333, 'B': 0.3333333333333333, 'C': 0.3333333333333333}]\n",
            "P(G=A)= 0.3333333333333333\n"
          ]
        }
      ]
    },
    {
      "cell_type": "code",
      "source": [
        "prize = DiscreteDistribution({'A':1/3,'B':1/3,'C':1/3})\n",
        "print(prize)"
      ],
      "metadata": {
        "colab": {
          "base_uri": "https://localhost:8080/"
        },
        "id": "bjp1tpcSHLQU",
        "outputId": "95ed0905-7748-4f9c-91c7-c0f15a3b8a5c"
      },
      "execution_count": 7,
      "outputs": [
        {
          "output_type": "stream",
          "name": "stdout",
          "text": [
            "{\n",
            "    \"class\" :\"Distribution\",\n",
            "    \"dtype\" :\"str\",\n",
            "    \"name\" :\"DiscreteDistribution\",\n",
            "    \"parameters\" :[\n",
            "        {\n",
            "            \"A\" :0.3333333333333333,\n",
            "            \"B\" :0.3333333333333333,\n",
            "            \"C\" :0.3333333333333333\n",
            "        }\n",
            "    ],\n",
            "    \"frozen\" :false\n",
            "}\n"
          ]
        }
      ]
    },
    {
      "cell_type": "code",
      "source": [
        "monty = ConditionalProbabilityTable(\n",
        "    # G    P   M  P(M|G,P)\n",
        "    [['A','A','A',0.0],\n",
        "     ['A','A','B',0.5],\n",
        "     ['A','A','C',0.5],\n",
        "     # sum = 1\n",
        "     ['A','B','A',0.0],\n",
        "     ['A','B','B',0.0],\n",
        "     ['A','B','C',1.0],\n",
        "     # sum = 1\n",
        "     ['A','C','A',0.0],\n",
        "     ['A','C','B',1.0],\n",
        "     ['A','C','C',0.0],\n",
        "     # sum = 1\n",
        "     ['B','A','A',0.0],\n",
        "     ['B','A','B',0.0],\n",
        "     ['B','A','C',1.0],\n",
        "     # sum = 1\n",
        "     ['B','B','A',0.5],\n",
        "     ['B','B','B',0.0],\n",
        "     ['B','B','C',0.5],\n",
        "     # sum = 1\n",
        "     ['B','C','A',1.0],\n",
        "     ['B','C','B',0.0],\n",
        "     ['B','C','C',0.0],\n",
        "     # sum = 1\n",
        "     ['C','A','A',0.0],\n",
        "     ['C','A','B',1.0],\n",
        "     ['C','A','C',0.0],\n",
        "     # sum = 1\n",
        "     ['C','B','A',1.0],\n",
        "     ['C','B','B',0.0],\n",
        "     ['C','B','C',0.0],\n",
        "     # sum = 1\n",
        "     ['C','C','A',0.5],\n",
        "     ['C','C','B',0.5],\n",
        "     ['C','C','C',0.0]\n",
        "     # sum = 1\n",
        "     ], \n",
        "     [guest,prize])\n",
        "print(monty)"
      ],
      "metadata": {
        "colab": {
          "base_uri": "https://localhost:8080/"
        },
        "id": "DHYTakD_HO9U",
        "outputId": "9af927db-5890-4a41-d567-05ac6711b812"
      },
      "execution_count": 8,
      "outputs": [
        {
          "output_type": "stream",
          "name": "stdout",
          "text": [
            "A\tA\tA\t0.0\n",
            "A\tA\tB\t0.5\n",
            "A\tA\tC\t0.5\n",
            "A\tB\tA\t0.0\n",
            "A\tB\tB\t0.0\n",
            "A\tB\tC\t1.0\n",
            "A\tC\tA\t0.0\n",
            "A\tC\tB\t1.0\n",
            "A\tC\tC\t0.0\n",
            "B\tA\tA\t0.0\n",
            "B\tA\tB\t0.0\n",
            "B\tA\tC\t1.0\n",
            "B\tB\tA\t0.5\n",
            "B\tB\tB\t0.0\n",
            "B\tB\tC\t0.5\n",
            "B\tC\tA\t1.0\n",
            "B\tC\tB\t0.0\n",
            "B\tC\tC\t0.0\n",
            "C\tA\tA\t0.0\n",
            "C\tA\tB\t1.0\n",
            "C\tA\tC\t0.0\n",
            "C\tB\tA\t1.0\n",
            "C\tB\tB\t0.0\n",
            "C\tB\tC\t0.0\n",
            "C\tC\tA\t0.5\n",
            "C\tC\tB\t0.5\n",
            "C\tC\tC\t0.0\n"
          ]
        }
      ]
    },
    {
      "cell_type": "code",
      "source": [
        "# State objects hold both the distribution, and a high level name\n",
        "s_g = State(guest,name='guest')\n",
        "s_p = State(prize,name='prize')\n",
        "s_m = State(monty,name='monty')"
      ],
      "metadata": {
        "id": "92VNLM6WHSL2"
      },
      "execution_count": 9,
      "outputs": []
    },
    {
      "cell_type": "code",
      "source": [
        "# Bayesian network\n",
        "model = BayesianNetwork(\"Monty Hall Problem\")\n",
        "print(model.name)"
      ],
      "metadata": {
        "colab": {
          "base_uri": "https://localhost:8080/"
        },
        "id": "G6e52JRBI3CT",
        "outputId": "0497602c-6c1a-40a8-e1dd-4e3e733803cd"
      },
      "execution_count": 10,
      "outputs": [
        {
          "output_type": "stream",
          "name": "stdout",
          "text": [
            "Monty Hall Problem\n"
          ]
        }
      ]
    },
    {
      "cell_type": "code",
      "source": [
        "model.add_states(s_g,s_p,s_m) # order is unimportant now, but *should* be considered later\n",
        "print(model) # we can explore and check the output"
      ],
      "metadata": {
        "colab": {
          "base_uri": "https://localhost:8080/"
        },
        "id": "NKh8_3i7I_VU",
        "outputId": "33e00c2e-eec9-4544-df77-2291acd7312a"
      },
      "execution_count": 11,
      "outputs": [
        {
          "output_type": "stream",
          "name": "stdout",
          "text": [
            "Monty Hall Problem:{\n",
            "    \"class\" : \"State\",\n",
            "    \"distribution\" : {\n",
            "        \"class\" : \"Distribution\",\n",
            "        \"dtype\" : \"str\",\n",
            "        \"name\" : \"DiscreteDistribution\",\n",
            "        \"parameters\" : [\n",
            "            {\n",
            "                \"A\" : 0.3333333333333333,\n",
            "                \"B\" : 0.3333333333333333,\n",
            "                \"C\" : 0.3333333333333333\n",
            "            }\n",
            "        ],\n",
            "        \"frozen\" : false\n",
            "    },\n",
            "    \"name\" : \"guest\",\n",
            "    \"weight\" : 1.0\n",
            "}{\n",
            "    \"class\" : \"State\",\n",
            "    \"distribution\" : {\n",
            "        \"class\" : \"Distribution\",\n",
            "        \"dtype\" : \"str\",\n",
            "        \"name\" : \"DiscreteDistribution\",\n",
            "        \"parameters\" : [\n",
            "            {\n",
            "                \"A\" : 0.3333333333333333,\n",
            "                \"B\" : 0.3333333333333333,\n",
            "                \"C\" : 0.3333333333333333\n",
            "            }\n",
            "        ],\n",
            "        \"frozen\" : false\n",
            "    },\n",
            "    \"name\" : \"prize\",\n",
            "    \"weight\" : 1.0\n",
            "}{\n",
            "    \"class\" : \"State\",\n",
            "    \"distribution\" : {\n",
            "        \"class\" : \"Distribution\",\n",
            "        \"name\" : \"ConditionalProbabilityTable\",\n",
            "        \"table\" : [\n",
            "            [\n",
            "                \"A\",\n",
            "                \"A\",\n",
            "                \"A\",\n",
            "                \"0.0\"\n",
            "            ],\n",
            "            [\n",
            "                \"A\",\n",
            "                \"A\",\n",
            "                \"B\",\n",
            "                \"0.5\"\n",
            "            ],\n",
            "            [\n",
            "                \"A\",\n",
            "                \"A\",\n",
            "                \"C\",\n",
            "                \"0.5\"\n",
            "            ],\n",
            "            [\n",
            "                \"A\",\n",
            "                \"B\",\n",
            "                \"A\",\n",
            "                \"0.0\"\n",
            "            ],\n",
            "            [\n",
            "                \"A\",\n",
            "                \"B\",\n",
            "                \"B\",\n",
            "                \"0.0\"\n",
            "            ],\n",
            "            [\n",
            "                \"A\",\n",
            "                \"B\",\n",
            "                \"C\",\n",
            "                \"1.0\"\n",
            "            ],\n",
            "            [\n",
            "                \"A\",\n",
            "                \"C\",\n",
            "                \"A\",\n",
            "                \"0.0\"\n",
            "            ],\n",
            "            [\n",
            "                \"A\",\n",
            "                \"C\",\n",
            "                \"B\",\n",
            "                \"1.0\"\n",
            "            ],\n",
            "            [\n",
            "                \"A\",\n",
            "                \"C\",\n",
            "                \"C\",\n",
            "                \"0.0\"\n",
            "            ],\n",
            "            [\n",
            "                \"B\",\n",
            "                \"A\",\n",
            "                \"A\",\n",
            "                \"0.0\"\n",
            "            ],\n",
            "            [\n",
            "                \"B\",\n",
            "                \"A\",\n",
            "                \"B\",\n",
            "                \"0.0\"\n",
            "            ],\n",
            "            [\n",
            "                \"B\",\n",
            "                \"A\",\n",
            "                \"C\",\n",
            "                \"1.0\"\n",
            "            ],\n",
            "            [\n",
            "                \"B\",\n",
            "                \"B\",\n",
            "                \"A\",\n",
            "                \"0.5\"\n",
            "            ],\n",
            "            [\n",
            "                \"B\",\n",
            "                \"B\",\n",
            "                \"B\",\n",
            "                \"0.0\"\n",
            "            ],\n",
            "            [\n",
            "                \"B\",\n",
            "                \"B\",\n",
            "                \"C\",\n",
            "                \"0.5\"\n",
            "            ],\n",
            "            [\n",
            "                \"B\",\n",
            "                \"C\",\n",
            "                \"A\",\n",
            "                \"1.0\"\n",
            "            ],\n",
            "            [\n",
            "                \"B\",\n",
            "                \"C\",\n",
            "                \"B\",\n",
            "                \"0.0\"\n",
            "            ],\n",
            "            [\n",
            "                \"B\",\n",
            "                \"C\",\n",
            "                \"C\",\n",
            "                \"0.0\"\n",
            "            ],\n",
            "            [\n",
            "                \"C\",\n",
            "                \"A\",\n",
            "                \"A\",\n",
            "                \"0.0\"\n",
            "            ],\n",
            "            [\n",
            "                \"C\",\n",
            "                \"A\",\n",
            "                \"B\",\n",
            "                \"1.0\"\n",
            "            ],\n",
            "            [\n",
            "                \"C\",\n",
            "                \"A\",\n",
            "                \"C\",\n",
            "                \"0.0\"\n",
            "            ],\n",
            "            [\n",
            "                \"C\",\n",
            "                \"B\",\n",
            "                \"A\",\n",
            "                \"1.0\"\n",
            "            ],\n",
            "            [\n",
            "                \"C\",\n",
            "                \"B\",\n",
            "                \"B\",\n",
            "                \"0.0\"\n",
            "            ],\n",
            "            [\n",
            "                \"C\",\n",
            "                \"B\",\n",
            "                \"C\",\n",
            "                \"0.0\"\n",
            "            ],\n",
            "            [\n",
            "                \"C\",\n",
            "                \"C\",\n",
            "                \"A\",\n",
            "                \"0.5\"\n",
            "            ],\n",
            "            [\n",
            "                \"C\",\n",
            "                \"C\",\n",
            "                \"B\",\n",
            "                \"0.5\"\n",
            "            ],\n",
            "            [\n",
            "                \"C\",\n",
            "                \"C\",\n",
            "                \"C\",\n",
            "                \"0.0\"\n",
            "            ]\n",
            "        ],\n",
            "        \"dtypes\" : [\n",
            "            \"str\",\n",
            "            \"str\",\n",
            "            \"str\",\n",
            "            \"float\"\n",
            "        ],\n",
            "        \"parents\" : [\n",
            "            {\n",
            "                \"class\" : \"Distribution\",\n",
            "                \"dtype\" : \"str\",\n",
            "                \"name\" : \"DiscreteDistribution\",\n",
            "                \"parameters\" : [\n",
            "                    {\n",
            "                        \"A\" : 0.3333333333333333,\n",
            "                        \"B\" : 0.3333333333333333,\n",
            "                        \"C\" : 0.3333333333333333\n",
            "                    }\n",
            "                ],\n",
            "                \"frozen\" : false\n",
            "            },\n",
            "            {\n",
            "                \"class\" : \"Distribution\",\n",
            "                \"dtype\" : \"str\",\n",
            "                \"name\" : \"DiscreteDistribution\",\n",
            "                \"parameters\" : [\n",
            "                    {\n",
            "                        \"A\" : 0.3333333333333333,\n",
            "                        \"B\" : 0.3333333333333333,\n",
            "                        \"C\" : 0.3333333333333333\n",
            "                    }\n",
            "                ],\n",
            "                \"frozen\" : false\n",
            "            }\n",
            "        ]\n",
            "    },\n",
            "    \"name\" : \"monty\",\n",
            "    \"weight\" : 1.0\n",
            "}\n"
          ]
        }
      ]
    },
    {
      "cell_type": "code",
      "source": [
        "# add_edge(parent,child) parent -> child\n",
        "model.add_edge(s_g,s_m) \n",
        "model.add_edge(s_p,s_m)"
      ],
      "metadata": {
        "id": "xy4EKPfmJE3x"
      },
      "execution_count": 12,
      "outputs": []
    },
    {
      "cell_type": "code",
      "source": [
        "# draw network (graph)\n",
        "\n",
        "model.plot()\n",
        "\n",
        "#print(model)"
      ],
      "metadata": {
        "colab": {
          "base_uri": "https://localhost:8080/",
          "height": 406
        },
        "id": "K9KHKBP4JH2q",
        "outputId": "3d1afccc-c5a5-4d12-83d1-2c8999c2c7a8"
      },
      "execution_count": 13,
      "outputs": [
        {
          "output_type": "display_data",
          "data": {
            "text/plain": [
              "<Figure size 640x480 with 1 Axes>"
            ],
            "image/png": "[encoded data removed]"
          },
          "metadata": {}
        }
      ]
    },
    {
      "cell_type": "code",
      "source": [
        "# Prepare for internal computations (factor graphs in BN)\n",
        "model.bake()"
      ],
      "metadata": {
        "id": "TGRsrhFvJ3SB"
      },
      "execution_count": 14,
      "outputs": []
    },
    {
      "cell_type": "code",
      "source": [
        "# probability that you initially said door A, that Monty then opened door B, but that the actual car was behind door C\n",
        "# P(Guest=A,Monty=B,Prize=C) = P(Guest=A)*P(Prize=B)*P(Monty=B|Guest=A,Prize=C) = 1/3 * 1/3 * 1 = 1/9 = 0.111111\n",
        "model.probability([['A','C','B']]) # IMPORTANT: in the order in which states were added to the model via add_states"
      ],
      "metadata": {
        "id": "YSiXWCt2J8-4",
        "colab": {
          "base_uri": "https://localhost:8080/"
        },
        "outputId": "5ad8ae9b-7a28-4033-c31f-80062be4f8ed"
      },
      "execution_count": 15,
      "outputs": [
        {
          "output_type": "execute_result",
          "data": {
            "text/plain": [
              "0.11111111111111109"
            ]
          },
          "metadata": {},
          "execution_count": 15
        }
      ]
    },
    {
      "cell_type": "code",
      "source": [
        "# probability of initially saying door A, that Monty opened door B, and that the car was actually behind door B\n",
        "# Impossible situation because Monty will not open the door with the prize :)\n",
        "model.probability([['A','B','B']])"
      ],
      "metadata": {
        "id": "pw6MImOjJ915",
        "colab": {
          "base_uri": "https://localhost:8080/"
        },
        "outputId": "9628222d-d6d7-4b7a-a00b-a351b5585cc2"
      },
      "execution_count": 16,
      "outputs": [
        {
          "output_type": "execute_result",
          "data": {
            "text/plain": [
              "0.0"
            ]
          },
          "metadata": {},
          "execution_count": 16
        }
      ]
    },
    {
      "cell_type": "code",
      "source": [
        "p = model.predict_proba({})\n",
        "# marginal distribution for each variable, in the same order they were put into the model. \n",
        "# In this case, they represent the guest, prize, and monty variables, respectively. \n",
        "# We see that everything is equally likely before knowing anything about chosen doors.\n",
        "print(p)"
      ],
      "metadata": {
        "id": "-9gbMY1VKFN6",
        "colab": {
          "base_uri": "https://localhost:8080/"
        },
        "outputId": "02123f40-599b-4710-cb22-18aeae337062"
      },
      "execution_count": 17,
      "outputs": [
        {
          "output_type": "stream",
          "name": "stdout",
          "text": [
            "[{\n",
            "     \"class\" :\"Distribution\",\n",
            "     \"dtype\" :\"str\",\n",
            "     \"name\" :\"DiscreteDistribution\",\n",
            "     \"parameters\" :[\n",
            "         {\n",
            "             \"A\" :0.33333333333333337,\n",
            "             \"B\" :0.33333333333333337,\n",
            "             \"C\" :0.33333333333333337\n",
            "         }\n",
            "     ],\n",
            "     \"frozen\" :false\n",
            " }\n",
            " {\n",
            "     \"class\" :\"Distribution\",\n",
            "     \"dtype\" :\"str\",\n",
            "     \"name\" :\"DiscreteDistribution\",\n",
            "     \"parameters\" :[\n",
            "         {\n",
            "             \"A\" :0.33333333333333337,\n",
            "             \"B\" :0.33333333333333337,\n",
            "             \"C\" :0.33333333333333337\n",
            "         }\n",
            "     ],\n",
            "     \"frozen\" :false\n",
            " }\n",
            " {\n",
            "     \"class\" :\"Distribution\",\n",
            "     \"dtype\" :\"str\",\n",
            "     \"name\" :\"DiscreteDistribution\",\n",
            "     \"parameters\" :[\n",
            "         {\n",
            "             \"C\" :0.3333333333333333,\n",
            "             \"A\" :0.3333333333333333,\n",
            "             \"B\" :0.3333333333333333\n",
            "         }\n",
            "     ],\n",
            "     \"frozen\" :false\n",
            " }                                   ]\n"
          ]
        }
      ]
    },
    {
      "cell_type": "code",
      "source": [
        "# None or np.nan represents an unobserved variable\n",
        "# The same as above\n",
        "p = model.predict_proba([[None, None, None]])\n",
        "G,P,M=0,1,2\n",
        "print(p[0][G].parameters)\n",
        "print(p[0][P].parameters)\n",
        "print(p[0][M].parameters)\n",
        "\n",
        "# The same with a loop\n",
        "for variable in ['G','P','M']:\n",
        "  print(\"P(\"+variable+\") = \",p[0][eval(variable)].parameters)"
      ],
      "metadata": {
        "id": "GyZZvVpMK-Ot",
        "colab": {
          "base_uri": "https://localhost:8080/"
        },
        "outputId": "de9b097e-b00e-49be-ffe8-92b0f617e8d9"
      },
      "execution_count": 18,
      "outputs": [
        {
          "output_type": "stream",
          "name": "stdout",
          "text": [
            "[{'A': 0.33333333333333337, 'B': 0.33333333333333337, 'C': 0.33333333333333337}]\n",
            "[{'A': 0.33333333333333337, 'B': 0.33333333333333337, 'C': 0.33333333333333337}]\n",
            "[{'C': 0.3333333333333333, 'A': 0.3333333333333333, 'B': 0.3333333333333333}]\n",
            "P(G) =  [{'A': 0.33333333333333337, 'B': 0.33333333333333337, 'C': 0.33333333333333337}]\n",
            "P(P) =  [{'A': 0.33333333333333337, 'B': 0.33333333333333337, 'C': 0.33333333333333337}]\n",
            "P(M) =  [{'C': 0.3333333333333333, 'A': 0.3333333333333333, 'B': 0.3333333333333333}]\n"
          ]
        },
        {
          "output_type": "stream",
          "name": "stderr",
          "text": [
            "<ipython-input-18-746be6607bf2>:3: DeprecationWarning: `np.float` is a deprecated alias for the builtin `float`. To silence this warning, use `float` by itself. Doing this will not modify any behavior and is safe. If you specifically wanted the numpy scalar type, use `np.float64` here.\n",
            "Deprecated in NumPy 1.20; for more details and guidance: https://numpy.org/devdocs/release/1.20.0-notes.html#deprecations\n",
            "  p = model.predict_proba([[None, None, None]])\n"
          ]
        }
      ]
    },
    {
      "cell_type": "code",
      "source": [
        "# Now with some evidences\n",
        "\n",
        "# If guest chooses door A\n",
        "X = [['A', None, None]]\n",
        "p = model.predict_proba(X) #  matrix of posterior probabilities P(M|D)\n",
        "#print(p)\n",
        "print(\"Guest choice:\",p[0][0]) # This has fixed value for the variable \"guest\" since we assign the value; so, no parameters\n",
        "print(\"Prize probabilities:\",p[0][1].parameters) # Where the prize is? Note this is unaffected by door chosen\n",
        "print(\"Monty probabilities:\",p[0][2].parameters) # Which door will the presenter open? Since guest chose one door, only the two other doors are (equally) possible\n",
        "\n",
        "print(model.predict(X)) # arg max over the matrix that model.predict_proba(X) computes. Note that there are other choices with the same max probability (!)"
      ],
      "metadata": {
        "id": "dmU773KVLBnV",
        "colab": {
          "base_uri": "https://localhost:8080/"
        },
        "outputId": "008fe26b-f2af-45c8-84a7-e0e32734879e"
      },
      "execution_count": 19,
      "outputs": [
        {
          "output_type": "stream",
          "name": "stdout",
          "text": [
            "Guest choice: A\n",
            "Prize probabilities: [{'A': 0.3333333333333333, 'B': 0.3333333333333333, 'C': 0.3333333333333333}]\n",
            "Monty probabilities: [{'C': 0.49999999999999983, 'A': 0.0, 'B': 0.49999999999999983}]\n",
            "[array(['A', 'A', 'C'], dtype=object)]\n"
          ]
        },
        {
          "output_type": "stream",
          "name": "stderr",
          "text": [
            "<ipython-input-19-85d396cd1419>:5: DeprecationWarning: `np.float` is a deprecated alias for the builtin `float`. To silence this warning, use `float` by itself. Doing this will not modify any behavior and is safe. If you specifically wanted the numpy scalar type, use `np.float64` here.\n",
            "Deprecated in NumPy 1.20; for more details and guidance: https://numpy.org/devdocs/release/1.20.0-notes.html#deprecations\n",
            "  p = model.predict_proba(X) #  matrix of posterior probabilities P(M|D)\n",
            "<ipython-input-19-85d396cd1419>:11: DeprecationWarning: `np.float` is a deprecated alias for the builtin `float`. To silence this warning, use `float` by itself. Doing this will not modify any behavior and is safe. If you specifically wanted the numpy scalar type, use `np.float64` here.\n",
            "Deprecated in NumPy 1.20; for more details and guidance: https://numpy.org/devdocs/release/1.20.0-notes.html#deprecations\n",
            "  print(model.predict(X)) # arg max over the matrix that model.predict_proba(X) computes. Note that there are other choices with the same max probability (!)\n"
          ]
        }
      ]
    },
    {
      "cell_type": "code",
      "source": [
        "# If guest chooses door A and Monty opens door B\n",
        "p=model.predict_proba({'guest':'A','monty':'B'}) # now we use an alternative notation with a dictionary rather than a list\n",
        "print(p)\n",
        "print(\"P(Prize|Guest=A,Monty=B)=\", p[1].parameters) # notice the double chance the other door has the prize"
      ],
      "metadata": {
        "id": "N84V15VJLFke",
        "colab": {
          "base_uri": "https://localhost:8080/"
        },
        "outputId": "814944b8-6990-4682-e6a3-f62f8eb27297"
      },
      "execution_count": 20,
      "outputs": [
        {
          "output_type": "stream",
          "name": "stdout",
          "text": [
            "['A' {\n",
            "         \"class\" :\"Distribution\",\n",
            "         \"dtype\" :\"str\",\n",
            "         \"name\" :\"DiscreteDistribution\",\n",
            "         \"parameters\" :[\n",
            "             {\n",
            "                 \"A\" :0.3333333333333334,\n",
            "                 \"B\" :0.0,\n",
            "                 \"C\" :0.6666666666666664\n",
            "             }\n",
            "         ],\n",
            "         \"frozen\" :false\n",
            "     }                                    'B']\n",
            "P(Prize|Guest=A,Monty=B)= [{'A': 0.3333333333333334, 'B': 0.0, 'C': 0.6666666666666664}]\n"
          ]
        }
      ]
    },
    {
      "cell_type": "markdown",
      "source": [
        "MH1. Where in the code can you visually check that ∑ P(M|G=g0,P= p0)=1,\n",
        "M∈{A,B}\n",
        "for any fixed values g0 and p0?"
      ],
      "metadata": {
        "id": "N5NOTPZTKvR8"
      }
    },
    {
      "cell_type": "code",
      "source": [
        "\"\"\"\n",
        "Podemos observar que todas las probabilidades introducidas\n",
        "la suma debe de ser obligatoriamente 1. \n",
        "\n",
        "monty = ConditionalProbabilityTable(\n",
        "    # G    P   M  P(M|G,P)\n",
        "    [['A','A','A',0.0],\n",
        "     ['A','A','B',0.5],\n",
        "     ['A','A','C',0.5],\n",
        "     # sum = 1.             <--\n",
        "     ['A','B','A',0.0],\n",
        "     ['A','B','B',0.0],\n",
        "     ['A','B','C',1.0],\n",
        "     # sum = 1              <--\n",
        "     ['A','C','A',0.0],\n",
        "     ['A','C','B',1.0],\n",
        "     ['A','C','C',0.0],\n",
        "     # sum = 1              <--\n",
        "     ['B','A','A',0.0],\n",
        "     ['B','A','B',0.0],\n",
        "     ['B','A','C',1.0],\n",
        "     # sum = 1             <-- ...\n",
        "     ['B','B','A',0.5],\n",
        "     ['B','B','B',0.0],\n",
        "     ['B','B','C',0.5],\n",
        "     # sum = 1\n",
        "     ['B','C','A',1.0],\n",
        "     ['B','C','B',0.0],\n",
        "     ['B','C','C',0.0],\n",
        "     # sum = 1\n",
        "     ['C','A','A',0.0],\n",
        "     ['C','A','B',1.0],\n",
        "     ['C','A','C',0.0],\n",
        "     # sum = 1\n",
        "     ['C','B','A',1.0],\n",
        "     ['C','B','B',0.0],\n",
        "     ['C','B','C',0.0],\n",
        "     # sum = 1\n",
        "     ['C','C','A',0.5],\n",
        "     ['C','C','B',0.5],\n",
        "     ['C','C','C',0.0]\n",
        "     # sum = 1\n",
        "     ], \n",
        "     [guest,prize])\n",
        "\"\"\""
      ],
      "metadata": {
        "id": "uCYHJlmvNshp",
        "colab": {
          "base_uri": "https://localhost:8080/",
          "height": 152
        },
        "outputId": "661629ae-8161-4ceb-81ab-6f10e63131cd"
      },
      "execution_count": 21,
      "outputs": [
        {
          "output_type": "execute_result",
          "data": {
            "text/plain": [
              "\"\\nPodemos observar que todas las probabilidades introducidas\\nla suma debe de ser obligatoriamente 1. \\n\\nmonty = ConditionalProbabilityTable(\\n    # G    P   M  P(M|G,P)\\n    [['A','A','A',0.0],\\n     ['A','A','B',0.5],\\n     ['A','A','C',0.5],\\n     # sum = 1.             <--\\n     ['A','B','A',0.0],\\n     ['A','B','B',0.0],\\n     ['A','B','C',1.0],\\n     # sum = 1              <--\\n     ['A','C','A',0.0],\\n     ['A','C','B',1.0],\\n     ['A','C','C',0.0],\\n     # sum = 1              <--\\n     ['B','A','A',0.0],\\n     ['B','A','B',0.0],\\n     ['B','A','C',1.0],\\n     # sum = 1             <-- ...\\n     ['B','B','A',0.5],\\n     ['B','B','B',0.0],\\n     ['B','B','C',0.5],\\n     # sum = 1\\n     ['B','C','A',1.0],\\n     ['B','C','B',0.0],\\n     ['B','C','C',0.0],\\n     # sum = 1\\n     ['C','A','A',0.0],\\n     ['C','A','B',1.0],\\n     ['C','A','C',0.0],\\n     # sum = 1\\n     ['C','B','A',1.0],\\n     ['C','B','B',0.0],\\n     ['C','B','C',0.0],\\n     # sum = 1\\n     ['C','C','A',0.5],\\n     ['C','C','B',0.5],\\n     ['C','C','C',0.0]\\n     # sum = 1\\n     ], \\n     [guest,prize])\\n\""
            ],
            "application/vnd.google.colaboratory.intrinsic+json": {
              "type": "string"
            }
          },
          "metadata": {},
          "execution_count": 21
        }
      ]
    },
    {
      "cell_type": "markdown",
      "source": [
        "MH2. Find out some probabilities such as P(G,M = A,P), and P(G|M = A,P = B)."
      ],
      "metadata": {
        "id": "Rkg2wi5XPCtz"
      }
    },
    {
      "cell_type": "code",
      "source": [
        "# Now with some evidences\n",
        "\n",
        "# If MONTY chooses door A\n",
        "X = [[ None, None, 'A']]\n",
        "p = model.predict_proba(X) \n",
        "print(p)"
      ],
      "metadata": {
        "id": "lmEHo3iBNsEq",
        "colab": {
          "base_uri": "https://localhost:8080/"
        },
        "outputId": "de5bb354-efc1-45b6-baed-a4ea52fe4b77"
      },
      "execution_count": 22,
      "outputs": [
        {
          "output_type": "stream",
          "name": "stdout",
          "text": [
            "[array([{\n",
            "           \"class\" :\"Distribution\",\n",
            "           \"dtype\" :\"str\",\n",
            "           \"name\" :\"DiscreteDistribution\",\n",
            "           \"parameters\" :[\n",
            "               {\n",
            "                   \"A\" :0.0,\n",
            "                   \"B\" :0.49999999999999983,\n",
            "                   \"C\" :0.49999999999999983\n",
            "               }\n",
            "           ],\n",
            "           \"frozen\" :false\n",
            "       }                                    ,\n",
            "       {\n",
            "           \"class\" :\"Distribution\",\n",
            "           \"dtype\" :\"str\",\n",
            "           \"name\" :\"DiscreteDistribution\",\n",
            "           \"parameters\" :[\n",
            "               {\n",
            "                   \"A\" :0.0,\n",
            "                   \"B\" :0.49999999999999983,\n",
            "                   \"C\" :0.49999999999999983\n",
            "               }\n",
            "           ],\n",
            "           \"frozen\" :false\n",
            "       }                                    , 'A'], dtype=object)]\n"
          ]
        },
        {
          "output_type": "stream",
          "name": "stderr",
          "text": [
            "<ipython-input-22-8dd975648978>:5: DeprecationWarning: `np.float` is a deprecated alias for the builtin `float`. To silence this warning, use `float` by itself. Doing this will not modify any behavior and is safe. If you specifically wanted the numpy scalar type, use `np.float64` here.\n",
            "Deprecated in NumPy 1.20; for more details and guidance: https://numpy.org/devdocs/release/1.20.0-notes.html#deprecations\n",
            "  p = model.predict_proba(X)\n"
          ]
        }
      ]
    },
    {
      "cell_type": "code",
      "source": [
        "# If MONTY chooses door A and PRICE in door B\n",
        "p=model.predict_proba({'price':'B','monty':'A'}) # now we use an alternative notation with a dictionary rather than a list\n",
        "print(\"P(Guest|Price=B,Monty=A)=\", p[1].parameters) # notice the double chance the other door has the prize"
      ],
      "metadata": {
        "id": "4Ltj66yZRc8O",
        "colab": {
          "base_uri": "https://localhost:8080/"
        },
        "outputId": "27118a1a-57fd-4af6-b0c8-013966157fe2"
      },
      "execution_count": 23,
      "outputs": [
        {
          "output_type": "stream",
          "name": "stdout",
          "text": [
            "P(Guest|Price=B,Monty=A)= [{'A': 0.0, 'B': 0.49999999999999983, 'C': 0.49999999999999983}]\n"
          ]
        }
      ]
    },
    {
      "cell_type": "markdown",
      "source": [
        "MH3. Show that guests are more likely to win if they change their mind after Monty opens a door."
      ],
      "metadata": {
        "id": "cEfTPTOTTAj8"
      }
    },
    {
      "cell_type": "code",
      "source": [
        "# If guest chooses door A and Monty opens door B\n",
        "p=model.predict_proba({'guest':'A','monty':'B'}) # now we use an alternative notation with a dictionary rather than a list\n",
        "print(p)\n",
        "print(\"P(Prize|Guest=A,Monty=B)=\", p[1].parameters) # notice the double chance the other door has the prize\n",
        "\n",
        "\"\"\"\n",
        " Si cambian de opinión después de que Monty abre una puerta, tiene el doble de probabilidad\n",
        " de ganar el premio, como podemos demostrar con este ejemplo.\n",
        "\"\"\""
      ],
      "metadata": {
        "id": "AqiN1xjNTHfj",
        "colab": {
          "base_uri": "https://localhost:8080/",
          "height": 284
        },
        "outputId": "e1a3a1e1-dca9-4d3d-c653-26983d7d3274"
      },
      "execution_count": 24,
      "outputs": [
        {
          "output_type": "stream",
          "name": "stdout",
          "text": [
            "['A' {\n",
            "         \"class\" :\"Distribution\",\n",
            "         \"dtype\" :\"str\",\n",
            "         \"name\" :\"DiscreteDistribution\",\n",
            "         \"parameters\" :[\n",
            "             {\n",
            "                 \"A\" :0.3333333333333334,\n",
            "                 \"B\" :0.0,\n",
            "                 \"C\" :0.6666666666666664\n",
            "             }\n",
            "         ],\n",
            "         \"frozen\" :false\n",
            "     }                                    'B']\n",
            "P(Prize|Guest=A,Monty=B)= [{'A': 0.3333333333333334, 'B': 0.0, 'C': 0.6666666666666664}]\n"
          ]
        },
        {
          "output_type": "execute_result",
          "data": {
            "text/plain": [
              "'\\n Si cambian de opinión después de que Monty abre una puerta, tiene el doble de probabilidad\\n de ganar el premio, como podemos demostrar con este ejemplo de la red bayesiana.\\n'"
            ],
            "application/vnd.google.colaboratory.intrinsic+json": {
              "type": "string"
            }
          },
          "metadata": {},
          "execution_count": 24
        }
      ]
    }
  ]
}