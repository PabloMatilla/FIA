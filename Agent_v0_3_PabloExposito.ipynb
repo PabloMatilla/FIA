{
  "nbformat": 4,
  "nbformat_minor": 0,
  "metadata": {
    "colab": {
      "provenance": []
    },
    "kernelspec": {
      "name": "python3",
      "display_name": "Python 3"
    },
    "language_info": {
      "name": "python"
    }
  },
  "cells": [
    {
      "cell_type": "markdown",
      "source": [
        "# SESSION 3: AGENT WITH HEURISTIC PLANNING CAPABILITIES"
      ],
      "metadata": {
        "id": "mzX8epPQjChm"
      }
    },
    {
      "cell_type": "code",
      "execution_count": 73,
      "metadata": {
        "id": "QfLT_aanMKo_"
      },
      "outputs": [],
      "source": [
        "import numpy as np\n",
        "from random import choice,randint,shuffle,random"
      ]
    },
    {
      "cell_type": "markdown",
      "source": [
        "## A* "
      ],
      "metadata": {
        "id": "KBFID9VzjKul"
      }
    },
    {
      "cell_type": "code",
      "source": [
        "class search_node:\n",
        "  def __init__(self, state, parent, action, path_cost, gn):\n",
        "    self.state  = state\n",
        "    self.parent = parent\n",
        "    self.action = action\n",
        "    self.path_cost = path_cost\n",
        "    self.gn = gn\n",
        "    self.fn = path_cost + gn\n",
        "\n",
        "  def is_equal_to(self, node):\n",
        "    return np.array_equal(self.state, node.state)\n",
        "\n",
        "\n",
        "def create_successor(env, parent, action, end_node):\n",
        "\n",
        "      state = env.execute(parent, action, end_node.state)\n",
        "      if type(state) == type(None): return None\n",
        "      #We assume that all actions has cost 1\n",
        "      new_node = search_node(state, parent, action,\n",
        "                             parent.path_cost + 1/env.KB[\"cells\"][state[0], \n",
        "                             state[1]],manhattan(state, end_node.state))\n",
        "\n",
        "      return new_node\n",
        "\n",
        "\n",
        "\n",
        "## ALGORITHM A* \n",
        "\n",
        "def check_frontier(child, frontier):\n",
        "   # replace frontier nodes with same state\n",
        "   # but greater cost\n",
        "   for i in range(len(frontier)):\n",
        "       n = frontier[i]\n",
        "       if n.is_equal_to(child):\n",
        "          if child.fn < n.fn:\n",
        "             frontier[i] = child\n",
        "             return True\n",
        "   return False\n",
        "\n",
        "def a_star(env, start_node, end_node):\n",
        "  frontier = []\n",
        "  visited = []\n",
        "  frontier.append(start_node)\n",
        "  while frontier:\n",
        "    #sort the frontier nodes by f(n)\n",
        "    frontier.sort(key=lambda n: n.fn)\n",
        "    # get the next node from the frontier\n",
        "    node = frontier.pop(0)\n",
        "    # check if visited\n",
        "    if str(node.state) in visited:\n",
        "      continue\n",
        "   # mark the node as visited\n",
        "    visited.append(str(node.state))\n",
        "    # check if the node is the goal\n",
        "    if node.is_equal_to(end_node):\n",
        "      return node    # SUCCESS\n",
        "    # expand the frontier\n",
        "    for action in env.actions:\n",
        "      if not env.valid_action(node.state, action): continue\n",
        "      child = create_successor(env, node, action, end_node)\n",
        "      if type(child) == type(None): continue\n",
        "      if not check_frontier(child, frontier):\n",
        "        frontier.append(child)\n",
        "  #FAILURE\n",
        "  return None\n",
        "\n",
        "\n",
        "\n",
        "def search_path(env, Ini, End):\n",
        "\n",
        "  start_node = search_node(Ini, None, None, 0, 0)\n",
        "  end_node   = search_node(End, None, None, 0, 0)\n",
        "\n",
        "  solution = a_star(env, start_node, end_node)\n",
        "\n",
        "\n",
        "  if solution:\n",
        "    path = []\n",
        "    while solution.parent:\n",
        "      path = [solution.action] + path\n",
        "      solution = solution.parent\n",
        "\n",
        "    return path\n",
        "  else:\n",
        "    return None"
      ],
      "metadata": {
        "id": "sa0FY8Offme8"
      },
      "execution_count": 74,
      "outputs": []
    },
    {
      "cell_type": "markdown",
      "source": [
        "## AGENT IMPLEMENTATION"
      ],
      "metadata": {
        "id": "tLFbxZfpi4XV"
      }
    },
    {
      "cell_type": "code",
      "source": [
        "def manhattan(pos1, pos2):\n",
        "  return sum(abs(a - b) for a, b in zip(pos1, pos2))"
      ],
      "metadata": {
        "id": "fSUBvZxMdswh"
      },
      "execution_count": 75,
      "outputs": []
    },
    {
      "cell_type": "code",
      "source": [
        "def set_zone(M, pos, width, length, dir, value): # M es la cuadricula\n",
        "  # pos tupla (i, j) de la esquina superior izq de la zona\n",
        "  i = pos[0]    # width y length de la zona\n",
        "  j = pos[1]\n",
        "  if dir == \"v\": # dir es la orientacion\n",
        "    aux = width\n",
        "    width = length\n",
        "    length = aux\n",
        "  # Comprovar si la zona es valida\n",
        "  valid = (0  <= i + width <= len(M))\n",
        "  valid = valid and  (0  <= j + length <= len(M))\n",
        "  if valid:\n",
        "    O = np.full((width, length), value)\n",
        "    M[i: i + width, j: j + length] = O\n",
        "\n",
        "# cost = 1 / valor, valor en [0, 1]"
      ],
      "metadata": {
        "id": "1cIg0WRiScF-"
      },
      "execution_count": 76,
      "outputs": []
    },
    {
      "cell_type": "code",
      "source": [
        "class Agent:\n",
        "\n",
        "   def __init__(self, N: int, type):\n",
        "\n",
        "      matrix =  np.ones((N,N))\n",
        "      \n",
        "      set_zone(matrix, (50, 15), 8, 13, \"h\", 0.5)\n",
        "      set_zone(matrix, (15, 43), 10, 16, \"h\", 0.5)\n",
        "      set_zone(matrix, (0, 19), 47, 1, \"h\", 0)\n",
        "      set_zone(matrix, (23, 55), 47, 1, \"h\", 0)\n",
        "      if type == \"t0\":\n",
        "        set_zone(matrix, (15, 43), 10, 16, \"h\", 0.3)\n",
        "        set_zone(matrix, (23, 55), 47, 1, \"h\", 0)\n",
        "      elif type == \"t1\":\n",
        "        set_zone(matrix, (15, 43), 17, 16, \"h\", 0.5)\n",
        "        set_zone(matrix, (23, 55), 47, 1, \"h\", 0)\n",
        "      elif type == \"t2\":\n",
        "        set_zone(matrix, (15, 43), 21, 16, \"h\", 0.5)\n",
        "        set_zone(matrix, (23, 55), 47, 1, \"h\", 0)\n",
        "      elif type == \"t3\":\n",
        "        set_zone(matrix, (30, 57), 8, 13, \"h\", 0.7)\n",
        "        set_zone(matrix, (40, 56), 8, 13, \"h\", 0.8)\n",
        "        set_zone(matrix, (50, 57), 8, 13, \"h\", 0.7)\n",
        "        set_zone(matrix, (23, 55), 47, 1, \"h\", 0)\n",
        "      elif type == \"t4\":\n",
        "        set_zone(matrix, (0, 3), 19, 1, \"h\", 0.5)\n",
        "        set_zone(matrix, (1, 1), 19, 1, \"h\", 0.5)\n",
        "      elif type == \"t5\":\n",
        "        for i in range(0, 20, 4):\n",
        "          set_zone(matrix, (0, 3 +i), 18, 1, \"h\", 0.5)\n",
        "          set_zone(matrix, (2, 1 +i), 18, 1, \"h\", 0.5)\n",
        "      elif type == \"t6\":\n",
        "        for i in range(0, 20, 4):\n",
        "          set_zone(matrix, (0, 3 +i), 18, 1, \"h\", 0.1)\n",
        "          set_zone(matrix, (2, 1 +i), 18, 1, \"h\", 0.1)\n",
        "      elif type == \"t7\":\n",
        "        for i in range(0, 20, 4):\n",
        "          set_zone(matrix, (0, 3 +i), 18, 1, \"h\", 0)\n",
        "          set_zone(matrix, (2, 1 +i), 18, 1, \"h\", 0)\n",
        "      elif type == \"t8\":\n",
        "        for i in range(0, 20, 4):\n",
        "          set_zone(matrix, (3 +i, 0), 18, 1, \"v\", 0)\n",
        "          set_zone(matrix, (1 +i, 2), 18, 1, \"v\", 0)\n",
        "      elif type == \"t9\":\n",
        "        for i in range(0, 20, 4):\n",
        "          set_zone(matrix, (3 +i, 0), 19, 1, \"v\", 0)\n",
        "          set_zone(matrix, (1 +i, 1), 19, 1, \"v\", 0)\n",
        "\n",
        "      self.KB = { \"size\": N,\n",
        "                  \"cells\": matrix,\n",
        "                  \"pos\": np.array([35,35])\n",
        "              }\n",
        "\n",
        "      self.actions = {\"up\":    [-1, 0],\n",
        "                      \"left\":  [0, -1],\n",
        "                      \"right\": [0,  1],\n",
        "                      \"down\":  [1,  0] \n",
        "                    }\n",
        "   \n",
        "   def updateKB(self, percepts, action):\n",
        "           \n",
        "      self.KB[\"pos\"] = self.KB[\"pos\"] + action\n",
        "\n",
        "   def valid(self, k, percept): #excution time\n",
        "       a = np.array(self.actions[k])\n",
        "       s = np.array([1,1]) + a\n",
        "       return percept[s[0],s[1]] != 0\n",
        "\n",
        "   def valid_action(self, state, k): #planning time / To be used within bfs function\n",
        "       #state debe ser un array 2D\n",
        "       if type(state) != type(None):\n",
        "        new_pos = state + self.actions[k]\n",
        "        valid = (0  <= new_pos[0] < self.KB[\"size\"])\n",
        "        valid = valid and  (0  <= new_pos[1] < self.KB[\"size\"])\n",
        "        return valid\n",
        "          \n",
        "   def action(self, percept, default=None):\n",
        "\n",
        "      if default!=None and default in self.actions:\n",
        "        k = default\n",
        "      else:\n",
        "        valid_actions = [k for k in self.actions if self.valid(k, percept)]\n",
        "        k = np.random.choice(valid_actions)\n",
        "       \n",
        "      if default!=None and not self.valid(k, percept):\n",
        "        ##What to return if it is not possible to execute the action (obstacle)?\n",
        "        return [None, None]\n",
        "      \n",
        "      a = np.array(self.actions[k])\n",
        "\n",
        "      return [k, a]\n",
        "        \n",
        "   def getPercept(self):\n",
        "      matrix = self.KB[\"cells\"]\n",
        "      # we surround the matrix with a border of blocked cells (0)\n",
        "      matrix = np.pad(matrix, pad_width=1, mode='constant', constant_values=0)\n",
        "      # positions in the new extended matrix\n",
        "      i, j = self.KB[\"pos\"][0] + 1, self.KB[\"pos\"][1] + 1\n",
        "      # 3x3 matrix \n",
        "      return matrix[i-1 : i+2, j-1 : j+2]\n",
        "\n",
        "   def random_loop(self, iters):\n",
        "\n",
        "      path = []\n",
        "      for i in range(iters):\n",
        "         X = self.getPercept()\n",
        "         [k, a] = self.action(X, default=None)\n",
        "         path.append(self.KB[\"pos\"])\n",
        "         self.updateKB(X, a)\n",
        "\n",
        "      return path\n",
        "\n",
        "   def execute(self, parent, action, end):\n",
        "    # get the new position of the agent  state, parent, action, path_cost, gn, fn\n",
        "      #node = search_node(None, parent, self.actions[action], 0, manhattan(self.KB[\"pos\"], end), 0) \n",
        "    # by applying the action to the parent’s state                                                       \n",
        "      new_position = parent.state + self.actions[action]        \n",
        "\n",
        "      # get the value of the KB matrix if so, return the new position\n",
        "      matrix = self.KB[\"cells\"]                                    \n",
        "      valor = matrix[new_position[0], new_position[1]]    \n",
        "\n",
        "      # Check if the value is a free cell if so, return the new position\n",
        "      if valor != 0:\n",
        "        return new_position\n",
        "      else: return None    # else return None\n",
        "\n",
        "\n",
        "   def loop_with_plan(self, Ini, plan):\n",
        "       \n",
        "      self.KB[\"pos\"] = Ini\n",
        "      path = []\n",
        "      \n",
        "      for action in plan:\n",
        "         X = self.getPercept()\n",
        "         [k, a] = self.action(X, default=action)\n",
        "         ##CHECK if the plan is interrupted by an obstacle\n",
        "         if k==None:\n",
        "           return None\n",
        "         path.append(self.KB[\"pos\"])\n",
        "         self.updateKB(X, a)\n",
        "\n",
        "      return path\n",
        "   \n",
        "   def get_a_plan(self, Ini, End):\n",
        "      \n",
        "      plan = search_path(self, Ini, End)\n",
        "      return plan\n",
        "\n",
        "   def goal_oriented_loop(self, Ini, End):\n",
        "      plan = self.get_a_plan(Ini, End)\n",
        "      result = self.loop_with_plan(Ini, plan)\n",
        "  \n",
        "\n",
        "      return result\n",
        "      "
      ],
      "metadata": {
        "id": "C-hrkPGZMTfu"
      },
      "execution_count": 77,
      "outputs": []
    },
    {
      "cell_type": "code",
      "source": [
        "agent = Agent(70, \"t\")"
      ],
      "metadata": {
        "id": "j2mcQ4e-MTT2"
      },
      "execution_count": 78,
      "outputs": []
    },
    {
      "cell_type": "markdown",
      "source": [
        "### TEST WITH VISUALIZATION"
      ],
      "metadata": {
        "id": "mAqeCrkVimiO"
      }
    },
    {
      "cell_type": "code",
      "source": [
        "# Matrix with obstacles"
      ],
      "metadata": {
        "id": "KSc6GxDxoh_q"
      },
      "execution_count": 79,
      "outputs": []
    },
    {
      "cell_type": "markdown",
      "source": [
        "### Agent with goals"
      ],
      "metadata": {
        "id": "3JeiDsCI4TLH"
      }
    },
    {
      "cell_type": "code",
      "source": [
        "path = agent.goal_oriented_loop(np.array([69,69]), np.array([0,0]))"
      ],
      "metadata": {
        "id": "422SnbHHrj8h"
      },
      "execution_count": 80,
      "outputs": []
    },
    {
      "cell_type": "code",
      "source": [
        "# static display of full path\n",
        "import matplotlib.pyplot as plt\n",
        "matrix = agent.KB[\"cells\"].copy()\n",
        "\n",
        "for (i, p) in enumerate(path):\n",
        "  matrix[p[0]][p[1]] = -1\n",
        "plt.figure(figsize=(7,7))\n",
        "plt.matshow(matrix, fignum=1, aspect='auto')"
      ],
      "metadata": {
        "colab": {
          "base_uri": "https://localhost:8080/",
          "height": 480
        },
        "id": "GtsIjoVornRU",
        "outputId": "d5f6880b-c12d-44b1-fd3a-b3047d6389fb"
      },
      "execution_count": 81,
      "outputs": [
        {
          "output_type": "execute_result",
          "data": {
            "text/plain": [
              "<matplotlib.image.AxesImage at 0x7f893b9224f0>"
            ]
          },
          "metadata": {},
          "execution_count": 81
        },
        {
          "output_type": "display_data",
          "data": {
            "text/plain": [
              "<Figure size 504x504 with 1 Axes>"
            ],
            "image/png": "[encoded data removed]"
          },
          "metadata": {
            "needs_background": "light"
          }
        }
      ]
    },
    {
      "cell_type": "code",
      "source": [
        "agent = Agent(70, \"t0\")  # subimos coste"
      ],
      "metadata": {
        "id": "kj8erKokq-M0"
      },
      "execution_count": 82,
      "outputs": []
    },
    {
      "cell_type": "code",
      "source": [
        "path = agent.goal_oriented_loop(np.array([69,69]), np.array([0,0]))"
      ],
      "metadata": {
        "id": "rCIUKzaKrUgM"
      },
      "execution_count": 83,
      "outputs": []
    },
    {
      "cell_type": "code",
      "source": [
        "# static display of full path\n",
        "\n",
        "matrix = agent.KB[\"cells\"].copy()\n",
        "\n",
        "for (i, p) in enumerate(path):\n",
        "  matrix[p[0]][p[1]] = -1\n",
        "plt.figure(figsize=(7,7))\n",
        "plt.matshow(matrix, fignum=1, aspect='auto')"
      ],
      "metadata": {
        "colab": {
          "base_uri": "https://localhost:8080/",
          "height": 480
        },
        "id": "qA83YKRxrXdW",
        "outputId": "67be8b58-fc2f-4766-c0b4-c5a863c5b787"
      },
      "execution_count": 84,
      "outputs": [
        {
          "output_type": "execute_result",
          "data": {
            "text/plain": [
              "<matplotlib.image.AxesImage at 0x7f893b9ddbb0>"
            ]
          },
          "metadata": {},
          "execution_count": 84
        },
        {
          "output_type": "display_data",
          "data": {
            "text/plain": [
              "<Figure size 504x504 with 1 Axes>"
            ],
            "image/png": "[encoded data removed]"
          },
          "metadata": {
            "needs_background": "light"
          }
        }
      ]
    },
    {
      "cell_type": "code",
      "source": [
        "agent = Agent(70, \"t1\")  # subimos altura obstaculo"
      ],
      "metadata": {
        "id": "HaLDPqJQwWvi"
      },
      "execution_count": 85,
      "outputs": []
    },
    {
      "cell_type": "code",
      "source": [
        "path = agent.goal_oriented_loop(np.array([69,69]), np.array([0,0]))"
      ],
      "metadata": {
        "id": "ozgy27xkwakE"
      },
      "execution_count": 86,
      "outputs": []
    },
    {
      "cell_type": "code",
      "source": [
        "# static display of full path\n",
        "\n",
        "matrix = agent.KB[\"cells\"].copy()\n",
        "\n",
        "for (i, p) in enumerate(path):\n",
        "  matrix[p[0]][p[1]] = -1\n",
        "plt.figure(figsize=(7,7))\n",
        "plt.matshow(matrix, fignum=1, aspect='auto')"
      ],
      "metadata": {
        "colab": {
          "base_uri": "https://localhost:8080/",
          "height": 480
        },
        "id": "bS8KYPuLwboA",
        "outputId": "5c76c591-122d-4936-8370-7ae95d2848cd"
      },
      "execution_count": 87,
      "outputs": [
        {
          "output_type": "execute_result",
          "data": {
            "text/plain": [
              "<matplotlib.image.AxesImage at 0x7f893b78beb0>"
            ]
          },
          "metadata": {},
          "execution_count": 87
        },
        {
          "output_type": "display_data",
          "data": {
            "text/plain": [
              "<Figure size 504x504 with 1 Axes>"
            ],
            "image/png": "[encoded data removed]"
          },
          "metadata": {
            "needs_background": "light"
          }
        }
      ]
    },
    {
      "cell_type": "code",
      "source": [
        "agent = Agent(70, \"t2\")  # subimos altura obstaculo mas"
      ],
      "metadata": {
        "id": "FNjRo_LWsXJp"
      },
      "execution_count": 88,
      "outputs": []
    },
    {
      "cell_type": "code",
      "source": [
        "path = agent.goal_oriented_loop(np.array([69,69]), np.array([0,0]))"
      ],
      "metadata": {
        "id": "OGBHnnkMtP4Z"
      },
      "execution_count": 89,
      "outputs": []
    },
    {
      "cell_type": "code",
      "source": [
        "# static display of full path\n",
        "\n",
        "matrix = agent.KB[\"cells\"].copy()\n",
        "\n",
        "for (i, p) in enumerate(path):\n",
        "  matrix[p[0]][p[1]] = -1\n",
        "plt.figure(figsize=(7,7))\n",
        "plt.matshow(matrix, fignum=1, aspect='auto')"
      ],
      "metadata": {
        "colab": {
          "base_uri": "https://localhost:8080/",
          "height": 480
        },
        "id": "hlYMq2nutRpI",
        "outputId": "d1a3cb1f-3dc8-4f8f-fd29-ab2baddd6b29"
      },
      "execution_count": 90,
      "outputs": [
        {
          "output_type": "execute_result",
          "data": {
            "text/plain": [
              "<matplotlib.image.AxesImage at 0x7f893b8bb2b0>"
            ]
          },
          "metadata": {},
          "execution_count": 90
        },
        {
          "output_type": "display_data",
          "data": {
            "text/plain": [
              "<Figure size 504x504 with 1 Axes>"
            ],
            "image/png": "[encoded data removed]"
          },
          "metadata": {
            "needs_background": "light"
          }
        }
      ]
    },
    {
      "cell_type": "code",
      "source": [
        "agent = Agent(70, \"t3\")\n",
        "matrix = agent.KB[\"cells\"].copy()\n",
        "plt.figure(figsize=(7,7))\n",
        "plt.matshow(matrix, fignum=1, aspect='auto')"
      ],
      "metadata": {
        "colab": {
          "base_uri": "https://localhost:8080/",
          "height": 480
        },
        "id": "Zkva-YOJqWyK",
        "outputId": "90b88633-8334-4ade-bb3a-274933b0b1fc"
      },
      "execution_count": 103,
      "outputs": [
        {
          "output_type": "execute_result",
          "data": {
            "text/plain": [
              "<matplotlib.image.AxesImage at 0x7f892f0fe490>"
            ]
          },
          "metadata": {},
          "execution_count": 103
        },
        {
          "output_type": "display_data",
          "data": {
            "text/plain": [
              "<Figure size 504x504 with 1 Axes>"
            ],
            "image/png": "[encoded data removed]"
          },
          "metadata": {
            "needs_background": "light"
          }
        }
      ]
    },
    {
      "cell_type": "code",
      "source": [
        "path = agent.goal_oriented_loop(np.array([69,69]), np.array([0,0]))"
      ],
      "metadata": {
        "id": "VjARXSeTp1Nz"
      },
      "execution_count": 92,
      "outputs": []
    },
    {
      "cell_type": "code",
      "source": [
        "# static display of full path\n",
        "\n",
        "matrix = agent.KB[\"cells\"].copy()\n",
        "\n",
        "for (i, p) in enumerate(path):\n",
        "  matrix[p[0]][p[1]] = -1\n",
        "plt.figure(figsize=(7,7))\n",
        "plt.matshow(matrix, fignum=1, aspect='auto')"
      ],
      "metadata": {
        "colab": {
          "base_uri": "https://localhost:8080/",
          "height": 480
        },
        "id": "vvQ3K5rsp49r",
        "outputId": "af5d8985-b141-40b5-e599-c9704ce14ce0"
      },
      "execution_count": 93,
      "outputs": [
        {
          "output_type": "execute_result",
          "data": {
            "text/plain": [
              "<matplotlib.image.AxesImage at 0x7f893b8acd90>"
            ]
          },
          "metadata": {},
          "execution_count": 93
        },
        {
          "output_type": "display_data",
          "data": {
            "text/plain": [
              "<Figure size 504x504 with 1 Axes>"
            ],
            "image/png": "[encoded data removed]"
          },
          "metadata": {
            "needs_background": "light"
          }
        }
      ]
    },
    {
      "cell_type": "code",
      "source": [
        "agent = Agent(20, \"t4\")\n",
        "path = agent.goal_oriented_loop(np.array([19,19]), np.array([0,0]))\n",
        "# static display of full path\n",
        "\n",
        "matrix = agent.KB[\"cells\"].copy()\n",
        "\n",
        "for (i, p) in enumerate(path):\n",
        "  matrix[p[0]][p[1]] = -1\n",
        "plt.figure(figsize=(7,7))\n",
        "plt.matshow(matrix, fignum=1, aspect='auto')"
      ],
      "metadata": {
        "colab": {
          "base_uri": "https://localhost:8080/",
          "height": 480
        },
        "id": "0diazMTEvhRV",
        "outputId": "a4c824c1-40f5-4bf8-bb32-fa219fcd7d1c"
      },
      "execution_count": 94,
      "outputs": [
        {
          "output_type": "execute_result",
          "data": {
            "text/plain": [
              "<matplotlib.image.AxesImage at 0x7f893b6bfbb0>"
            ]
          },
          "metadata": {},
          "execution_count": 94
        },
        {
          "output_type": "display_data",
          "data": {
            "text/plain": [
              "<Figure size 504x504 with 1 Axes>"
            ],
            "image/png": "[encoded data removed]"
          },
          "metadata": {
            "needs_background": "light"
          }
        }
      ]
    },
    {
      "cell_type": "code",
      "source": [
        "agent = Agent(20, \"t5\") # coste 1/0.5\n",
        "path = agent.goal_oriented_loop(np.array([19,19]), np.array([0,0]))\n",
        "# static display of full path\n",
        "\n",
        "matrix = agent.KB[\"cells\"].copy()\n",
        "\n",
        "for (i, p) in enumerate(path):\n",
        "  matrix[p[0]][p[1]] = -1\n",
        "plt.figure(figsize=(7,7))\n",
        "plt.matshow(matrix, fignum=1, aspect='auto')"
      ],
      "metadata": {
        "colab": {
          "base_uri": "https://localhost:8080/",
          "height": 480
        },
        "id": "rx-dKXa10MzA",
        "outputId": "419c7734-466e-4fbd-96d0-4b89bdd8ff7b"
      },
      "execution_count": 106,
      "outputs": [
        {
          "output_type": "execute_result",
          "data": {
            "text/plain": [
              "<matplotlib.image.AxesImage at 0x7f892efcbcd0>"
            ]
          },
          "metadata": {},
          "execution_count": 106
        },
        {
          "output_type": "display_data",
          "data": {
            "text/plain": [
              "<Figure size 504x504 with 1 Axes>"
            ],
            "image/png": "[encoded data removed]"
          },
          "metadata": {
            "needs_background": "light"
          }
        }
      ]
    },
    {
      "cell_type": "code",
      "source": [
        "agent = Agent(20, \"t6\") # subimos coste, coste 1/0.1\n",
        "path = agent.goal_oriented_loop(np.array([19,19]), np.array([0,0]))\n",
        "# static display of full path\n",
        "\n",
        "matrix = agent.KB[\"cells\"].copy()\n",
        "\n",
        "for (i, p) in enumerate(path):\n",
        "  matrix[p[0]][p[1]] = -1\n",
        "plt.figure(figsize=(7,7))\n",
        "plt.matshow(matrix, fignum=1, aspect='auto')"
      ],
      "metadata": {
        "colab": {
          "base_uri": "https://localhost:8080/",
          "height": 480
        },
        "id": "Qd5sGfJ70sDU",
        "outputId": "c27af46e-9dde-43b1-cb2f-953dbf413ac1"
      },
      "execution_count": 105,
      "outputs": [
        {
          "output_type": "execute_result",
          "data": {
            "text/plain": [
              "<matplotlib.image.AxesImage at 0x7f892f089f70>"
            ]
          },
          "metadata": {},
          "execution_count": 105
        },
        {
          "output_type": "display_data",
          "data": {
            "text/plain": [
              "<Figure size 504x504 with 1 Axes>"
            ],
            "image/png": "[encoded data removed]"
          },
          "metadata": {
            "needs_background": "light"
          }
        }
      ]
    },
    {
      "cell_type": "code",
      "source": [
        "agent = Agent(20, \"t7\") # coste infinito 1/0\n",
        "path = agent.goal_oriented_loop(np.array([19,19]), np.array([0,0]))\n",
        "# static display of full path\n",
        "\n",
        "matrix = agent.KB[\"cells\"].copy()\n",
        "\n",
        "for (i, p) in enumerate(path):\n",
        "  matrix[p[0]][p[1]] = -1\n",
        "plt.figure(figsize=(7,7))\n",
        "plt.matshow(matrix, fignum=1, aspect='auto')"
      ],
      "metadata": {
        "colab": {
          "base_uri": "https://localhost:8080/",
          "height": 480
        },
        "id": "fqi9Gj-fMwLC",
        "outputId": "446cf87a-4da1-4c3e-c0ee-4b6a73eecfd4"
      },
      "execution_count": 104,
      "outputs": [
        {
          "output_type": "execute_result",
          "data": {
            "text/plain": [
              "<matplotlib.image.AxesImage at 0x7f892f051280>"
            ]
          },
          "metadata": {},
          "execution_count": 104
        },
        {
          "output_type": "display_data",
          "data": {
            "text/plain": [
              "<Figure size 504x504 with 1 Axes>"
            ],
            "image/png": "[encoded data removed]"
          },
          "metadata": {
            "needs_background": "light"
          }
        }
      ]
    },
    {
      "cell_type": "code",
      "source": [
        "agent = Agent(20, \"t8\") # horizontal\n",
        "path = agent.goal_oriented_loop(np.array([19,19]), np.array([0,0]))\n",
        "# static display of full path\n",
        "\n",
        "matrix = agent.KB[\"cells\"].copy()\n",
        "\n",
        "for (i, p) in enumerate(path):\n",
        "  matrix[p[0]][p[1]] = -1\n",
        "plt.figure(figsize=(7,7))\n",
        "plt.matshow(matrix, fignum=1, aspect='auto')"
      ],
      "metadata": {
        "colab": {
          "base_uri": "https://localhost:8080/",
          "height": 480
        },
        "id": "xVdVwntiNzVO",
        "outputId": "df67ef6d-20a6-407f-e0a4-f22df0865661"
      },
      "execution_count": 98,
      "outputs": [
        {
          "output_type": "execute_result",
          "data": {
            "text/plain": [
              "<matplotlib.image.AxesImage at 0x7f893b564250>"
            ]
          },
          "metadata": {},
          "execution_count": 98
        },
        {
          "output_type": "display_data",
          "data": {
            "text/plain": [
              "<Figure size 504x504 with 1 Axes>"
            ],
            "image/png": "[encoded data removed]"
          },
          "metadata": {
            "needs_background": "light"
          }
        }
      ]
    },
    {
      "cell_type": "code",
      "source": [
        "agent = Agent(20, \"t9\") # horizontal\n",
        "path = agent.goal_oriented_loop(np.array([19,19]), np.array([0,0]))\n",
        "# static display of full path\n",
        "\n",
        "matrix = agent.KB[\"cells\"].copy()\n",
        "\n",
        "for (i, p) in enumerate(path):\n",
        "  matrix[p[0]][p[1]] = -1\n",
        "plt.figure(figsize=(7,7))\n",
        "plt.matshow(matrix, fignum=1, aspect='auto')"
      ],
      "metadata": {
        "colab": {
          "base_uri": "https://localhost:8080/",
          "height": 480
        },
        "id": "iEnytMEZO4mq",
        "outputId": "a1afacb8-2e3b-4a08-e5e8-ea351b6fb00c"
      },
      "execution_count": 99,
      "outputs": [
        {
          "output_type": "execute_result",
          "data": {
            "text/plain": [
              "<matplotlib.image.AxesImage at 0x7f893b52d190>"
            ]
          },
          "metadata": {},
          "execution_count": 99
        },
        {
          "output_type": "display_data",
          "data": {
            "text/plain": [
              "<Figure size 504x504 with 1 Axes>"
            ],
            "image/png": "[encoded data removed]"
          },
          "metadata": {
            "needs_background": "light"
          }
        }
      ]
    }
  ]
}