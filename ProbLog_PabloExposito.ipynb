{
  "nbformat": 4,
  "nbformat_minor": 0,
  "metadata": {
    "colab": {
      "provenance": []
    },
    "kernelspec": {
      "name": "python3",
      "display_name": "Python 3"
    },
    "language_info": {
      "name": "python"
    }
  },
  "cells": [
    {
      "cell_type": "markdown",
      "source": [
        "# PRÁCTICA 3: PROBLOG\n",
        "\n",
        "Documentación interesante:\n",
        "\n",
        "https://problog.readthedocs.io/en/latest/prolog.html\n",
        "\n",
        "https://problog.readthedocs.io/en/latest/modeling_basic.html"
      ],
      "metadata": {
        "id": "f2flzW7Epi4-"
      }
    },
    {
      "cell_type": "code",
      "execution_count": 197,
      "metadata": {
        "colab": {
          "base_uri": "https://localhost:8080/"
        },
        "id": "UjIfrvxWoapG",
        "outputId": "acb52a8c-5352-4e40-b63b-b20fd071c9ad"
      },
      "outputs": [
        {
          "output_type": "stream",
          "name": "stdout",
          "text": [
            "Looking in indexes: https://pypi.org/simple, https://us-python.pkg.dev/colab-wheels/public/simple/\n",
            "Requirement already satisfied: problog in /usr/local/lib/python3.9/dist-packages (2.2.4)\n"
          ]
        }
      ],
      "source": [
        "!pip install problog"
      ]
    },
    {
      "cell_type": "code",
      "source": [
        "from problog.program import PrologString\n",
        "from problog import get_evaluatable"
      ],
      "metadata": {
        "id": "I_t5EXivpyyx"
      },
      "execution_count": 198,
      "outputs": []
    },
    {
      "cell_type": "markdown",
      "source": [
        "## UTILITIES\n",
        "\n",
        "These functions connect the structures of ProbLog to Python structures."
      ],
      "metadata": {
        "id": "4V6w1c8nropj"
      }
    },
    {
      "cell_type": "code",
      "source": [
        "\n",
        "def make_queries(facts):\n",
        "   return \" \".join([' query(%s). '%fact for fact in facts])\n",
        "\n",
        "def check_goal(result, facts):\n",
        "  out = True\n",
        "  for fact in facts:\n",
        "     fact = fact.replace(\" \",\"\") #remove white spaces\n",
        "     out = out and fact in [str(e) for e in result.keys() if result[e]>0]\n",
        "  return out\n",
        "\n",
        "def true_facts(result):\n",
        "  return [str(e) for e in result.keys() if result[e]>0]\n",
        "\n",
        "def add_action(plan, action):\n",
        "  action = \"do_\" + action\n",
        "  plan.append(action)\n",
        "  return plan\n",
        "\n",
        "def check_actions(result, actions):\n",
        "  return [str(e) for e in result.keys() if result[e]>0 and str(e) in actions]\n"
      ],
      "metadata": {
        "id": "iwksZBqmxIq6"
      },
      "execution_count": 199,
      "outputs": []
    },
    {
      "cell_type": "markdown",
      "source": [
        "## LOGICAL PROBLEMS IN PROBLOG"
      ],
      "metadata": {
        "id": "T53Yqbv-chmD"
      }
    },
    {
      "cell_type": "markdown",
      "source": [
        "The INITIAL STATE is now expressed as facts.\n",
        "\n",
        "**Exercise**: Please, complete with your solution developed in the previous session."
      ],
      "metadata": {
        "id": "6VWGLo_Bre9F"
      }
    },
    {
      "cell_type": "code",
      "source": [
        "initial ='''\n",
        "\n",
        " at(agent,room1).\n",
        " at(key1,room1).\n",
        " connected(door1,room1,room2).\n",
        " state(door1,closed).\n",
        " opens(key1,door1).\n",
        " holds(agent,none).\n",
        " free(key1).\n",
        " \n",
        "'''"
      ],
      "metadata": {
        "id": "KLVGwmOin7g_"
      },
      "execution_count": 200,
      "outputs": []
    },
    {
      "cell_type": "markdown",
      "source": [
        "The AXIOMS express the pre-conditions and effects of actions. \n",
        "\n",
        "**Exercise**: Please, complete with your solution developed in the previous session. Read the document about this session to understand the difference between `grasp` and `do_grasp`."
      ],
      "metadata": {
        "id": "29qmGY-0rxlI"
      }
    },
    {
      "cell_type": "code",
      "source": [
        "axioms = '''\n",
        "\n",
        "grasp(A, K) :-\n",
        "    at(A, R),\n",
        "    at(K, R),\n",
        "    free(K).\n",
        "\n",
        "do_grasp(A, K):-\n",
        "    assertz(holds(A, K)),\n",
        "    retract(holds(A, none)),\n",
        "    retract(free(K)).\n",
        "\n",
        "get-open(A, D) :-\n",
        "    state(D, closed),\n",
        "    opens(K, D),\n",
        "    holds(A, K).\n",
        "\n",
        "do_get-open(A, D):-\n",
        "    assertz(state(D, open)),\n",
        "    retract(state(D, closed)).\n",
        "\n",
        "move(A, R1, R2) :-\n",
        "      connected(D, R1, R2),\n",
        "      state(D, open),\n",
        "      R1 \\= R2,\n",
        "      at(Agent, R1).\n",
        "\n",
        "do_move(A, R1, R2):-\n",
        "    assertz(at(A, R2)),\n",
        "    assertz(at(key1, R2)),\n",
        "    retract(at(A, R1)),\n",
        "    retract(at(key1, R1)).\n",
        "\n",
        "query(use_module(library(assert))).\n",
        "\n",
        "\n",
        "'''"
      ],
      "metadata": {
        "id": "UxNUrzlRprsK"
      },
      "execution_count": 201,
      "outputs": []
    },
    {
      "cell_type": "markdown",
      "source": [
        "## ASK & TELL\n",
        "\n",
        "Now we implement the ASK & TELL mechanism so that the agent can choose and perform actions. See the document of this session for more details."
      ],
      "metadata": {
        "id": "6bVo8NgNcZvi"
      }
    },
    {
      "cell_type": "code",
      "source": [
        "import random"
      ],
      "metadata": {
        "id": "FUjalGCdcy-r"
      },
      "execution_count": 202,
      "outputs": []
    },
    {
      "cell_type": "markdown",
      "source": [
        "**Exercise**: Complete your set of all actions in the next cell."
      ],
      "metadata": {
        "id": "SX6PZcbb8FUP"
      }
    },
    {
      "cell_type": "code",
      "source": [
        "all_actions = [\"grasp(agent,key1)\", \"get-open(agent,door1)\", \"move(agent,room1,room2)\"]"
      ],
      "metadata": {
        "id": "boFsVv_hvPz0"
      },
      "execution_count": 203,
      "outputs": []
    },
    {
      "cell_type": "markdown",
      "source": [
        "The following functions implement the ASK&TELL mechanism."
      ],
      "metadata": {
        "id": "bOaOdAWx8Jc3"
      }
    },
    {
      "cell_type": "code",
      "source": [
        "def ASK_action(initial, axioms, plan, all_actions):\n",
        "\n",
        "   KB = initial + axioms + make_queries(plan) + make_queries(all_actions)\n",
        "\n",
        "   result = get_evaluatable().create_from(PrologString(KB)).evaluate()\n",
        "\n",
        "   doable = check_actions(result, all_actions)\n",
        "\n",
        "   return doable\n",
        "\n",
        "def TELL_action(initial, goal, axioms, plan):\n",
        "  \n",
        "  KB = initial + axioms + make_queries(plan) + make_queries(goal)\n",
        "\n",
        "  result = get_evaluatable().create_from(PrologString(KB)).evaluate()\n",
        "\n",
        "  return check_goal(result, goal)"
      ],
      "metadata": {
        "id": "2R6EVxw1qiAJ"
      },
      "execution_count": 204,
      "outputs": []
    },
    {
      "cell_type": "markdown",
      "source": [
        "Creating a plan:"
      ],
      "metadata": {
        "id": "0TuhEnaL_V--"
      }
    },
    {
      "cell_type": "code",
      "source": [
        "plan = []\n",
        "\n",
        "acts = ASK_action(initial, axioms, plan, all_actions)\n",
        "\n",
        "plan = add_action(plan, random.choice(acts))\n",
        "\n",
        "plan"
      ],
      "metadata": {
        "id": "soExV-ISqx2G",
        "colab": {
          "base_uri": "https://localhost:8080/"
        },
        "outputId": "2387f56c-50f4-4a34-97c0-af516b44c8d5"
      },
      "execution_count": 205,
      "outputs": [
        {
          "output_type": "execute_result",
          "data": {
            "text/plain": [
              "['do_grasp(agent,key1)']"
            ]
          },
          "metadata": {},
          "execution_count": 205
        }
      ]
    },
    {
      "cell_type": "markdown",
      "source": [
        "Specifying a goal (it can include several facts):"
      ],
      "metadata": {
        "id": "3R89ru5i_f3t"
      }
    },
    {
      "cell_type": "code",
      "source": [
        "goal = [\"get-open(agent,door1)\"]"
      ],
      "metadata": {
        "id": "Hl-n5VO5xPV4"
      },
      "execution_count": 206,
      "outputs": []
    },
    {
      "cell_type": "markdown",
      "source": [
        "Executing the plan and checking the goal:"
      ],
      "metadata": {
        "id": "Sf6LBDtD_Y8O"
      }
    },
    {
      "cell_type": "code",
      "source": [
        "TELL_action(initial, goal, axioms, plan)"
      ],
      "metadata": {
        "colab": {
          "base_uri": "https://localhost:8080/"
        },
        "id": "CLxiP93oxyFU",
        "outputId": "510f6e09-75e3-424e-9b81-a5fdd951bb5a"
      },
      "execution_count": 207,
      "outputs": [
        {
          "output_type": "execute_result",
          "data": {
            "text/plain": [
              "True"
            ]
          },
          "metadata": {},
          "execution_count": 207
        }
      ]
    },
    {
      "cell_type": "markdown",
      "source": [
        "## AGENT'S LOOP TO SOLVE A PROBLEM\n",
        "\n",
        "\n",
        "**Exercise**: Complete and execute the next cell for your problem."
      ],
      "metadata": {
        "id": "pS0wI8QHcRFz"
      }
    },
    {
      "cell_type": "code",
      "source": [
        "plan = []\n",
        "path = []\n",
        "\n",
        "for i in range(len(all_actions)):\n",
        "  acts = ASK_action(initial, axioms, plan, all_actions)\n",
        "  choice = random.choice(acts)\n",
        "  plan = add_action(plan, choice)\n",
        "  path.append(choice)\n",
        "\n",
        "print(path)\n",
        "print(plan)"
      ],
      "metadata": {
        "id": "TyA6hxeJ6lyB",
        "colab": {
          "base_uri": "https://localhost:8080/"
        },
        "outputId": "0ded36cc-ee18-4797-a988-efa8d33328ed"
      },
      "execution_count": 208,
      "outputs": [
        {
          "output_type": "stream",
          "name": "stdout",
          "text": [
            "['grasp(agent,key1)', 'get-open(agent,door1)', 'move(agent,room1,room2)']\n",
            "['do_grasp(agent,key1)', 'do_get-open(agent,door1)', 'do_move(agent,room1,room2)']\n"
          ]
        }
      ]
    }
  ]
}