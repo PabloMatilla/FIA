{
  "nbformat": 4,
  "nbformat_minor": 0,
  "metadata": {
    "colab": {
      "provenance": []
    },
    "kernelspec": {
      "name": "python3",
      "display_name": "Python 3"
    },
    "language_info": {
      "name": "python"
    }
  },
  "cells": [
    {
      "cell_type": "code",
      "execution_count": 29,
      "metadata": {
        "id": "KFYN8DzwkL8_"
      },
      "outputs": [],
      "source": [
        "# Pablo Exposito Matilla al415550@uji.es"
      ]
    },
    {
      "cell_type": "code",
      "source": [
        "!pip install pomegranate==0.13.0\n",
        "!apt install libgraphviz-dev\n",
        "!pip install pygraphviz"
      ],
      "metadata": {
        "colab": {
          "base_uri": "https://localhost:8080/"
        },
        "id": "l-01804PnYia",
        "outputId": "4ead3748-1fbd-4716-81ca-5d4af26864ec"
      },
      "execution_count": 30,
      "outputs": [
        {
          "output_type": "stream",
          "name": "stdout",
          "text": [
            "Looking in indexes: https://pypi.org/simple, https://us-python.pkg.dev/colab-wheels/public/simple/\n",
            "Requirement already satisfied: pomegranate==0.13.0 in /usr/local/lib/python3.10/dist-packages (0.13.0)\n",
            "Requirement already satisfied: scipy>=0.17.0 in /usr/local/lib/python3.10/dist-packages (from pomegranate==0.13.0) (1.10.1)\n",
            "Requirement already satisfied: joblib>=0.9.0b4 in /usr/local/lib/python3.10/dist-packages (from pomegranate==0.13.0) (1.2.0)\n",
            "Requirement already satisfied: networkx>=2.0 in /usr/local/lib/python3.10/dist-packages (from pomegranate==0.13.0) (3.1)\n",
            "Requirement already satisfied: pyyaml in /usr/local/lib/python3.10/dist-packages (from pomegranate==0.13.0) (6.0)\n",
            "Requirement already satisfied: numpy>=1.8.0 in /usr/local/lib/python3.10/dist-packages (from pomegranate==0.13.0) (1.22.4)\n",
            "Reading package lists... Done\n",
            "Building dependency tree       \n",
            "Reading state information... Done\n",
            "libgraphviz-dev is already the newest version (2.42.2-3build2).\n",
            "0 upgraded, 0 newly installed, 0 to remove and 24 not upgraded.\n",
            "Looking in indexes: https://pypi.org/simple, https://us-python.pkg.dev/colab-wheels/public/simple/\n",
            "Requirement already satisfied: pygraphviz in /usr/local/lib/python3.10/dist-packages (1.10)\n"
          ]
        }
      ]
    },
    {
      "cell_type": "code",
      "source": [
        "from pomegranate import *\n",
        "import matplotlib.pyplot as plt\n",
        "import seaborn\n",
        "import numpy\n",
        "import pygraphviz\n",
        "import numpy as np\n",
        "import matplotlib.pylab as plt\n",
        "import math\n",
        "\n",
        "seaborn.set_style('whitegrid')\n",
        "numpy.random.seed(0)\n",
        "numpy.set_printoptions(suppress=True)"
      ],
      "metadata": {
        "id": "6TkcY2bupAbo"
      },
      "execution_count": 31,
      "outputs": []
    },
    {
      "cell_type": "markdown",
      "source": [
        "***Student network***\n",
        "\n",
        "Now, implement in pomegranate the Student bayesian net- work. For convenience, consider replacing the names of the variables or their values with meaningful ones (e.g. ’easy- Course’ and ’hardCourse’ for the course difficulty). Notice that, although having the variable name as part of the value name is redundant, it can be helpful when we inspect the output of our queries.\n"
      ],
      "metadata": {
        "id": "-3jpml0JcbpB"
      }
    },
    {
      "cell_type": "code",
      "source": [
        "dificultad = DiscreteDistribution({'dificultad-alta': 0.4,'dificultad-baja': 0.6})\n",
        "print(\"difivultad\", dificultad)\n",
        "print(\"parameters:\",dificultad.parameters)\n",
        "print(\"P(dificultad-alta)=\",dificultad.parameters[0][\"dificultad-alta\"])\n",
        "\n",
        "inteligencia = DiscreteDistribution({'inteligencia-alta': 0.3,'inteligencia-baja': 0.7})\n",
        "print(\"inteligencia\", inteligencia)\n",
        "print(\"parameters:\",inteligencia.parameters)\n",
        "print(\"P(inteligencia-alta)=\",inteligencia.parameters[0][\"inteligencia-alta\"])"
      ],
      "metadata": {
        "colab": {
          "base_uri": "https://localhost:8080/"
        },
        "id": "MEPjv70Jcb_Y",
        "outputId": "7867946d-44ad-43b4-99d6-b9ead4c6e352"
      },
      "execution_count": 32,
      "outputs": [
        {
          "output_type": "stream",
          "name": "stdout",
          "text": [
            "difivultad {\n",
            "    \"class\" :\"Distribution\",\n",
            "    \"dtype\" :\"str\",\n",
            "    \"name\" :\"DiscreteDistribution\",\n",
            "    \"parameters\" :[\n",
            "        {\n",
            "            \"dificultad-alta\" :0.4,\n",
            "            \"dificultad-baja\" :0.6\n",
            "        }\n",
            "    ],\n",
            "    \"frozen\" :false\n",
            "}\n",
            "parameters: [{'dificultad-alta': 0.4, 'dificultad-baja': 0.6}]\n",
            "P(dificultad-alta)= 0.4\n",
            "inteligencia {\n",
            "    \"class\" :\"Distribution\",\n",
            "    \"dtype\" :\"str\",\n",
            "    \"name\" :\"DiscreteDistribution\",\n",
            "    \"parameters\" :[\n",
            "        {\n",
            "            \"inteligencia-alta\" :0.3,\n",
            "            \"inteligencia-baja\" :0.7\n",
            "        }\n",
            "    ],\n",
            "    \"frozen\" :false\n",
            "}\n",
            "parameters: [{'inteligencia-alta': 0.3, 'inteligencia-baja': 0.7}]\n",
            "P(inteligencia-alta)= 0.3\n"
          ]
        }
      ]
    },
    {
      "cell_type": "code",
      "source": [
        "nota = ConditionalProbabilityTable(\n",
        "        # Dificultad        Inteligencia          Notas       P(Notas|Dificultad, Inteligencia)\n",
        "    [[\"dificultad-baja\", \"inteligencia-baja\", \"nota-excelente\", 0.3],\n",
        "     [\"dificultad-baja\", \"inteligencia-baja\", \"nota-buena\", 0.4],\n",
        "     [\"dificultad-baja\", \"inteligencia-baja\", \"nota-regular\", 0.3],\n",
        "     \n",
        "     [\"dificultad-alta\", \"inteligencia-baja\", \"nota-excelente\", 0.05],\n",
        "     [\"dificultad-alta\", \"inteligencia-baja\", \"nota-buena\", 0.25],\n",
        "     [\"dificultad-alta\", \"inteligencia-baja\", \"nota-regular\", 0.7],\n",
        "\n",
        "     [\"dificultad-baja\", \"inteligencia-alta\", \"nota-excelente\", 0.9],\n",
        "     [\"dificultad-baja\", \"inteligencia-alta\", \"nota-buena\", 0.08],\n",
        "     [\"dificultad-baja\", \"inteligencia-alta\", \"nota-regular\", 0.02],\n",
        "\n",
        "     [\"dificultad-alta\", \"inteligencia-alta\", \"nota-excelente\", 0.5],\n",
        "     [\"dificultad-alta\", \"inteligencia-alta\", \"nota-buena\", 0.3],\n",
        "     [\"dificultad-alta\", \"inteligencia-alta\", \"nota-regular\", 0.2]\n",
        "    ],\n",
        "     [dificultad,inteligencia])\n",
        "    \n",
        "print(nota, \"\\n\\n\")\n",
        "\n",
        "SAT = ConditionalProbabilityTable(\n",
        "        #Inteligencia       SAT       P(SAT|Inteligencia)\n",
        "    [[\"inteligencia-baja\", \"SAT-alto\", 0.05],\n",
        "     [\"inteligencia-baja\", \"SAT-bajo\", 0.95],\n",
        "     \n",
        "     [\"inteligencia-alta\", \"SAT-alto\", 0.8],\n",
        "     [\"inteligencia-alta\", \"SAT-bajo\", 0.2]\n",
        "    ],\n",
        "     [inteligencia])\n",
        "print(SAT, \"\\n\\n\")\n"
      ],
      "metadata": {
        "colab": {
          "base_uri": "https://localhost:8080/"
        },
        "id": "nhXtOFdjfXB9",
        "outputId": "26a72e19-9cbe-41c2-c5ea-acf2c2e0c457"
      },
      "execution_count": 33,
      "outputs": [
        {
          "output_type": "stream",
          "name": "stdout",
          "text": [
            "dificultad-baja\tinteligencia-baja\tnota-excelente\t0.3\n",
            "dificultad-baja\tinteligencia-baja\tnota-buena\t0.4\n",
            "dificultad-baja\tinteligencia-baja\tnota-regular\t0.3\n",
            "dificultad-alta\tinteligencia-baja\tnota-excelente\t0.05000000000000001\n",
            "dificultad-alta\tinteligencia-baja\tnota-buena\t0.25\n",
            "dificultad-alta\tinteligencia-baja\tnota-regular\t0.7\n",
            "dificultad-baja\tinteligencia-alta\tnota-excelente\t0.9\n",
            "dificultad-baja\tinteligencia-alta\tnota-buena\t0.07999999999999999\n",
            "dificultad-baja\tinteligencia-alta\tnota-regular\t0.02\n",
            "dificultad-alta\tinteligencia-alta\tnota-excelente\t0.5\n",
            "dificultad-alta\tinteligencia-alta\tnota-buena\t0.3\n",
            "dificultad-alta\tinteligencia-alta\tnota-regular\t0.2 \n",
            "\n",
            "\n",
            "inteligencia-baja\tSAT-alto\t0.05000000000000001\n",
            "inteligencia-baja\tSAT-bajo\t0.95\n",
            "inteligencia-alta\tSAT-alto\t0.8\n",
            "inteligencia-alta\tSAT-bajo\t0.2 \n",
            "\n",
            "\n"
          ]
        }
      ]
    },
    {
      "cell_type": "code",
      "source": [
        "recomendacion = ConditionalProbabilityTable(\n",
        "     #    Notas           Recomendacion  P(Recomendacion|Notas)\n",
        "    [[\"nota-excelente\", \"recomendacion-alta\", 0.9],\n",
        "     [\"nota-excelente\", \"recomendacion-baja\", 0.1],\n",
        "\n",
        "     [\"nota-buena\", \"recomendacion-alta\", 0.4],\n",
        "     [\"nota-buena\", \"recomendacion-baja\", 0.6],\n",
        "\n",
        "     [\"nota-regular\", \"recomendacion-alta\", 0.01],\n",
        "     [\"nota-regular\", \"recomendacion-baja\", 0.99]\n",
        "    ],\n",
        "     [nota])\n",
        "print(recomendacion, \"\\n\\n\")\n"
      ],
      "metadata": {
        "colab": {
          "base_uri": "https://localhost:8080/"
        },
        "id": "bcCrqz_0l92g",
        "outputId": "e9de150c-e387-4565-994c-ed90780d94be"
      },
      "execution_count": 34,
      "outputs": [
        {
          "output_type": "stream",
          "name": "stdout",
          "text": [
            "nota-excelente\trecomendacion-alta\t0.9\n",
            "nota-excelente\trecomendacion-baja\t0.10000000000000002\n",
            "nota-buena\trecomendacion-alta\t0.4\n",
            "nota-buena\trecomendacion-baja\t0.6\n",
            "nota-regular\trecomendacion-alta\t0.010000000000000004\n",
            "nota-regular\trecomendacion-baja\t0.99 \n",
            "\n",
            "\n"
          ]
        }
      ]
    },
    {
      "cell_type": "code",
      "source": [
        "# State objects hold both the distribution, and a high level name\n",
        "s_dificultad = State(dificultad,name='dificultad')\n",
        "s_inteligencia = State(inteligencia,name='inteligencia')\n",
        "s_nota = State(nota,name='nota')\n",
        "s_SAT = State(SAT,name='SAT')\n",
        "s_recomendacion = State(recomendacion,name='recomendacion')"
      ],
      "metadata": {
        "id": "qnR3wAuOl0eo"
      },
      "execution_count": 35,
      "outputs": []
    },
    {
      "cell_type": "code",
      "source": [
        "# Bayesian network\n",
        "model2 = BayesianNetwork(\"Student network\")\n",
        "print(model2.name)"
      ],
      "metadata": {
        "colab": {
          "base_uri": "https://localhost:8080/"
        },
        "id": "2i2Ia-JfoxSb",
        "outputId": "dbb2f7f5-9df6-45e0-a876-b5a7b87d4bfd"
      },
      "execution_count": 36,
      "outputs": [
        {
          "output_type": "stream",
          "name": "stdout",
          "text": [
            "Student network\n"
          ]
        }
      ]
    },
    {
      "cell_type": "code",
      "source": [
        "model2.add_states(s_inteligencia, s_dificultad, s_nota, s_SAT, s_recomendacion) # order is unimportant now, but *should* be considered later\n",
        "print(model2) # we can explore and check the output"
      ],
      "metadata": {
        "colab": {
          "base_uri": "https://localhost:8080/"
        },
        "id": "rFCuO0depGCy",
        "outputId": "d36404b7-b54d-4e06-b80b-59a29d97e856"
      },
      "execution_count": 37,
      "outputs": [
        {
          "output_type": "stream",
          "name": "stdout",
          "text": [
            "Student network:{\n",
            "    \"class\" : \"State\",\n",
            "    \"distribution\" : {\n",
            "        \"class\" : \"Distribution\",\n",
            "        \"dtype\" : \"str\",\n",
            "        \"name\" : \"DiscreteDistribution\",\n",
            "        \"parameters\" : [\n",
            "            {\n",
            "                \"inteligencia-alta\" : 0.3,\n",
            "                \"inteligencia-baja\" : 0.7\n",
            "            }\n",
            "        ],\n",
            "        \"frozen\" : false\n",
            "    },\n",
            "    \"name\" : \"inteligencia\",\n",
            "    \"weight\" : 1.0\n",
            "}{\n",
            "    \"class\" : \"State\",\n",
            "    \"distribution\" : {\n",
            "        \"class\" : \"Distribution\",\n",
            "        \"dtype\" : \"str\",\n",
            "        \"name\" : \"DiscreteDistribution\",\n",
            "        \"parameters\" : [\n",
            "            {\n",
            "                \"dificultad-alta\" : 0.4,\n",
            "                \"dificultad-baja\" : 0.6\n",
            "            }\n",
            "        ],\n",
            "        \"frozen\" : false\n",
            "    },\n",
            "    \"name\" : \"dificultad\",\n",
            "    \"weight\" : 1.0\n",
            "}{\n",
            "    \"class\" : \"State\",\n",
            "    \"distribution\" : {\n",
            "        \"class\" : \"Distribution\",\n",
            "        \"name\" : \"ConditionalProbabilityTable\",\n",
            "        \"table\" : [\n",
            "            [\n",
            "                \"dificultad-baja\",\n",
            "                \"inteligencia-baja\",\n",
            "                \"nota-excelente\",\n",
            "                \"0.3\"\n",
            "            ],\n",
            "            [\n",
            "                \"dificultad-baja\",\n",
            "                \"inteligencia-baja\",\n",
            "                \"nota-buena\",\n",
            "                \"0.4\"\n",
            "            ],\n",
            "            [\n",
            "                \"dificultad-baja\",\n",
            "                \"inteligencia-baja\",\n",
            "                \"nota-regular\",\n",
            "                \"0.3\"\n",
            "            ],\n",
            "            [\n",
            "                \"dificultad-alta\",\n",
            "                \"inteligencia-baja\",\n",
            "                \"nota-excelente\",\n",
            "                \"0.05000000000000001\"\n",
            "            ],\n",
            "            [\n",
            "                \"dificultad-alta\",\n",
            "                \"inteligencia-baja\",\n",
            "                \"nota-buena\",\n",
            "                \"0.25\"\n",
            "            ],\n",
            "            [\n",
            "                \"dificultad-alta\",\n",
            "                \"inteligencia-baja\",\n",
            "                \"nota-regular\",\n",
            "                \"0.7\"\n",
            "            ],\n",
            "            [\n",
            "                \"dificultad-baja\",\n",
            "                \"inteligencia-alta\",\n",
            "                \"nota-excelente\",\n",
            "                \"0.9\"\n",
            "            ],\n",
            "            [\n",
            "                \"dificultad-baja\",\n",
            "                \"inteligencia-alta\",\n",
            "                \"nota-buena\",\n",
            "                \"0.07999999999999999\"\n",
            "            ],\n",
            "            [\n",
            "                \"dificultad-baja\",\n",
            "                \"inteligencia-alta\",\n",
            "                \"nota-regular\",\n",
            "                \"0.02\"\n",
            "            ],\n",
            "            [\n",
            "                \"dificultad-alta\",\n",
            "                \"inteligencia-alta\",\n",
            "                \"nota-excelente\",\n",
            "                \"0.5\"\n",
            "            ],\n",
            "            [\n",
            "                \"dificultad-alta\",\n",
            "                \"inteligencia-alta\",\n",
            "                \"nota-buena\",\n",
            "                \"0.3\"\n",
            "            ],\n",
            "            [\n",
            "                \"dificultad-alta\",\n",
            "                \"inteligencia-alta\",\n",
            "                \"nota-regular\",\n",
            "                \"0.2\"\n",
            "            ]\n",
            "        ],\n",
            "        \"dtypes\" : [\n",
            "            \"str\",\n",
            "            \"str\",\n",
            "            \"str\",\n",
            "            \"float\"\n",
            "        ],\n",
            "        \"parents\" : [\n",
            "            {\n",
            "                \"class\" : \"Distribution\",\n",
            "                \"dtype\" : \"str\",\n",
            "                \"name\" : \"DiscreteDistribution\",\n",
            "                \"parameters\" : [\n",
            "                    {\n",
            "                        \"dificultad-alta\" : 0.4,\n",
            "                        \"dificultad-baja\" : 0.6\n",
            "                    }\n",
            "                ],\n",
            "                \"frozen\" : false\n",
            "            },\n",
            "            {\n",
            "                \"class\" : \"Distribution\",\n",
            "                \"dtype\" : \"str\",\n",
            "                \"name\" : \"DiscreteDistribution\",\n",
            "                \"parameters\" : [\n",
            "                    {\n",
            "                        \"inteligencia-alta\" : 0.3,\n",
            "                        \"inteligencia-baja\" : 0.7\n",
            "                    }\n",
            "                ],\n",
            "                \"frozen\" : false\n",
            "            }\n",
            "        ]\n",
            "    },\n",
            "    \"name\" : \"nota\",\n",
            "    \"weight\" : 1.0\n",
            "}{\n",
            "    \"class\" : \"State\",\n",
            "    \"distribution\" : {\n",
            "        \"class\" : \"Distribution\",\n",
            "        \"name\" : \"ConditionalProbabilityTable\",\n",
            "        \"table\" : [\n",
            "            [\n",
            "                \"inteligencia-baja\",\n",
            "                \"SAT-alto\",\n",
            "                \"0.05000000000000001\"\n",
            "            ],\n",
            "            [\n",
            "                \"inteligencia-baja\",\n",
            "                \"SAT-bajo\",\n",
            "                \"0.95\"\n",
            "            ],\n",
            "            [\n",
            "                \"inteligencia-alta\",\n",
            "                \"SAT-alto\",\n",
            "                \"0.8\"\n",
            "            ],\n",
            "            [\n",
            "                \"inteligencia-alta\",\n",
            "                \"SAT-bajo\",\n",
            "                \"0.2\"\n",
            "            ]\n",
            "        ],\n",
            "        \"dtypes\" : [\n",
            "            \"str\",\n",
            "            \"str\",\n",
            "            \"float\"\n",
            "        ],\n",
            "        \"parents\" : [\n",
            "            {\n",
            "                \"class\" : \"Distribution\",\n",
            "                \"dtype\" : \"str\",\n",
            "                \"name\" : \"DiscreteDistribution\",\n",
            "                \"parameters\" : [\n",
            "                    {\n",
            "                        \"inteligencia-alta\" : 0.3,\n",
            "                        \"inteligencia-baja\" : 0.7\n",
            "                    }\n",
            "                ],\n",
            "                \"frozen\" : false\n",
            "            }\n",
            "        ]\n",
            "    },\n",
            "    \"name\" : \"SAT\",\n",
            "    \"weight\" : 1.0\n",
            "}{\n",
            "    \"class\" : \"State\",\n",
            "    \"distribution\" : {\n",
            "        \"class\" : \"Distribution\",\n",
            "        \"name\" : \"ConditionalProbabilityTable\",\n",
            "        \"table\" : [\n",
            "            [\n",
            "                \"nota-excelente\",\n",
            "                \"recomendacion-alta\",\n",
            "                \"0.9\"\n",
            "            ],\n",
            "            [\n",
            "                \"nota-excelente\",\n",
            "                \"recomendacion-baja\",\n",
            "                \"0.10000000000000002\"\n",
            "            ],\n",
            "            [\n",
            "                \"nota-buena\",\n",
            "                \"recomendacion-alta\",\n",
            "                \"0.4\"\n",
            "            ],\n",
            "            [\n",
            "                \"nota-buena\",\n",
            "                \"recomendacion-baja\",\n",
            "                \"0.6\"\n",
            "            ],\n",
            "            [\n",
            "                \"nota-regular\",\n",
            "                \"recomendacion-alta\",\n",
            "                \"0.010000000000000004\"\n",
            "            ],\n",
            "            [\n",
            "                \"nota-regular\",\n",
            "                \"recomendacion-baja\",\n",
            "                \"0.99\"\n",
            "            ]\n",
            "        ],\n",
            "        \"dtypes\" : [\n",
            "            \"str\",\n",
            "            \"str\",\n",
            "            \"float\"\n",
            "        ],\n",
            "        \"parents\" : [\n",
            "            {\n",
            "                \"class\" : \"Distribution\",\n",
            "                \"name\" : \"ConditionalProbabilityTable\",\n",
            "                \"table\" : [\n",
            "                    [\n",
            "                        \"dificultad-baja\",\n",
            "                        \"inteligencia-baja\",\n",
            "                        \"nota-excelente\",\n",
            "                        \"0.3\"\n",
            "                    ],\n",
            "                    [\n",
            "                        \"dificultad-baja\",\n",
            "                        \"inteligencia-baja\",\n",
            "                        \"nota-buena\",\n",
            "                        \"0.4\"\n",
            "                    ],\n",
            "                    [\n",
            "                        \"dificultad-baja\",\n",
            "                        \"inteligencia-baja\",\n",
            "                        \"nota-regular\",\n",
            "                        \"0.3\"\n",
            "                    ],\n",
            "                    [\n",
            "                        \"dificultad-alta\",\n",
            "                        \"inteligencia-baja\",\n",
            "                        \"nota-excelente\",\n",
            "                        \"0.05000000000000001\"\n",
            "                    ],\n",
            "                    [\n",
            "                        \"dificultad-alta\",\n",
            "                        \"inteligencia-baja\",\n",
            "                        \"nota-buena\",\n",
            "                        \"0.25\"\n",
            "                    ],\n",
            "                    [\n",
            "                        \"dificultad-alta\",\n",
            "                        \"inteligencia-baja\",\n",
            "                        \"nota-regular\",\n",
            "                        \"0.7\"\n",
            "                    ],\n",
            "                    [\n",
            "                        \"dificultad-baja\",\n",
            "                        \"inteligencia-alta\",\n",
            "                        \"nota-excelente\",\n",
            "                        \"0.9\"\n",
            "                    ],\n",
            "                    [\n",
            "                        \"dificultad-baja\",\n",
            "                        \"inteligencia-alta\",\n",
            "                        \"nota-buena\",\n",
            "                        \"0.07999999999999999\"\n",
            "                    ],\n",
            "                    [\n",
            "                        \"dificultad-baja\",\n",
            "                        \"inteligencia-alta\",\n",
            "                        \"nota-regular\",\n",
            "                        \"0.02\"\n",
            "                    ],\n",
            "                    [\n",
            "                        \"dificultad-alta\",\n",
            "                        \"inteligencia-alta\",\n",
            "                        \"nota-excelente\",\n",
            "                        \"0.5\"\n",
            "                    ],\n",
            "                    [\n",
            "                        \"dificultad-alta\",\n",
            "                        \"inteligencia-alta\",\n",
            "                        \"nota-buena\",\n",
            "                        \"0.3\"\n",
            "                    ],\n",
            "                    [\n",
            "                        \"dificultad-alta\",\n",
            "                        \"inteligencia-alta\",\n",
            "                        \"nota-regular\",\n",
            "                        \"0.2\"\n",
            "                    ]\n",
            "                ],\n",
            "                \"dtypes\" : [\n",
            "                    \"str\",\n",
            "                    \"str\",\n",
            "                    \"str\",\n",
            "                    \"float\"\n",
            "                ],\n",
            "                \"parents\" : [\n",
            "                    {\n",
            "                        \"class\" : \"Distribution\",\n",
            "                        \"dtype\" : \"str\",\n",
            "                        \"name\" : \"DiscreteDistribution\",\n",
            "                        \"parameters\" : [\n",
            "                            {\n",
            "                                \"dificultad-alta\" : 0.4,\n",
            "                                \"dificultad-baja\" : 0.6\n",
            "                            }\n",
            "                        ],\n",
            "                        \"frozen\" : false\n",
            "                    },\n",
            "                    {\n",
            "                        \"class\" : \"Distribution\",\n",
            "                        \"dtype\" : \"str\",\n",
            "                        \"name\" : \"DiscreteDistribution\",\n",
            "                        \"parameters\" : [\n",
            "                            {\n",
            "                                \"inteligencia-alta\" : 0.3,\n",
            "                                \"inteligencia-baja\" : 0.7\n",
            "                            }\n",
            "                        ],\n",
            "                        \"frozen\" : false\n",
            "                    }\n",
            "                ]\n",
            "            }\n",
            "        ]\n",
            "    },\n",
            "    \"name\" : \"recomendacion\",\n",
            "    \"weight\" : 1.0\n",
            "}\n"
          ]
        }
      ]
    },
    {
      "cell_type": "code",
      "source": [
        "# add_edge(parent,child) parent -> child\n",
        "model2.add_edge(s_inteligencia,s_SAT) \n",
        "model2.add_edge(s_inteligencia,s_nota)\n",
        "model2.add_edge(s_dificultad,s_nota)\n",
        "model2.add_edge(s_nota,s_recomendacion)"
      ],
      "metadata": {
        "id": "Zu3daV07pyvd"
      },
      "execution_count": 38,
      "outputs": []
    },
    {
      "cell_type": "code",
      "source": [
        "# draw network (graph)\n",
        "\n",
        "model2.plot()\n",
        "\n",
        "#print(model)"
      ],
      "metadata": {
        "colab": {
          "base_uri": "https://localhost:8080/",
          "height": 406
        },
        "id": "QtqZuLMGqeA7",
        "outputId": "326dd11f-7512-42b1-c3bc-a98269700837"
      },
      "execution_count": 39,
      "outputs": [
        {
          "output_type": "display_data",
          "data": {
            "text/plain": [
              "<Figure size 640x480 with 1 Axes>"
            ],
            "image/png": "[encoded data removed]"
          },
          "metadata": {}
        }
      ]
    },
    {
      "cell_type": "code",
      "source": [
        "# Prepare for internal computations (factor graphs in BN)\n",
        "model2.bake()"
      ],
      "metadata": {
        "id": "g3m6ueDOqrj2"
      },
      "execution_count": 40,
      "outputs": []
    },
    {
      "cell_type": "markdown",
      "source": [
        "SN1. Compute different queries of interest, such as the ones seen in class: P(I = 1,D = 0,G = 1,L = 0), P(L = 1), P(L = 1|I = 0), etc."
      ],
      "metadata": {
        "id": "h6nyLwQP5ADY"
      }
    },
    {
      "cell_type": "code",
      "source": [
        "X = [[ \"inteligencia-alta\", \"dificultad-baja\", \"nota-buena\", None, \"recomendacion-baja\"]]\n",
        "p = model2.probability(X) #  matrix of posterior probabilities \n",
        "print(\"P(I = 1,D = 0,G = 1,L = 0) = \", p)"
      ],
      "metadata": {
        "colab": {
          "base_uri": "https://localhost:8080/"
        },
        "id": "3FYB3h6osq9M",
        "outputId": "1b3b557a-8bb4-41c1-83f3-f3aaceb9f1af"
      },
      "execution_count": 41,
      "outputs": [
        {
          "output_type": "stream",
          "name": "stdout",
          "text": [
            "P(I = 1,D = 0,G = 1,L = 0) =  0.008640000000000002\n"
          ]
        },
        {
          "output_type": "stream",
          "name": "stderr",
          "text": [
            "<ipython-input-41-b8984a0e67e1>:2: DeprecationWarning: `np.float` is a deprecated alias for the builtin `float`. To silence this warning, use `float` by itself. Doing this will not modify any behavior and is safe. If you specifically wanted the numpy scalar type, use `np.float64` here.\n",
            "Deprecated in NumPy 1.20; for more details and guidance: https://numpy.org/devdocs/release/1.20.0-notes.html#deprecations\n",
            "  p = model2.probability(X) #  matrix of posterior probabilities\n"
          ]
        }
      ]
    },
    {
      "cell_type": "code",
      "source": [
        "X = [[ None, None, None,\"SAT-alto\", None]]\n",
        "p = model2.probability(X) #  matrix of posterior probabilities \n",
        "print(\"P(L = 1) = \", p)"
      ],
      "metadata": {
        "colab": {
          "base_uri": "https://localhost:8080/"
        },
        "id": "WaDqQ0u3Lk3X",
        "outputId": "7fb967d9-22d2-4cea-ed41-16e5d22619e8"
      },
      "execution_count": 42,
      "outputs": [
        {
          "output_type": "stream",
          "name": "stdout",
          "text": [
            "P(L = 1) =  1.0\n"
          ]
        },
        {
          "output_type": "stream",
          "name": "stderr",
          "text": [
            "<ipython-input-42-6c470f04c78f>:2: DeprecationWarning: `np.float` is a deprecated alias for the builtin `float`. To silence this warning, use `float` by itself. Doing this will not modify any behavior and is safe. If you specifically wanted the numpy scalar type, use `np.float64` here.\n",
            "Deprecated in NumPy 1.20; for more details and guidance: https://numpy.org/devdocs/release/1.20.0-notes.html#deprecations\n",
            "  p = model2.probability(X) #  matrix of posterior probabilities\n"
          ]
        }
      ]
    },
    {
      "cell_type": "code",
      "source": [
        "p = model2.predict_proba({\"inteligencia\": \"inteligencia-baja\"})\n",
        "print(\"P(L = 1|I = 0) = \", p[4].parameters[0]['recomendacion-alta'])"
      ],
      "metadata": {
        "colab": {
          "base_uri": "https://localhost:8080/"
        },
        "id": "QhyBuOZgMw8_",
        "outputId": "a223db92-69cc-4405-9dd1-4c5a0b4260c6"
      },
      "execution_count": 43,
      "outputs": [
        {
          "output_type": "stream",
          "name": "stdout",
          "text": [
            "P(L = 1|I = 0) =  0.32060000000000016\n"
          ]
        }
      ]
    },
    {
      "cell_type": "markdown",
      "source": [
        "SN2. Compute the probability of one student being very smart given some evidence. Check and plot how this probability increases with more variables being observed with favourable values: first without no evidence at all, then only with good recommendation letter, then also with good score at SAT, etc."
      ],
      "metadata": {
        "id": "6cxR2tbr6yO8"
      }
    },
    {
      "cell_type": "code",
      "source": [
        "X = [[ None, None, None, None, None]]\n",
        "p = model2.predict_proba(X) #  matrix of posterior probabilities \n",
        "p1 = p[0][0].parameters[0][\"inteligencia-alta\"]\n",
        "\n",
        "X = [[ None, None, None, None, \"recomendacion-alta\"]]\n",
        "p = model2.predict_proba(X) #  matrix of posterior probabilities \n",
        "p2 = p[0][0].parameters[0][\"inteligencia-alta\"]\n",
        "\n",
        "X = [[ None, None, None, \"SAT-alto\", \"recomendacion-alta\"]]\n",
        "p = model2.predict_proba(X) #  matrix of posterior probabilities \n",
        "p3 = p[0][0].parameters[0][\"inteligencia-alta\"]\n",
        "\n",
        "X = [[ None, None, \"nota-excelente\", \"SAT-alto\", \"recomendacion-alta\"]]\n",
        "p = model2.predict_proba(X) #  matrix of posterior probabilities \n",
        "p4 = p[0][0].parameters[0][\"inteligencia-alta\"]\n",
        "\n",
        "X = [[ None, \"dificultad-alta\", \"nota-excelente\", \"SAT-alto\", \"recomendacion-alta\"]]\n",
        "p = model2.predict_proba(X) #  matrix of posterior probabilities \n",
        "p5 = p[0][0].parameters[0][\"inteligencia-alta\"]\n",
        "\n",
        "probs = [p1, p2, p3, p4, p5]\n",
        "labels = ['no evidence', 'good recommendation', 'good recommendation and SAT', 'good recommendation, SAT, and good score', 'good recommendation, SAT, good score and hard']\n",
        "\n",
        "plt.plot(np.arange(len(probs)), probs, '-o')\n",
        "plt.xticks(np.arange(len(probs)), labels, rotation=45)\n",
        "plt.xlabel('Evidence')\n",
        "plt.ylabel('Probability of high intelligence')\n",
        "plt.ylim([0, 1])\n",
        "plt.show()"
      ],
      "metadata": {
        "colab": {
          "base_uri": "https://localhost:8080/",
          "height": 963
        },
        "id": "biQnlkmzdJZW",
        "outputId": "1a3f627c-e2c9-4175-ae0e-692134f32176"
      },
      "execution_count": 44,
      "outputs": [
        {
          "output_type": "stream",
          "name": "stderr",
          "text": [
            "<ipython-input-44-e1b57daaccdd>:2: DeprecationWarning: `np.float` is a deprecated alias for the builtin `float`. To silence this warning, use `float` by itself. Doing this will not modify any behavior and is safe. If you specifically wanted the numpy scalar type, use `np.float64` here.\n",
            "Deprecated in NumPy 1.20; for more details and guidance: https://numpy.org/devdocs/release/1.20.0-notes.html#deprecations\n",
            "  p = model2.predict_proba(X) #  matrix of posterior probabilities\n",
            "<ipython-input-44-e1b57daaccdd>:6: DeprecationWarning: `np.float` is a deprecated alias for the builtin `float`. To silence this warning, use `float` by itself. Doing this will not modify any behavior and is safe. If you specifically wanted the numpy scalar type, use `np.float64` here.\n",
            "Deprecated in NumPy 1.20; for more details and guidance: https://numpy.org/devdocs/release/1.20.0-notes.html#deprecations\n",
            "  p = model2.predict_proba(X) #  matrix of posterior probabilities\n",
            "<ipython-input-44-e1b57daaccdd>:10: DeprecationWarning: `np.float` is a deprecated alias for the builtin `float`. To silence this warning, use `float` by itself. Doing this will not modify any behavior and is safe. If you specifically wanted the numpy scalar type, use `np.float64` here.\n",
            "Deprecated in NumPy 1.20; for more details and guidance: https://numpy.org/devdocs/release/1.20.0-notes.html#deprecations\n",
            "  p = model2.predict_proba(X) #  matrix of posterior probabilities\n",
            "<ipython-input-44-e1b57daaccdd>:14: DeprecationWarning: `np.float` is a deprecated alias for the builtin `float`. To silence this warning, use `float` by itself. Doing this will not modify any behavior and is safe. If you specifically wanted the numpy scalar type, use `np.float64` here.\n",
            "Deprecated in NumPy 1.20; for more details and guidance: https://numpy.org/devdocs/release/1.20.0-notes.html#deprecations\n",
            "  p = model2.predict_proba(X) #  matrix of posterior probabilities\n",
            "<ipython-input-44-e1b57daaccdd>:18: DeprecationWarning: `np.float` is a deprecated alias for the builtin `float`. To silence this warning, use `float` by itself. Doing this will not modify any behavior and is safe. If you specifically wanted the numpy scalar type, use `np.float64` here.\n",
            "Deprecated in NumPy 1.20; for more details and guidance: https://numpy.org/devdocs/release/1.20.0-notes.html#deprecations\n",
            "  p = model2.predict_proba(X) #  matrix of posterior probabilities\n"
          ]
        },
        {
          "output_type": "display_data",
          "data": {
            "text/plain": [
              "<Figure size 640x480 with 1 Axes>"
            ],
            "image/png": "[encoded data removed]"
          },
          "metadata": {}
        }
      ]
    },
    {
      "cell_type": "markdown",
      "source": [
        "SN3. If a student got good score at SAT and good recommendation letter but poor grade in a course, what is a better explanation, according to this model: that the student is not very intelligent, or that the course was difficult?"
      ],
      "metadata": {
        "id": "oxWW6YzB7BzU"
      }
    },
    {
      "cell_type": "code",
      "source": [
        "X = [[ None, None, \"nota-regular\", \"SAT-alto\", \"recomendacion-alta\"]]\n",
        "p = model2.predict_proba(X) #  matrix of posterior probabilities \n",
        "print(\"P(inteligencia-baja| nota-regular, SAT-alto, recomendacion-alta) = \", p[0][0].parameters[0][\"inteligencia-baja\"])\n",
        "print(\"P(dificultad-alta| nota-regular, SAT-alto, recomendacion-alta) = \", p[0][1].parameters[0][\"dificultad-alta\"])\n",
        "# La mejor explicación es que la dificultad es alta"
      ],
      "metadata": {
        "colab": {
          "base_uri": "https://localhost:8080/"
        },
        "id": "VkL3Lqfcg23N",
        "outputId": "599b4c81-5404-4b4d-d5fb-f1413f9fade2"
      },
      "execution_count": 45,
      "outputs": [
        {
          "output_type": "stream",
          "name": "stdout",
          "text": [
            "P(inteligencia-baja| nota-regular, SAT-alto, recomendacion-alta) =  0.4216867469879523\n",
            "P(dificultad-alta| nota-regular, SAT-alto, recomendacion-alta) =  0.759559979046621\n"
          ]
        },
        {
          "output_type": "stream",
          "name": "stderr",
          "text": [
            "<ipython-input-45-752a76a353ea>:2: DeprecationWarning: `np.float` is a deprecated alias for the builtin `float`. To silence this warning, use `float` by itself. Doing this will not modify any behavior and is safe. If you specifically wanted the numpy scalar type, use `np.float64` here.\n",
            "Deprecated in NumPy 1.20; for more details and guidance: https://numpy.org/devdocs/release/1.20.0-notes.html#deprecations\n",
            "  p = model2.predict_proba(X) #  matrix of posterior probabilities\n"
          ]
        }
      ]
    },
    {
      "cell_type": "markdown",
      "source": [
        "SN4. Find out what are the most probable values for I, L and G if we know that the course was very difficult (D = 2)."
      ],
      "metadata": {
        "id": "nUWLgwOC7Poz"
      }
    },
    {
      "cell_type": "code",
      "source": [
        "X = [[ None, \"dificultad-alta\", None, None, None]]\n",
        "p = model2.predict_proba(X) #  matrix of posterior probabilities\n",
        "print(\"P(inteligencia) = \", p[0][0].parameters[0]) # inteligencia-baja\n",
        "print(\"P(recomendacion) = \", p[0][4].parameters[0]) # recomendacion-baja\n",
        "print(\"P(notas) = \", p[0][2].parameters[0]) # nota regular (baja)"
      ],
      "metadata": {
        "colab": {
          "base_uri": "https://localhost:8080/"
        },
        "id": "36rhEBaUi-zK",
        "outputId": "1412aa94-d0a8-4132-a8aa-0894e066aa48"
      },
      "execution_count": 46,
      "outputs": [
        {
          "output_type": "stream",
          "name": "stdout",
          "text": [
            "P(inteligencia) =  {'inteligencia-alta': 0.3000000000000005, 'inteligencia-baja': 0.6999999999999996}\n",
            "P(recomendacion) =  {'recomendacion-baja': 0.7219999999999996, 'recomendacion-alta': 0.27800000000000047}\n",
            "P(notas) =  {'nota-regular': 0.5499999999999996, 'nota-excelente': 0.1850000000000004, 'nota-buena': 0.26500000000000007}\n"
          ]
        },
        {
          "output_type": "stream",
          "name": "stderr",
          "text": [
            "<ipython-input-46-7a04a601644f>:2: DeprecationWarning: `np.float` is a deprecated alias for the builtin `float`. To silence this warning, use `float` by itself. Doing this will not modify any behavior and is safe. If you specifically wanted the numpy scalar type, use `np.float64` here.\n",
            "Deprecated in NumPy 1.20; for more details and guidance: https://numpy.org/devdocs/release/1.20.0-notes.html#deprecations\n",
            "  p = model2.predict_proba(X) #  matrix of posterior probabilities\n"
          ]
        }
      ]
    },
    {
      "cell_type": "markdown",
      "source": [
        "SN5. ComputeP(I=0,G=1|L=2,S=0)."
      ],
      "metadata": {
        "id": "-5qGKU2X7dWW"
      }
    },
    {
      "cell_type": "code",
      "source": [
        "# P(I=0,G=1|L=2,S=0) = P(I=0,G=1,L=2,S=0) / P(L=2,S=0)\n",
        "X = [[ \"inteligencia-baja\", None, \"nota-regular\", \"SAT-alto\", \"recomendacion-baja\"]]\n",
        "p1 = model2.probability(X) \n",
        "\n",
        "X = [[ None, None, None, \"SAT-alto\", \"recomendacion-baja\"]]\n",
        "p2 = model2.probability(X) \n",
        "print(\"P(I=0,G=1|L=2,S=0) = \", p1/p2)"
      ],
      "metadata": {
        "colab": {
          "base_uri": "https://localhost:8080/"
        },
        "id": "EaKajmsPv0A4",
        "outputId": "d1ca3ffb-8b01-41c3-a0d7-40e29642d2e1"
      },
      "execution_count": 47,
      "outputs": [
        {
          "output_type": "stream",
          "name": "stdout",
          "text": [
            "P(I=0,G=1|L=2,S=0) =  0.03465\n"
          ]
        },
        {
          "output_type": "stream",
          "name": "stderr",
          "text": [
            "<ipython-input-47-28221f4c2679>:3: DeprecationWarning: `np.float` is a deprecated alias for the builtin `float`. To silence this warning, use `float` by itself. Doing this will not modify any behavior and is safe. If you specifically wanted the numpy scalar type, use `np.float64` here.\n",
            "Deprecated in NumPy 1.20; for more details and guidance: https://numpy.org/devdocs/release/1.20.0-notes.html#deprecations\n",
            "  p1 = model2.probability(X)\n",
            "<ipython-input-47-28221f4c2679>:6: DeprecationWarning: `np.float` is a deprecated alias for the builtin `float`. To silence this warning, use `float` by itself. Doing this will not modify any behavior and is safe. If you specifically wanted the numpy scalar type, use `np.float64` here.\n",
            "Deprecated in NumPy 1.20; for more details and guidance: https://numpy.org/devdocs/release/1.20.0-notes.html#deprecations\n",
            "  p2 = model2.probability(X)\n"
          ]
        }
      ]
    }
  ]
}