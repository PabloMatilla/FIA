{
  "nbformat": 4,
  "nbformat_minor": 0,
  "metadata": {
    "colab": {
      "provenance": []
    },
    "kernelspec": {
      "name": "python3",
      "display_name": "Python 3"
    },
    "language_info": {
      "name": "python"
    }
  },
  "cells": [
    {
      "cell_type": "code",
      "execution_count": 2,
      "metadata": {
        "id": "KFYN8DzwkL8_"
      },
      "outputs": [],
      "source": [
        "# Pablo Exposito Matilla al415550@uji.es"
      ]
    },
    {
      "cell_type": "code",
      "source": [
        "!pip install pomegranate==0.13.0\n",
        "!apt install libgraphviz-dev\n",
        "!pip install pygraphviz"
      ],
      "metadata": {
        "colab": {
          "base_uri": "https://localhost:8080/"
        },
        "id": "EXNz9ABCn6tp",
        "outputId": "ac520149-75d3-42ab-eebd-c114f39d5ec0"
      },
      "execution_count": 3,
      "outputs": [
        {
          "output_type": "stream",
          "name": "stdout",
          "text": [
            "Looking in indexes: https://pypi.org/simple, https://us-python.pkg.dev/colab-wheels/public/simple/\n",
            "Requirement already satisfied: pomegranate==0.13.0 in /usr/local/lib/python3.10/dist-packages (0.13.0)\n",
            "Requirement already satisfied: scipy>=0.17.0 in /usr/local/lib/python3.10/dist-packages (from pomegranate==0.13.0) (1.10.1)\n",
            "Requirement already satisfied: pyyaml in /usr/local/lib/python3.10/dist-packages (from pomegranate==0.13.0) (6.0)\n",
            "Requirement already satisfied: numpy>=1.8.0 in /usr/local/lib/python3.10/dist-packages (from pomegranate==0.13.0) (1.22.4)\n",
            "Requirement already satisfied: networkx>=2.0 in /usr/local/lib/python3.10/dist-packages (from pomegranate==0.13.0) (3.1)\n",
            "Requirement already satisfied: joblib>=0.9.0b4 in /usr/local/lib/python3.10/dist-packages (from pomegranate==0.13.0) (1.2.0)\n",
            "Reading package lists... Done\n",
            "Building dependency tree       \n",
            "Reading state information... Done\n",
            "libgraphviz-dev is already the newest version (2.42.2-3build2).\n",
            "0 upgraded, 0 newly installed, 0 to remove and 24 not upgraded.\n",
            "Looking in indexes: https://pypi.org/simple, https://us-python.pkg.dev/colab-wheels/public/simple/\n",
            "Requirement already satisfied: pygraphviz in /usr/local/lib/python3.10/dist-packages (1.10)\n"
          ]
        }
      ]
    },
    {
      "cell_type": "code",
      "source": [
        "from pomegranate import *\n",
        "import matplotlib.pyplot as plt\n",
        "import seaborn\n",
        "import numpy\n",
        "import pygraphviz\n",
        "import numpy as np\n",
        "import matplotlib.pylab as plt\n",
        "import math\n",
        "\n",
        "seaborn.set_style('whitegrid')\n",
        "numpy.random.seed(0)\n",
        "numpy.set_printoptions(suppress=True)"
      ],
      "metadata": {
        "id": "0UM58Y3XpG1S"
      },
      "execution_count": 4,
      "outputs": []
    },
    {
      "cell_type": "markdown",
      "source": [
        "***User identification for human-robot interaction***"
      ],
      "metadata": {
        "id": "QcO36k9U77Fx"
      }
    },
    {
      "cell_type": "markdown",
      "source": [
        "Problem description\n",
        "We want to implement Zas, a social robot, to be able to identify which user (Luke, Sara or Ruth) it is interacting with. To do so, Zas is endowed with two perceptual systems: vision (cameras) and audio (microphones). These systems are aimed at predicting the user gender (female or male) and their height (short or tall). These systems have varying reliability (low or high) due to limitations of both the sensing (low light, occlusions, noise, etc.) and the machine learning (the algorithms are efficient but not very powerful). Overall, the visual system tends to be more reliable than the audio system.\n",
        "The gender estimation uses both the vision and audio modules, and its performance is very good (but not perfect) when both models are reliable. Good gender performance means there is slightly or no bias (i.e. both genders are equally likely, or almost). When both audio and visual perception have low reliability, the gender estimation tends to significantly overestimate the user to be female. When the vision system is more reliable than the audio, Zas is slightly more likely to believe that the user is male. On the contrary, when the audio is more reliable than the vision system, the female gender is predicted slightly more often.\n",
        "The height estimation relies only on the visual system. Good estimation imply that both height categories (short and tall) are essentially equiprobable. Under low visual reliability, the system is prone to understimate the height.\n",
        "Finally, we know that Luke is a short male, and both Ruth and Sara are tall women, and Sara likes to interact more with Zas and do so more often. Sometimes some user (a relative or friend of Luke and Sara) may approach Zas. To consider this possibility, we want Zas to be able to decide that it is just \"another\" user."
      ],
      "metadata": {
        "id": "idjZh84H94ew"
      }
    },
    {
      "cell_type": "markdown",
      "source": [
        "   Model the network\n",
        "* Set the variables and CPDs\n",
        "* Instantiate the model, and build the graph with nodes and edges\n",
        "* Display the graph as a visual check\n",
        "* Prepare the model for inferences"
      ],
      "metadata": {
        "id": "epYwgzYk9838"
      }
    },
    {
      "cell_type": "markdown",
      "source": [
        "UI1. Read the problem description in this notebook and then develop a Bayesian Network to model this problem. First, identify the variables and how they relate one an- other. Then, make up the required probabilities values to be reasonable and compatible with the given descrip- tion. Note: Although it is generally good practice to think in “generative” terms (cause-effect relationships) when developing a Bayesian network, pay attention to the provided description to understand what is adequate or possible in this case."
      ],
      "metadata": {
        "id": "O9V4dOgH9flA"
      }
    },
    {
      "cell_type": "code",
      "source": [
        "fiabilidad_audio = DiscreteDistribution({'high-confidence': 0.4,'low-reliability': 0.6})\n",
        "fiabilidad_vision = DiscreteDistribution({'high-confidence': 0.6,'low-reliability': 0.4})\n",
        "#  Overall, the visual system tends to be more reliable than the audio system. "
      ],
      "metadata": {
        "id": "wNFaTiCh9b4x"
      },
      "execution_count": 5,
      "outputs": []
    },
    {
      "cell_type": "code",
      "source": [
        "genero = ConditionalProbabilityTable(\n",
        "    [[ 'low-reliability', 'low-reliability', 'female', 0.8 ], #  When both audio and visual perception have low reliability, the gender \n",
        "     [ 'low-reliability', 'low-reliability', 'male', 0.2 ],   #  estimation tends to significantly overestimate the user to be female.\n",
        "\n",
        "     [ 'low-reliability', 'high-confidence', 'female', 0.4 ], #  When the vision system is more reliable than the audio,\n",
        "     [ 'low-reliability', 'high-confidence', 'male', 0.6 ],   #  Zas is slightly more likely to believe that the user is male. \n",
        "\n",
        "     [ 'high-confidence', 'low-reliability', 'female', 0.7 ], #  On the contrary, when the audio is more reliable than the vision system,\n",
        "     [ 'high-confidence', 'low-reliability', 'male', 0.3 ],   #  he female gender is predicted slightly more often. \n",
        "     \n",
        "     [ 'high-confidence', 'high-confidence', 'female', 0.52 ],\n",
        "     [ 'high-confidence', 'high-confidence', 'male', 0.48 ]],\n",
        "    [fiabilidad_audio, fiabilidad_vision])\n",
        "\n",
        "\n",
        "altura = ConditionalProbabilityTable(\n",
        "    #  Under low visual reliability, the system is prone to understimate the height. \n",
        "    [[ 'low-reliability', 'tall', 0.3 ],\n",
        "     [ 'low-reliability', 'short', 0.7 ],\n",
        "\n",
        "     [ 'high-confidence', 'tall', 0.5 ],\n",
        "     [ 'high-confidence', 'short', 0.5 ]],\n",
        "    [fiabilidad_vision])"
      ],
      "metadata": {
        "id": "uYxIz7fTAZoT"
      },
      "execution_count": 6,
      "outputs": []
    },
    {
      "cell_type": "code",
      "source": [
        "identificacion = ConditionalProbabilityTable(\n",
        "    \n",
        "    # Finally, we know that Luke is a short male, and both Ruth and Sara are \n",
        "    # tall women, and Sara likes to interact more with Zas and do so more often. \n",
        "    # Sometimes some user (a relative or friend of Luke and Sara) may approach Zas.\n",
        "    \n",
        "    [['male', 'short', 'Luke', 0.89],\n",
        "     ['male', 'tall', 'Luke', 0.05],\n",
        "     ['female', 'short', 'Luke', 0.05],\n",
        "     ['female', 'tall', 'Luke', 0.01],\n",
        "        \n",
        "     ['male', 'short', 'Sara', 0.01 * 1.05], # interact more with Zas\n",
        "     ['male', 'tall', 'Sara', 0.05 * 1.05],\n",
        "     ['female', 'short', 'Sara', 0.05 * 1.05],\n",
        "     ['female', 'tall', 'Sara', 0.89 * 1.05],\n",
        "      \n",
        "     ['male', 'short', 'Ruth', 0.01],\n",
        "     ['male', 'tall', 'Ruth', 0.05],\n",
        "     ['female', 'short', 'Ruth', 0.05],\n",
        "     ['female', 'tall', 'Ruth', 0.89],\n",
        "\n",
        "     ['male', 'short', 'Other', 0.25 * 0.95], # sometimes\n",
        "     ['male', 'tall', 'Other', 0.25 * 0.95],\n",
        "     ['female', 'short', 'Other', 0.25 * 0.95],\n",
        "     ['female', 'tall', 'Other', 0.25 * 0.95]],\n",
        "    [genero, altura])"
      ],
      "metadata": {
        "id": "Eqcq7fsuuzDA"
      },
      "execution_count": 11,
      "outputs": []
    },
    {
      "cell_type": "code",
      "source": [
        "# State objects hold both the distribution, and a high level name\n",
        "s_fiabilidad_audio = State(fiabilidad_audio,name='fiabilidad_audio')\n",
        "s_fiabilidad_video = State(fiabilidad_vision,name='fiabilidad_vision')\n",
        "s_genero = State(genero,name='genero')\n",
        "s_altura = State(altura,name='altura')\n",
        "s_identificacion = State(identificacion,name='identificacion')"
      ],
      "metadata": {
        "id": "OOoltDptF1xG"
      },
      "execution_count": 12,
      "outputs": []
    },
    {
      "cell_type": "code",
      "source": [
        "# Bayesian network\n",
        "model3 = BayesianNetwork(\"User identification for human-robot interaction\")\n",
        "print(model3.name)"
      ],
      "metadata": {
        "colab": {
          "base_uri": "https://localhost:8080/"
        },
        "id": "tjlRDUGwGviQ",
        "outputId": "7c69cc18-ffe9-47c0-8225-5d703846bfa5"
      },
      "execution_count": 13,
      "outputs": [
        {
          "output_type": "stream",
          "name": "stdout",
          "text": [
            "User identification for human-robot interaction\n"
          ]
        }
      ]
    },
    {
      "cell_type": "code",
      "source": [
        "model3.add_states(s_fiabilidad_audio, s_fiabilidad_video, s_genero, s_altura, s_identificacion) # order is unimportant now, but *should* be considered later\n",
        "print(model3) # we can explore and check the output"
      ],
      "metadata": {
        "colab": {
          "base_uri": "https://localhost:8080/"
        },
        "id": "31Z-srUXG-RR",
        "outputId": "c7574301-2a42-4f05-d016-781dab746e2f"
      },
      "execution_count": 14,
      "outputs": [
        {
          "output_type": "stream",
          "name": "stdout",
          "text": [
            "User identification for human-robot interaction:{\n",
            "    \"class\" : \"State\",\n",
            "    \"distribution\" : {\n",
            "        \"class\" : \"Distribution\",\n",
            "        \"dtype\" : \"str\",\n",
            "        \"name\" : \"DiscreteDistribution\",\n",
            "        \"parameters\" : [\n",
            "            {\n",
            "                \"high-confidence\" : 0.4,\n",
            "                \"low-reliability\" : 0.6\n",
            "            }\n",
            "        ],\n",
            "        \"frozen\" : false\n",
            "    },\n",
            "    \"name\" : \"fiabilidad_audio\",\n",
            "    \"weight\" : 1.0\n",
            "}{\n",
            "    \"class\" : \"State\",\n",
            "    \"distribution\" : {\n",
            "        \"class\" : \"Distribution\",\n",
            "        \"dtype\" : \"str\",\n",
            "        \"name\" : \"DiscreteDistribution\",\n",
            "        \"parameters\" : [\n",
            "            {\n",
            "                \"high-confidence\" : 0.6,\n",
            "                \"low-reliability\" : 0.4\n",
            "            }\n",
            "        ],\n",
            "        \"frozen\" : false\n",
            "    },\n",
            "    \"name\" : \"fiabilidad_vision\",\n",
            "    \"weight\" : 1.0\n",
            "}{\n",
            "    \"class\" : \"State\",\n",
            "    \"distribution\" : {\n",
            "        \"class\" : \"Distribution\",\n",
            "        \"name\" : \"ConditionalProbabilityTable\",\n",
            "        \"table\" : [\n",
            "            [\n",
            "                \"low-reliability\",\n",
            "                \"low-reliability\",\n",
            "                \"female\",\n",
            "                \"0.8\"\n",
            "            ],\n",
            "            [\n",
            "                \"low-reliability\",\n",
            "                \"low-reliability\",\n",
            "                \"male\",\n",
            "                \"0.2\"\n",
            "            ],\n",
            "            [\n",
            "                \"low-reliability\",\n",
            "                \"high-confidence\",\n",
            "                \"female\",\n",
            "                \"0.4\"\n",
            "            ],\n",
            "            [\n",
            "                \"low-reliability\",\n",
            "                \"high-confidence\",\n",
            "                \"male\",\n",
            "                \"0.6\"\n",
            "            ],\n",
            "            [\n",
            "                \"high-confidence\",\n",
            "                \"low-reliability\",\n",
            "                \"female\",\n",
            "                \"0.7\"\n",
            "            ],\n",
            "            [\n",
            "                \"high-confidence\",\n",
            "                \"low-reliability\",\n",
            "                \"male\",\n",
            "                \"0.3\"\n",
            "            ],\n",
            "            [\n",
            "                \"high-confidence\",\n",
            "                \"high-confidence\",\n",
            "                \"female\",\n",
            "                \"0.52\"\n",
            "            ],\n",
            "            [\n",
            "                \"high-confidence\",\n",
            "                \"high-confidence\",\n",
            "                \"male\",\n",
            "                \"0.48\"\n",
            "            ]\n",
            "        ],\n",
            "        \"dtypes\" : [\n",
            "            \"str\",\n",
            "            \"str\",\n",
            "            \"str\",\n",
            "            \"float\"\n",
            "        ],\n",
            "        \"parents\" : [\n",
            "            {\n",
            "                \"class\" : \"Distribution\",\n",
            "                \"dtype\" : \"str\",\n",
            "                \"name\" : \"DiscreteDistribution\",\n",
            "                \"parameters\" : [\n",
            "                    {\n",
            "                        \"high-confidence\" : 0.4,\n",
            "                        \"low-reliability\" : 0.6\n",
            "                    }\n",
            "                ],\n",
            "                \"frozen\" : false\n",
            "            },\n",
            "            {\n",
            "                \"class\" : \"Distribution\",\n",
            "                \"dtype\" : \"str\",\n",
            "                \"name\" : \"DiscreteDistribution\",\n",
            "                \"parameters\" : [\n",
            "                    {\n",
            "                        \"high-confidence\" : 0.6,\n",
            "                        \"low-reliability\" : 0.4\n",
            "                    }\n",
            "                ],\n",
            "                \"frozen\" : false\n",
            "            }\n",
            "        ]\n",
            "    },\n",
            "    \"name\" : \"genero\",\n",
            "    \"weight\" : 1.0\n",
            "}{\n",
            "    \"class\" : \"State\",\n",
            "    \"distribution\" : {\n",
            "        \"class\" : \"Distribution\",\n",
            "        \"name\" : \"ConditionalProbabilityTable\",\n",
            "        \"table\" : [\n",
            "            [\n",
            "                \"low-reliability\",\n",
            "                \"tall\",\n",
            "                \"0.3\"\n",
            "            ],\n",
            "            [\n",
            "                \"low-reliability\",\n",
            "                \"short\",\n",
            "                \"0.7\"\n",
            "            ],\n",
            "            [\n",
            "                \"high-confidence\",\n",
            "                \"tall\",\n",
            "                \"0.5\"\n",
            "            ],\n",
            "            [\n",
            "                \"high-confidence\",\n",
            "                \"short\",\n",
            "                \"0.5\"\n",
            "            ]\n",
            "        ],\n",
            "        \"dtypes\" : [\n",
            "            \"str\",\n",
            "            \"str\",\n",
            "            \"float\"\n",
            "        ],\n",
            "        \"parents\" : [\n",
            "            {\n",
            "                \"class\" : \"Distribution\",\n",
            "                \"dtype\" : \"str\",\n",
            "                \"name\" : \"DiscreteDistribution\",\n",
            "                \"parameters\" : [\n",
            "                    {\n",
            "                        \"high-confidence\" : 0.6,\n",
            "                        \"low-reliability\" : 0.4\n",
            "                    }\n",
            "                ],\n",
            "                \"frozen\" : false\n",
            "            }\n",
            "        ]\n",
            "    },\n",
            "    \"name\" : \"altura\",\n",
            "    \"weight\" : 1.0\n",
            "}{\n",
            "    \"class\" : \"State\",\n",
            "    \"distribution\" : {\n",
            "        \"class\" : \"Distribution\",\n",
            "        \"name\" : \"ConditionalProbabilityTable\",\n",
            "        \"table\" : [\n",
            "            [\n",
            "                \"male\",\n",
            "                \"short\",\n",
            "                \"Luke\",\n",
            "                \"0.89\"\n",
            "            ],\n",
            "            [\n",
            "                \"male\",\n",
            "                \"tall\",\n",
            "                \"Luke\",\n",
            "                \"0.05000000000000001\"\n",
            "            ],\n",
            "            [\n",
            "                \"female\",\n",
            "                \"short\",\n",
            "                \"Luke\",\n",
            "                \"0.05000000000000001\"\n",
            "            ],\n",
            "            [\n",
            "                \"female\",\n",
            "                \"tall\",\n",
            "                \"Luke\",\n",
            "                \"0.010000000000000004\"\n",
            "            ],\n",
            "            [\n",
            "                \"male\",\n",
            "                \"short\",\n",
            "                \"Sara\",\n",
            "                \"0.010499999999999997\"\n",
            "            ],\n",
            "            [\n",
            "                \"male\",\n",
            "                \"tall\",\n",
            "                \"Sara\",\n",
            "                \"0.05250000000000002\"\n",
            "            ],\n",
            "            [\n",
            "                \"female\",\n",
            "                \"short\",\n",
            "                \"Sara\",\n",
            "                \"0.05250000000000002\"\n",
            "            ],\n",
            "            [\n",
            "                \"female\",\n",
            "                \"tall\",\n",
            "                \"Sara\",\n",
            "                \"0.9345000000000001\"\n",
            "            ],\n",
            "            [\n",
            "                \"male\",\n",
            "                \"short\",\n",
            "                \"Ruth\",\n",
            "                \"0.010000000000000004\"\n",
            "            ],\n",
            "            [\n",
            "                \"male\",\n",
            "                \"tall\",\n",
            "                \"Ruth\",\n",
            "                \"0.05000000000000001\"\n",
            "            ],\n",
            "            [\n",
            "                \"female\",\n",
            "                \"short\",\n",
            "                \"Ruth\",\n",
            "                \"0.05000000000000001\"\n",
            "            ],\n",
            "            [\n",
            "                \"female\",\n",
            "                \"tall\",\n",
            "                \"Ruth\",\n",
            "                \"0.89\"\n",
            "            ],\n",
            "            [\n",
            "                \"male\",\n",
            "                \"short\",\n",
            "                \"Other\",\n",
            "                \"0.2375\"\n",
            "            ],\n",
            "            [\n",
            "                \"male\",\n",
            "                \"tall\",\n",
            "                \"Other\",\n",
            "                \"0.2375\"\n",
            "            ],\n",
            "            [\n",
            "                \"female\",\n",
            "                \"short\",\n",
            "                \"Other\",\n",
            "                \"0.2375\"\n",
            "            ],\n",
            "            [\n",
            "                \"female\",\n",
            "                \"tall\",\n",
            "                \"Other\",\n",
            "                \"0.2375\"\n",
            "            ]\n",
            "        ],\n",
            "        \"dtypes\" : [\n",
            "            \"str\",\n",
            "            \"str\",\n",
            "            \"str\",\n",
            "            \"float\"\n",
            "        ],\n",
            "        \"parents\" : [\n",
            "            {\n",
            "                \"class\" : \"Distribution\",\n",
            "                \"name\" : \"ConditionalProbabilityTable\",\n",
            "                \"table\" : [\n",
            "                    [\n",
            "                        \"low-reliability\",\n",
            "                        \"low-reliability\",\n",
            "                        \"female\",\n",
            "                        \"0.8\"\n",
            "                    ],\n",
            "                    [\n",
            "                        \"low-reliability\",\n",
            "                        \"low-reliability\",\n",
            "                        \"male\",\n",
            "                        \"0.2\"\n",
            "                    ],\n",
            "                    [\n",
            "                        \"low-reliability\",\n",
            "                        \"high-confidence\",\n",
            "                        \"female\",\n",
            "                        \"0.4\"\n",
            "                    ],\n",
            "                    [\n",
            "                        \"low-reliability\",\n",
            "                        \"high-confidence\",\n",
            "                        \"male\",\n",
            "                        \"0.6\"\n",
            "                    ],\n",
            "                    [\n",
            "                        \"high-confidence\",\n",
            "                        \"low-reliability\",\n",
            "                        \"female\",\n",
            "                        \"0.7\"\n",
            "                    ],\n",
            "                    [\n",
            "                        \"high-confidence\",\n",
            "                        \"low-reliability\",\n",
            "                        \"male\",\n",
            "                        \"0.3\"\n",
            "                    ],\n",
            "                    [\n",
            "                        \"high-confidence\",\n",
            "                        \"high-confidence\",\n",
            "                        \"female\",\n",
            "                        \"0.52\"\n",
            "                    ],\n",
            "                    [\n",
            "                        \"high-confidence\",\n",
            "                        \"high-confidence\",\n",
            "                        \"male\",\n",
            "                        \"0.48\"\n",
            "                    ]\n",
            "                ],\n",
            "                \"dtypes\" : [\n",
            "                    \"str\",\n",
            "                    \"str\",\n",
            "                    \"str\",\n",
            "                    \"float\"\n",
            "                ],\n",
            "                \"parents\" : [\n",
            "                    {\n",
            "                        \"class\" : \"Distribution\",\n",
            "                        \"dtype\" : \"str\",\n",
            "                        \"name\" : \"DiscreteDistribution\",\n",
            "                        \"parameters\" : [\n",
            "                            {\n",
            "                                \"high-confidence\" : 0.4,\n",
            "                                \"low-reliability\" : 0.6\n",
            "                            }\n",
            "                        ],\n",
            "                        \"frozen\" : false\n",
            "                    },\n",
            "                    {\n",
            "                        \"class\" : \"Distribution\",\n",
            "                        \"dtype\" : \"str\",\n",
            "                        \"name\" : \"DiscreteDistribution\",\n",
            "                        \"parameters\" : [\n",
            "                            {\n",
            "                                \"high-confidence\" : 0.6,\n",
            "                                \"low-reliability\" : 0.4\n",
            "                            }\n",
            "                        ],\n",
            "                        \"frozen\" : false\n",
            "                    }\n",
            "                ]\n",
            "            },\n",
            "            {\n",
            "                \"class\" : \"Distribution\",\n",
            "                \"name\" : \"ConditionalProbabilityTable\",\n",
            "                \"table\" : [\n",
            "                    [\n",
            "                        \"low-reliability\",\n",
            "                        \"tall\",\n",
            "                        \"0.3\"\n",
            "                    ],\n",
            "                    [\n",
            "                        \"low-reliability\",\n",
            "                        \"short\",\n",
            "                        \"0.7\"\n",
            "                    ],\n",
            "                    [\n",
            "                        \"high-confidence\",\n",
            "                        \"tall\",\n",
            "                        \"0.5\"\n",
            "                    ],\n",
            "                    [\n",
            "                        \"high-confidence\",\n",
            "                        \"short\",\n",
            "                        \"0.5\"\n",
            "                    ]\n",
            "                ],\n",
            "                \"dtypes\" : [\n",
            "                    \"str\",\n",
            "                    \"str\",\n",
            "                    \"float\"\n",
            "                ],\n",
            "                \"parents\" : [\n",
            "                    {\n",
            "                        \"class\" : \"Distribution\",\n",
            "                        \"dtype\" : \"str\",\n",
            "                        \"name\" : \"DiscreteDistribution\",\n",
            "                        \"parameters\" : [\n",
            "                            {\n",
            "                                \"high-confidence\" : 0.6,\n",
            "                                \"low-reliability\" : 0.4\n",
            "                            }\n",
            "                        ],\n",
            "                        \"frozen\" : false\n",
            "                    }\n",
            "                ]\n",
            "            }\n",
            "        ]\n",
            "    },\n",
            "    \"name\" : \"identificacion\",\n",
            "    \"weight\" : 1.0\n",
            "}\n"
          ]
        }
      ]
    },
    {
      "cell_type": "code",
      "source": [
        "# add_edge(parent,child) parent -> child\n",
        "model3.add_edge(s_fiabilidad_audio,s_genero) \n",
        "model3.add_edge(s_fiabilidad_video,s_genero) \n",
        "model3.add_edge(s_fiabilidad_video,s_altura) \n",
        "model3.add_edge(s_genero, s_identificacion)\n",
        "model3.add_edge(s_altura, s_identificacion)"
      ],
      "metadata": {
        "id": "yiFAN7-XH4gU"
      },
      "execution_count": 15,
      "outputs": []
    },
    {
      "cell_type": "code",
      "source": [
        "# draw network (graph)\n",
        "\n",
        "model3.plot()\n",
        "\n",
        "#print(model)"
      ],
      "metadata": {
        "colab": {
          "base_uri": "https://localhost:8080/",
          "height": 346
        },
        "id": "Vj_Q14hrJHJH",
        "outputId": "fe141dbe-29fa-4420-a446-e9c4a5673612"
      },
      "execution_count": 16,
      "outputs": [
        {
          "output_type": "display_data",
          "data": {
            "text/plain": [
              "<Figure size 640x480 with 1 Axes>"
            ],
            "image/png": "[encoded data removed]"
          },
          "metadata": {}
        }
      ]
    },
    {
      "cell_type": "code",
      "source": [
        "# Prepare for internal computations (factor graphs in BN)\n",
        "model3.bake()"
      ],
      "metadata": {
        "id": "odPcX1WholQG"
      },
      "execution_count": 17,
      "outputs": []
    },
    {
      "cell_type": "markdown",
      "source": [
        "UI2. Assuming both sensors have low reliability and that the\n",
        "estimated height is tall, what is the most likely gender\n",
        "the system will estimate? Assuming this most probably\n",
        "gender, who is the most likely user? What if the height\n",
        "is short instead?\n"
      ],
      "metadata": {
        "id": "1fzmzaBqq1Qt"
      }
    },
    {
      "cell_type": "code",
      "source": [
        "X = [[ 'low-reliability', 'low-reliability', None, 'tall', None]]\n",
        "p = model3.predict_proba(X) #  matrix of posterior probabilities\n",
        "print(\"P(Genero |low-reliability, low-reliability, tall) = \", p[0][2].parameters)\n",
        " # El genero mas probable en este caso es mujer"
      ],
      "metadata": {
        "id": "eAKRogeuosT9",
        "colab": {
          "base_uri": "https://localhost:8080/"
        },
        "outputId": "ead52588-8adb-4b5c-9c26-24a4020f6997"
      },
      "execution_count": 18,
      "outputs": [
        {
          "output_type": "stream",
          "name": "stdout",
          "text": [
            "P(Genero |low-reliability, low-reliability, tall) =  [{'female': 0.9550587693016823, 'male': 0.04494123069831772}]\n"
          ]
        },
        {
          "output_type": "stream",
          "name": "stderr",
          "text": [
            "<ipython-input-18-9979df1eeb4e>:2: DeprecationWarning: `np.float` is a deprecated alias for the builtin `float`. To silence this warning, use `float` by itself. Doing this will not modify any behavior and is safe. If you specifically wanted the numpy scalar type, use `np.float64` here.\n",
            "Deprecated in NumPy 1.20; for more details and guidance: https://numpy.org/devdocs/release/1.20.0-notes.html#deprecations\n",
            "  p = model3.predict_proba(X) #  matrix of posterior probabilities\n"
          ]
        }
      ]
    },
    {
      "cell_type": "code",
      "source": [
        "X = [[ 'low-reliability', 'low-reliability', None, 'short', None]]\n",
        "p = model3.predict_proba([[ 'low-reliability', 'low-reliability', None, 'short', None]]) #  matrix of posterior probabilities\n",
        "print(\"P(Genero |low-reliability, low-reliability, short) = \", p[0][2].parameters)\n",
        " # En este caso los dos generos estas muy igualados"
      ],
      "metadata": {
        "colab": {
          "base_uri": "https://localhost:8080/"
        },
        "id": "VZRCk-zBdjI4",
        "outputId": "fd39b191-0f8a-442e-9fa2-a1349c950bdd"
      },
      "execution_count": 19,
      "outputs": [
        {
          "output_type": "stream",
          "name": "stdout",
          "text": [
            "P(Genero |low-reliability, low-reliability, short) =  [{'female': 0.5760709010339732, 'male': 0.4239290989660269}]\n"
          ]
        },
        {
          "output_type": "stream",
          "name": "stderr",
          "text": [
            "<ipython-input-19-652b785d7d78>:2: DeprecationWarning: `np.float` is a deprecated alias for the builtin `float`. To silence this warning, use `float` by itself. Doing this will not modify any behavior and is safe. If you specifically wanted the numpy scalar type, use `np.float64` here.\n",
            "Deprecated in NumPy 1.20; for more details and guidance: https://numpy.org/devdocs/release/1.20.0-notes.html#deprecations\n",
            "  p = model3.predict_proba([[ 'low-reliability', 'low-reliability', None, 'short', None]]) #  matrix of posterior probabilities\n"
          ]
        }
      ]
    },
    {
      "cell_type": "markdown",
      "source": [
        "UI3. Given the evidence of good reliability of both perception modules and short height, what are the probabilities for each possible user, including another? How do these probabilities change if we further observe the gender and it is female? Try to make sense of these results.\n"
      ],
      "metadata": {
        "id": "5ktS5M-NewRZ"
      }
    },
    {
      "cell_type": "code",
      "source": [
        "X = [[ 'high-confidence', 'high-confidence', None, 'short', None]]\n",
        "p = model3.predict_proba(X) #  matrix of posterior probabilities\n",
        "print(\"P(User |high-confidence, high-confidence, short) = \", p[0][4].parameters)\n",
        " # El usuario mas probable es Luke"
      ],
      "metadata": {
        "colab": {
          "base_uri": "https://localhost:8080/"
        },
        "id": "CZB7d_Cte0RF",
        "outputId": "f0ce3db7-7bf9-4ff9-bde3-81b4c628ba2e"
      },
      "execution_count": 20,
      "outputs": [
        {
          "output_type": "stream",
          "name": "stdout",
          "text": [
            "P(User |high-confidence, high-confidence, short) =  [{'Ruth': 0.04085747638756254, 'Other': 0.3150535922742226, 'Luke': 0.6011885811312742, 'Sara': 0.042900350206940656}]\n"
          ]
        },
        {
          "output_type": "stream",
          "name": "stderr",
          "text": [
            "<ipython-input-20-cd89b6574396>:2: DeprecationWarning: `np.float` is a deprecated alias for the builtin `float`. To silence this warning, use `float` by itself. Doing this will not modify any behavior and is safe. If you specifically wanted the numpy scalar type, use `np.float64` here.\n",
            "Deprecated in NumPy 1.20; for more details and guidance: https://numpy.org/devdocs/release/1.20.0-notes.html#deprecations\n",
            "  p = model3.predict_proba(X) #  matrix of posterior probabilities\n"
          ]
        }
      ]
    },
    {
      "cell_type": "code",
      "source": [
        "X = [[ 'high-confidence', 'high-confidence', 'female', 'short', None]]\n",
        "p = model3.predict_proba(X) #  matrix of posterior probabilities\n",
        "print(\"P(User |high-confidence, high-confidence, short) = \", p[0][4].parameters)\n",
        " # El usuario mas probable es otro, ya que sabemos que ambas chicas son altas"
      ],
      "metadata": {
        "colab": {
          "base_uri": "https://localhost:8080/"
        },
        "id": "zRd9YspWfQ_t",
        "outputId": "e6b95a6c-ed2a-4850-8bf9-78480470d719"
      },
      "execution_count": 21,
      "outputs": [
        {
          "output_type": "stream",
          "name": "stdout",
          "text": [
            "P(User |high-confidence, high-confidence, short) =  [{'Ruth': 0.1282051282051283, 'Other': 0.6089743589743586, 'Luke': 0.1282051282051283, 'Sara': 0.13461538461538472}]\n"
          ]
        },
        {
          "output_type": "stream",
          "name": "stderr",
          "text": [
            "<ipython-input-21-c9579101f10c>:2: DeprecationWarning: `np.float` is a deprecated alias for the builtin `float`. To silence this warning, use `float` by itself. Doing this will not modify any behavior and is safe. If you specifically wanted the numpy scalar type, use `np.float64` here.\n",
            "Deprecated in NumPy 1.20; for more details and guidance: https://numpy.org/devdocs/release/1.20.0-notes.html#deprecations\n",
            "  p = model3.predict_proba(X) #  matrix of posterior probabilities\n"
          ]
        }
      ]
    }
  ]
}