{
  "nbformat": 4,
  "nbformat_minor": 0,
  "metadata": {
    "colab": {
      "provenance": []
    },
    "kernelspec": {
      "name": "python3",
      "display_name": "Python 3"
    },
    "language_info": {
      "name": "python"
    }
  },
  "cells": [
    {
      "cell_type": "markdown",
      "source": [
        "# SESSION 2: AGENT WITH BASIC PLANNING CAPABILITIES"
      ],
      "metadata": {
        "id": "mzX8epPQjChm"
      }
    },
    {
      "cell_type": "code",
      "execution_count": 1,
      "metadata": {
        "id": "QfLT_aanMKo_"
      },
      "outputs": [],
      "source": [
        "import numpy as np\n",
        "from random import choice,randint,shuffle,random"
      ]
    },
    {
      "cell_type": "markdown",
      "source": [
        "## Breadth-First Search Code"
      ],
      "metadata": {
        "id": "KBFID9VzjKul"
      }
    },
    {
      "cell_type": "code",
      "source": [
        "## COPY here the necessary code for BFS strategy"
      ],
      "metadata": {
        "id": "wpHS6hAvVKex"
      },
      "execution_count": 2,
      "outputs": []
    },
    {
      "cell_type": "code",
      "source": [
        "class search_node:\n",
        "  def __init__(self, state, parent, action, path_cost):\n",
        "    self.state  = state\n",
        "    self.parent = parent\n",
        "    self.action = action\n",
        "    self.path_cost = path_cost\n",
        "\n",
        "  def is_equal_to(self, node):\n",
        "    return np.array_equal(self.state, node.state)\n",
        "\n",
        "\n",
        "def create_successor(env, parent, action):\n",
        "\n",
        "      state = env.execute(parent, action)\n",
        "\n",
        "      #We assume that all actions has cost 1\n",
        "      new_node = search_node(state, parent, action, parent.path_cost + 1)\n",
        "\n",
        "      return new_node\n",
        "\n",
        "## ALGORITHM BREADTH-FIRST SEARCH\n",
        "\n",
        "def bfs(env, start_node, end_node):\n",
        "  \n",
        "  frontier = []\n",
        "  visited  = []\n",
        "  contador = 0\n",
        "\n",
        "  frontier.append(start_node)\n",
        "\n",
        "  while frontier:\n",
        "    contador += 1\n",
        "  # get the next node from the frontier\n",
        "    node = frontier.pop(0) # this assumes a breadth-first search\n",
        "  \n",
        "  # check if the node has already been visited\n",
        "    if str(node.state) in visited:\n",
        "      continue\n",
        "  \n",
        "   # mark the node as visited\n",
        "    visited.append(str(node.state))\n",
        "  \n",
        "    # check if the node is a goal\n",
        "    if node.is_equal_to(end_node):\n",
        "      return node, contador # return the node if it is a goal\n",
        "\n",
        "    # expand the node and add its successors to the frontier\n",
        "    for action in env.actions:\n",
        "      if env.valid_action(node.state, action):\n",
        "        child = create_successor(env, node, action)\n",
        "        frontier.append(child)\n",
        "\n",
        "  #No solution\n",
        "  return None\n",
        "\n",
        "def dfs(env, start_node, end_node):\n",
        "  \n",
        "  frontier = []\n",
        "  visited  = []\n",
        "  contador = 0\n",
        "\n",
        "  frontier.append(start_node)\n",
        "\n",
        "  while frontier:\n",
        "    contador += 1\n",
        "  # get the next node from the frontier\n",
        "    node = frontier.pop(-1) # this assumes a breadth-first search\n",
        "  \n",
        "  # check if the node has already been visited\n",
        "    if str(node.state) in visited:\n",
        "      continue\n",
        "  \n",
        "   # mark the node as visited\n",
        "    visited.append(str(node.state))\n",
        "  \n",
        "    # check if the node is a goal\n",
        "    if node.is_equal_to(end_node):\n",
        "      return node, contador # return the node if it is a goal\n",
        "\n",
        "    # expand the node and add its successors to the frontier\n",
        "    for action in env.actions:\n",
        "      if env.valid_action(node.state, action):\n",
        "        child = create_successor(env, node, action)\n",
        "        frontier.append(child)\n",
        "\n",
        "  #No solution\n",
        "  return None\n",
        "  \n",
        "  frontier = []\n",
        "  visited  = []\n",
        "\n",
        "  frontier.append(start_node)\n",
        "\n",
        "  while frontier:\n",
        "  # get the next node from the frontier\n",
        "    node = frontier.pop(0) # this assumes a breadth-first search\n",
        "  \n",
        "  # check if the node has already been visited\n",
        "    if str(node.state) in visited:\n",
        "      continue\n",
        "  \n",
        "   # mark the node as visited\n",
        "    visited.append(str(node.state))\n",
        "  \n",
        "    # check if the node is a goal\n",
        "    if node.is_equal_to(end_node):\n",
        "      return node # return the node if it is a goal\n",
        "\n",
        "    # expand the node and add its successors to the frontier\n",
        "    for action in env.actions:\n",
        "      if env.valid_action(node.state, action):\n",
        "        child = create_successor(env, node, action)\n",
        "        frontier.append(child)\n",
        "\n",
        "  #No solution\n",
        "  return None\n",
        "\n",
        "# SEARCH\n",
        "\n",
        "def cost_bfs(env, start_node, end_node):\n",
        "  \n",
        "  frontier = []\n",
        "  visited  = []\n",
        "  contador = 0\n",
        "\n",
        "  frontier.append(start_node)\n",
        "\n",
        "  while frontier:\n",
        "    contador += 1\n",
        "  # get the next node from the frontier\n",
        "    frontier.sort(key = lambda x: x.path_cost)\n",
        "    node = frontier.pop(0)\n",
        "    \n",
        "  \n",
        "  # check if the node has already been visited\n",
        "    if str(node.state) in visited:\n",
        "      continue\n",
        "  \n",
        "   # mark the node as visited\n",
        "    visited.append(str(node.state))\n",
        "  \n",
        "    # check if the node is a goal\n",
        "    if node.is_equal_to(end_node):\n",
        "      return node, contador # return the node if it is a goal\n",
        "\n",
        "    # expand the node and add its successors to the frontier\n",
        "    for action in env.actions:\n",
        "      if env.valid_action(node.state, action):\n",
        "        child = create_successor(env, node, action)\n",
        "        frontier.append(child)\n",
        "\n",
        "  #No solution\n",
        "  return None\n",
        "\n",
        "def search_path(env, Ini, End, type):\n",
        "\n",
        "  start_node = search_node(Ini, None, None, 0)\n",
        "  end_node   = search_node(End, None, None, 0)\n",
        "\n",
        "  # SOLUTION \n",
        "  if type == \"bfs\":\n",
        "    solution, cont = bfs(env, start_node, end_node)\n",
        "  elif type == \"dfs\":\n",
        "    solution, cont = dfs(env, start_node, end_node)\n",
        "  elif type == \"cost_bfs\":\n",
        "    solution, cont = cost_bfs(env, start_node, end_node)\n",
        "\n",
        "  if solution:\n",
        "    path = []\n",
        "    while solution.parent:\n",
        "      path = [solution.action] + path\n",
        "      solution = solution.parent\n",
        "\n",
        "    return [path, cont]\n",
        "  else:\n",
        "    return None\n",
        "\n",
        "\n",
        "\"\"\"\n",
        "# EXAMPLE OF USE (PROBLEM)\n",
        "\n",
        "environment = Env(G, labels)\n",
        "initial_state = \"1\"\n",
        "final_state = \"6\"\n",
        "\n",
        "# SOLUTION\n",
        "\n",
        "plan = search_path(environment, initial_state, final_state)\n",
        "print('Plan: ', plan)\n",
        "\n",
        "\"\"\""
      ],
      "metadata": {
        "id": "sa0FY8Offme8",
        "outputId": "59e0a4e4-da26-4b40-ac89-86b3be0517f8",
        "colab": {
          "base_uri": "https://localhost:8080/",
          "height": 53
        }
      },
      "execution_count": 3,
      "outputs": [
        {
          "output_type": "execute_result",
          "data": {
            "text/plain": [
              "'\\n# EXAMPLE OF USE (PROBLEM)\\n\\nenvironment = Env(G, labels)\\ninitial_state = \"1\"\\nfinal_state = \"6\"\\n\\n# SOLUTION\\n\\nplan = search_path(environment, initial_state, final_state)\\nprint(\\'Plan: \\', plan)\\n\\n'"
            ],
            "application/vnd.google.colaboratory.intrinsic+json": {
              "type": "string"
            }
          },
          "metadata": {},
          "execution_count": 3
        }
      ]
    },
    {
      "cell_type": "markdown",
      "source": [
        "## AGENT IMPLEMENTATION"
      ],
      "metadata": {
        "id": "tLFbxZfpi4XV"
      }
    },
    {
      "cell_type": "code",
      "source": [
        "def randomObstacles(matrix, No):\n",
        "  \n",
        "  N = len(matrix)\n",
        "  \n",
        "  assert No <= N*N, \"Too many obstacles to fit\" # alternative checking \n",
        "\n",
        "  if No > N**2: \n",
        "      return False \n",
        "\n",
        "  obs_pos = np.random.choice(N*N, size = No, replace = False)\n",
        "  #ravel flattens a 2D matrix into an 1D array, unravel is the inverse\n",
        "  matrix[np.unravel_index(obs_pos,(N,N))] = 0\n",
        "  \n",
        "  return True"
      ],
      "metadata": {
        "id": "kKfep-6IM6Uk"
      },
      "execution_count": 4,
      "outputs": []
    },
    {
      "cell_type": "code",
      "source": [
        "class Agent:\n",
        "\n",
        "   def __init__(self, N: int, No: int):\n",
        "\n",
        "      matrix =  np.ones((N,N))\n",
        "\n",
        "      randomObstacles(matrix, No)\n",
        "\n",
        "      self.KB = { \"size\": N,\n",
        "                  \"cells\": matrix,\n",
        "                  \"pos\": np.array([35,35])\n",
        "              }\n",
        "\n",
        "      self.actions = {\"up\":    [-1, 0],\n",
        "                      \"left\":  [0, -1],\n",
        "                      \"right\": [0,  1],\n",
        "                      \"down\":  [1,  0] \n",
        "                    }\n",
        "   \n",
        "   def updateKB(self, percepts, action):\n",
        "           \n",
        "      self.KB[\"pos\"] = self.KB[\"pos\"] + action\n",
        "\n",
        "   def valid(self, k, percept): #excution time\n",
        "       a = np.array(self.actions[k])\n",
        "       s = np.array([1,1]) + a\n",
        "       return percept[s[0],s[1]] == 1  \n",
        "\n",
        "   def valid_action(self, state, k): #planning time / To be used within bfs function\n",
        "       #state debe ser un array 2D\n",
        "       if type(state) != type(None):\n",
        "        new_pos = state + self.actions[k]\n",
        "        valid = (0  <= new_pos[0] < self.KB[\"size\"])\n",
        "        valid = valid and  (0  <= new_pos[1] < self.KB[\"size\"])\n",
        "        return valid\n",
        "          \n",
        "   def action(self, percept, default=None):\n",
        "\n",
        "      if default!=None and default in self.actions:\n",
        "        k = default\n",
        "      else:\n",
        "        valid_actions = [k for k in self.actions if self.valid(k, percept)]\n",
        "        k = np.random.choice(valid_actions)\n",
        "       \n",
        "      if default!=None and not self.valid(k, percept):\n",
        "        ##What to return if it is not possible to execute the action (obstacle)?\n",
        "        return [None, None]\n",
        "      \n",
        "      a = np.array(self.actions[k])\n",
        "\n",
        "      return [k, a]\n",
        "        \n",
        "   def getPercept(self):\n",
        "      matrix = self.KB[\"cells\"]\n",
        "      # we surround the matrix with a border of blocked cells (0)\n",
        "      matrix = np.pad(matrix, pad_width=1, mode='constant', constant_values=0)\n",
        "      # positions in the new extended matrix\n",
        "      i, j = self.KB[\"pos\"][0] + 1, self.KB[\"pos\"][1] + 1\n",
        "      # 3x3 matrix \n",
        "      return matrix[i-1 : i+2, j-1 : j+2]\n",
        "\n",
        "   def random_loop(self, iters):\n",
        "\n",
        "      path = []\n",
        "      for i in range(iters):\n",
        "         X = self.getPercept()\n",
        "         [k, a] = self.action(X, default=None)\n",
        "         path.append(self.KB[\"pos\"])\n",
        "         self.updateKB(X, a)\n",
        "\n",
        "      return path\n",
        "\n",
        "   def execute (self, parent, action):\n",
        "     # get the new position of the agent\n",
        "      node = search_node(None, parent, self.actions[action], None) \n",
        "     # by applying the action to the parent’s state                                                            \n",
        "      new_position = parent.state + node.action         \n",
        "\n",
        "     # get the value of the KB matrix if so, return the new position\n",
        "      matrix = self.KB[\"cells\"]                                    \n",
        "      valor = matrix[new_position[0], new_position[1]]    \n",
        "\n",
        "      # Check if the value is a free cell if so, return the new position\n",
        "      if valor == 1:\n",
        "        return new_position\n",
        "      else: return None    # else return None\n",
        "\n",
        "\n",
        "   def loop_with_plan(self, Ini, plan):\n",
        "       \n",
        "      self.KB[\"pos\"] = Ini\n",
        "      path = []\n",
        "      \n",
        "      for action in plan:\n",
        "         X = self.getPercept()\n",
        "         [k, a] = self.action(X, default=action)\n",
        "         ##CHECK if the plan is interrupted by an obstacle\n",
        "         if k==None:\n",
        "           return None\n",
        "         path.append(self.KB[\"pos\"])\n",
        "         self.updateKB(X, a)\n",
        "\n",
        "      return path\n",
        "   \n",
        "   def get_a_plan(self, Ini, End, type):\n",
        "      \n",
        "      plan = search_path(self, Ini, End, type)[0]\n",
        "      cont = search_path(self, Ini, End, type)[1]\n",
        "      return [plan, cont]\n",
        "\n",
        "   def goal_oriented_loop(self, Ini, End, type):\n",
        "      plan = self.get_a_plan(Ini, End, type)[0]\n",
        "      result = self.loop_with_plan(Ini, plan)\n",
        "      cont = self.get_a_plan(Ini, End, type)[1]\n",
        "\n",
        "      return [result, cont]\n",
        "      "
      ],
      "metadata": {
        "id": "C-hrkPGZMTfu"
      },
      "execution_count": 5,
      "outputs": []
    },
    {
      "cell_type": "code",
      "source": [
        "agent = Agent(70, 25)"
      ],
      "metadata": {
        "id": "j2mcQ4e-MTT2"
      },
      "execution_count": 6,
      "outputs": []
    },
    {
      "cell_type": "markdown",
      "source": [
        "### TEST WITH VISUALIZATION"
      ],
      "metadata": {
        "id": "mAqeCrkVimiO"
      }
    },
    {
      "cell_type": "markdown",
      "source": [
        "### Instructed agent with final random"
      ],
      "metadata": {
        "id": "Lo9mxUbv4LZ3"
      }
    },
    {
      "cell_type": "code",
      "source": [
        "path = agent.loop_with_plan(np.array([35,35]), [\"up\",\"left\",\"down\",\"left\",\"left\"] + ['up']*10)\n",
        "\n",
        "if path!=None:\n",
        "   path.extend(agent.random_loop(150))"
      ],
      "metadata": {
        "id": "2TypneDOP5Vr"
      },
      "execution_count": null,
      "outputs": []
    },
    {
      "cell_type": "code",
      "source": [
        "import matplotlib.pyplot as plt\n",
        "\n",
        "# static display of full path\n",
        "\n",
        "matrix = agent.KB[\"cells\"].copy()\n",
        "\n",
        "for (i, p) in enumerate(path):\n",
        "  matrix[p[0]][p[1]] = -1\n",
        "\n",
        "plt.figure(figsize=(7,7))\n",
        "plt.matshow(matrix, fignum=1, aspect='auto')"
      ],
      "metadata": {
        "id": "HBezHuZa37oe",
        "colab": {
          "base_uri": "https://localhost:8080/",
          "height": 459
        },
        "outputId": "49fb97cd-01d2-4296-b8a8-67d9893e4ae5"
      },
      "execution_count": 15,
      "outputs": [
        {
          "output_type": "execute_result",
          "data": {
            "text/plain": [
              "<matplotlib.image.AxesImage at 0x7f3d18286e20>"
            ]
          },
          "metadata": {},
          "execution_count": 15
        },
        {
          "output_type": "display_data",
          "data": {
            "text/plain": [
              "<Figure size 504x504 with 1 Axes>"
            ],
            "image/png": "[encoded data removed]"
          },
          "metadata": {
            "needs_background": "light"
          }
        }
      ]
    },
    {
      "cell_type": "markdown",
      "source": [
        "### Agent with goals"
      ],
      "metadata": {
        "id": "3JeiDsCI4TLH"
      }
    },
    {
      "cell_type": "code",
      "source": [
        "path = agent.goal_oriented_loop(np.array([35,35]), np.array([0,0]), \"bfs\")[0]\n"
      ],
      "metadata": {
        "id": "QQwRoBYv4XXX"
      },
      "execution_count": null,
      "outputs": []
    },
    {
      "cell_type": "code",
      "source": [
        "# static display of full path\n",
        "\n",
        "matrix = agent.KB[\"cells\"].copy()\n",
        "\n",
        "for (i, p) in enumerate(path):\n",
        "  matrix[p[0]][p[1]] = -1\n",
        "plt.figure(figsize=(7,7))\n",
        "plt.matshow(matrix, fignum=1, aspect='auto')"
      ],
      "metadata": {
        "id": "Z7LLnNBH4qro",
        "outputId": "e0e0dde9-eaeb-4333-9541-e6766dbab682",
        "colab": {
          "base_uri": "https://localhost:8080/",
          "height": 459
        }
      },
      "execution_count": null,
      "outputs": [
        {
          "output_type": "execute_result",
          "data": {
            "text/plain": [
              "<matplotlib.image.AxesImage at 0x7f6d900c89a0>"
            ]
          },
          "metadata": {},
          "execution_count": 10
        },
        {
          "output_type": "display_data",
          "data": {
            "text/plain": [
              "<Figure size 504x504 with 1 Axes>"
            ],
            "image/png": "[encoded data removed]"
          },
          "metadata": {
            "needs_background": "light"
          }
        }
      ]
    },
    {
      "cell_type": "markdown",
      "source": [
        "## EVALUATE THE AGENT'S PERFORMANCE"
      ],
      "metadata": {
        "id": "7oFl4EKCiv0l"
      }
    },
    {
      "cell_type": "code",
      "source": [
        "## Generate 10 random problems\n",
        "import time"
      ],
      "metadata": {
        "id": "tA2A_7so008i"
      },
      "execution_count": 7,
      "outputs": []
    },
    {
      "cell_type": "code",
      "source": [
        "# Breadth First Search (BFS)\n",
        "list_time = []\n",
        "visited_nodes = []\n",
        "path_size = []"
      ],
      "metadata": {
        "id": "ZjHTFsC6FP06"
      },
      "execution_count": null,
      "outputs": []
    },
    {
      "cell_type": "code",
      "source": [
        "start_time = time.time()\n",
        "agent = Agent(10, 20)\n",
        "l = agent.goal_oriented_loop(np.array([2, 2]), np.array([7, 9]), \"bfs\")\n",
        "path = l[0]\n",
        "matrix = agent.KB[\"cells\"].copy()\n",
        "for (i, p) in enumerate(path):\n",
        "  matrix[p[0]][p[1]] = -1\n",
        "plt.figure(figsize=(7,7))\n",
        "plt.matshow(matrix, fignum=1, aspect='auto')\n",
        "end_time = time.time()\n",
        "elapsed_time1 = end_time - start_time\n",
        "list_time.append(elapsed_time1)\n",
        "visited_nodes.append(l[1])\n",
        "path_size.append(len(path))"
      ],
      "metadata": {
        "colab": {
          "base_uri": "https://localhost:8080/",
          "height": 442
        },
        "id": "ckvgU1Y47rxM",
        "outputId": "36e38e53-049c-4cb9-e66d-a27a190c474c"
      },
      "execution_count": null,
      "outputs": [
        {
          "output_type": "display_data",
          "data": {
            "text/plain": [
              "<Figure size 504x504 with 1 Axes>"
            ],
            "image/png": "[encoded data removed]"
          },
          "metadata": {
            "needs_background": "light"
          }
        }
      ]
    },
    {
      "cell_type": "code",
      "source": [
        "start_time = time.time()\n",
        "agent = Agent(10, 20)\n",
        "l = agent.goal_oriented_loop(np.array([2, 2]), np.array([9, 7]), \"bfs\")\n",
        "path = l[0]\n",
        "matrix = agent.KB[\"cells\"].copy()\n",
        "\n",
        "for (i, p) in enumerate(path):\n",
        "  matrix[p[0]][p[1]] = -1\n",
        "plt.figure(figsize=(7,7))\n",
        "plt.matshow(matrix, fignum=1, aspect='auto')\n",
        "end_time = time.time()\n",
        "elapsed_time2 = end_time - start_time\n",
        "list_time.append(elapsed_time2)\n",
        "visited_nodes.append(l[1])\n",
        "path_size.append(len(path))"
      ],
      "metadata": {
        "colab": {
          "base_uri": "https://localhost:8080/",
          "height": 442
        },
        "id": "Zn0vny2p7du_",
        "outputId": "13e97fcd-4462-4ea5-8a49-6463771f50b5"
      },
      "execution_count": null,
      "outputs": [
        {
          "output_type": "display_data",
          "data": {
            "text/plain": [
              "<Figure size 504x504 with 1 Axes>"
            ],
            "image/png": "[encoded data removed]"
          },
          "metadata": {
            "needs_background": "light"
          }
        }
      ]
    },
    {
      "cell_type": "code",
      "source": [
        "start_time = time.time()\n",
        "agent = Agent(70, 850)\n",
        "l = agent.goal_oriented_loop(np.array([35,35]), np.array([0,0]), \"bfs\")\n",
        "path = l[0]\n",
        "matrix = agent.KB[\"cells\"].copy()\n",
        "\n",
        "for (i, p) in enumerate(path):\n",
        "  matrix[p[0]][p[1]] = -1\n",
        "plt.figure(figsize=(7,7))\n",
        "plt.matshow(matrix, fignum=1, aspect='auto')\n",
        "end_time = time.time()\n",
        "elapsed_time3 = end_time - start_time\n",
        "list_time.append(elapsed_time3)\n",
        "visited_nodes.append(l[1])\n",
        "path_size.append(len(path))"
      ],
      "metadata": {
        "id": "d0982_ISYuXN",
        "outputId": "c5266183-4461-43f2-b03d-06a4630c2fc1",
        "colab": {
          "base_uri": "https://localhost:8080/",
          "height": 442
        }
      },
      "execution_count": null,
      "outputs": [
        {
          "output_type": "display_data",
          "data": {
            "text/plain": [
              "<Figure size 504x504 with 1 Axes>"
            ],
            "image/png": "[encoded data removed]"
          },
          "metadata": {
            "needs_background": "light"
          }
        }
      ]
    },
    {
      "cell_type": "code",
      "source": [
        "start_time = time.time()\n",
        "agent = Agent(70, 25)\n",
        "l = agent.goal_oriented_loop(np.array([69, 69]), np.array([0,0]), \"bfs\")\n",
        "path = l[0]\n",
        "matrix = agent.KB[\"cells\"].copy()\n",
        "\n",
        "for (i, p) in enumerate(path):\n",
        "  matrix[p[0]][p[1]] = -1\n",
        "plt.figure(figsize=(7,7))\n",
        "plt.matshow(matrix, fignum=1, aspect='auto')\n",
        "end_time = time.time()\n",
        "elapsed_time4 = end_time - start_time\n",
        "list_time.append(elapsed_time4)\n",
        "visited_nodes.append(l[1])\n",
        "path_size.append(len(path))"
      ],
      "metadata": {
        "colab": {
          "base_uri": "https://localhost:8080/",
          "height": 442
        },
        "id": "ZzT-m6FZ7NeH",
        "outputId": "085fdb14-0e54-4b0c-ebe5-200c5d86b3c2"
      },
      "execution_count": null,
      "outputs": [
        {
          "output_type": "display_data",
          "data": {
            "text/plain": [
              "<Figure size 504x504 with 1 Axes>"
            ],
            "image/png": "[encoded data removed]"
          },
          "metadata": {
            "needs_background": "light"
          }
        }
      ]
    },
    {
      "cell_type": "code",
      "source": [
        "start_time = time.time()\n",
        "agent = Agent(70, 850)\n",
        "l = agent.goal_oriented_loop(np.array([69, 69]), np.array([0,0]), \"bfs\")\n",
        "path = l[0]\n",
        "matrix = agent.KB[\"cells\"].copy()\n",
        "\n",
        "for (i, p) in enumerate(path):\n",
        "  matrix[p[0]][p[1]] = -1\n",
        "plt.figure(figsize=(7,7))\n",
        "plt.matshow(matrix, fignum=1, aspect='auto')\n",
        "end_time = time.time()\n",
        "elapsed_time5 = end_time - start_time\n",
        "list_time.append(elapsed_time5)\n",
        "visited_nodes.append(l[1])\n",
        "path_size.append(len(path))"
      ],
      "metadata": {
        "id": "ChV8LagL4w5f",
        "colab": {
          "base_uri": "https://localhost:8080/",
          "height": 442
        },
        "outputId": "0d21f37f-66b1-4930-e24d-cd0be01d44e2"
      },
      "execution_count": null,
      "outputs": [
        {
          "output_type": "display_data",
          "data": {
            "text/plain": [
              "<Figure size 504x504 with 1 Axes>"
            ],
            "image/png": "[encoded data removed]"
          },
          "metadata": {
            "needs_background": "light"
          }
        }
      ]
    },
    {
      "cell_type": "code",
      "source": [
        "start_time = time.time()\n",
        "agent = Agent(120, 999)\n",
        "l = agent.goal_oriented_loop(np.random.randint(0, 120, 2), np.random.randint(0, 120, 2), \"bfs\")\n",
        "path = l[0]\n",
        "matrix = agent.KB[\"cells\"].copy()\n",
        "\n",
        "for (i, p) in enumerate(path):\n",
        "  matrix[p[0]][p[1]] = -1\n",
        "plt.figure(figsize=(7,7))\n",
        "plt.matshow(matrix, fignum=1, aspect='auto')\n",
        "end_time = time.time()\n",
        "elapsed_time6 = end_time - start_time\n",
        "list_time.append(elapsed_time6)\n",
        "visited_nodes.append(l[1])\n",
        "path_size.append(len(path))"
      ],
      "metadata": {
        "colab": {
          "base_uri": "https://localhost:8080/",
          "height": 442
        },
        "id": "XauaiDSC76sH",
        "outputId": "cdd34a7c-483c-4995-b3df-b5313554f026"
      },
      "execution_count": null,
      "outputs": [
        {
          "output_type": "display_data",
          "data": {
            "text/plain": [
              "<Figure size 504x504 with 1 Axes>"
            ],
            "image/png": "[encoded data removed]"
          },
          "metadata": {
            "needs_background": "light"
          }
        }
      ]
    },
    {
      "cell_type": "code",
      "source": [
        "start_time = time.time()\n",
        "agent = Agent(120, 999)\n",
        "l = agent.goal_oriented_loop(np.random.randint(0, 120, 2), np.random.randint(0, 120, 2), \"bfs\")\n",
        "path = l[0]\n",
        "matrix = agent.KB[\"cells\"].copy()\n",
        "\n",
        "for (i, p) in enumerate(path):\n",
        "  matrix[p[0]][p[1]] = -1\n",
        "plt.figure(figsize=(7,7))\n",
        "plt.matshow(matrix, fignum=1, aspect='auto')\n",
        "end_time = time.time()\n",
        "elapsed_time7 = end_time - start_time\n",
        "list_time.append(elapsed_time7)\n",
        "visited_nodes.append(l[1])\n",
        "path_size.append(len(path))"
      ],
      "metadata": {
        "colab": {
          "base_uri": "https://localhost:8080/",
          "height": 442
        },
        "id": "Ov0Om4zt772V",
        "outputId": "c79d8ccf-8f2c-4bd9-9070-8eb2510365e3"
      },
      "execution_count": null,
      "outputs": [
        {
          "output_type": "display_data",
          "data": {
            "text/plain": [
              "<Figure size 504x504 with 1 Axes>"
            ],
            "image/png": "[encoded data removed]"
          },
          "metadata": {
            "needs_background": "light"
          }
        }
      ]
    },
    {
      "cell_type": "code",
      "source": [
        "start_time = time.time()\n",
        "agent = Agent(120, 999)\n",
        "l = agent.goal_oriented_loop(np.random.randint(0, 120, 2), np.random.randint(0, 120, 2), \"bfs\")\n",
        "path = l[0]\n",
        "matrix = agent.KB[\"cells\"].copy()\n",
        "\n",
        "for (i, p) in enumerate(path):\n",
        "  matrix[p[0]][p[1]] = -1\n",
        "plt.figure(figsize=(7,7))\n",
        "plt.matshow(matrix, fignum=1, aspect='auto')\n",
        "end_time = time.time()\n",
        "elapsed_time8 = end_time - start_time\n",
        "list_time.append(elapsed_time8)\n",
        "visited_nodes.append(l[1])\n",
        "path_size.append(len(path))"
      ],
      "metadata": {
        "colab": {
          "base_uri": "https://localhost:8080/",
          "height": 442
        },
        "id": "cyTeXcRx77uD",
        "outputId": "26d74eab-0c3c-40a1-fa90-f1b75eb1fbe8"
      },
      "execution_count": null,
      "outputs": [
        {
          "output_type": "display_data",
          "data": {
            "text/plain": [
              "<Figure size 504x504 with 1 Axes>"
            ],
            "image/png": "[encoded data removed]"
          },
          "metadata": {
            "needs_background": "light"
          }
        }
      ]
    },
    {
      "cell_type": "code",
      "source": [
        "start_time = time.time()\n",
        "agent = Agent(120, 999)\n",
        "l = agent.goal_oriented_loop(np.random.randint(0, 120, 2), np.random.randint(0, 120, 2), \"bfs\")\n",
        "path = l[0]\n",
        "matrix = agent.KB[\"cells\"].copy()\n",
        "\n",
        "for (i, p) in enumerate(path):\n",
        "  matrix[p[0]][p[1]] = -1\n",
        "plt.figure(figsize=(7,7))\n",
        "plt.matshow(matrix, fignum=1, aspect='auto')\n",
        "end_time = time.time()\n",
        "elapsed_time9 = end_time - start_time\n",
        "list_time.append(elapsed_time9)\n",
        "visited_nodes.append(l[1])\n",
        "path_size.append(len(path))"
      ],
      "metadata": {
        "colab": {
          "base_uri": "https://localhost:8080/",
          "height": 442
        },
        "id": "6NurI1SY77jy",
        "outputId": "d1089419-6806-4f80-e1c0-4b3c33a069ec"
      },
      "execution_count": null,
      "outputs": [
        {
          "output_type": "display_data",
          "data": {
            "text/plain": [
              "<Figure size 504x504 with 1 Axes>"
            ],
            "image/png": "[encoded data removed]"
          },
          "metadata": {
            "needs_background": "light"
          }
        }
      ]
    },
    {
      "cell_type": "code",
      "source": [
        "start_time = time.time()\n",
        "agent = Agent(120, 999)\n",
        "l = agent.goal_oriented_loop(np.random.randint(0, 120, 2), np.random.randint(0, 120, 2), \"bfs\")\n",
        "path = l[0]\n",
        "matrix = agent.KB[\"cells\"].copy()\n",
        "\n",
        "for (i, p) in enumerate(path):\n",
        "  matrix[p[0]][p[1]] = -1\n",
        "plt.figure(figsize=(7,7))\n",
        "plt.matshow(matrix, fignum=1, aspect='auto')\n",
        "end_time = time.time()\n",
        "elapsed_time10 = end_time - start_time\n",
        "list_time.append(elapsed_time10)\n",
        "visited_nodes.append(l[1])\n",
        "path_size.append(len(path))"
      ],
      "metadata": {
        "colab": {
          "base_uri": "https://localhost:8080/",
          "height": 442
        },
        "id": "bvfqOQUl77bw",
        "outputId": "997a5398-ffae-4206-abb5-16ed0e24a7ef"
      },
      "execution_count": null,
      "outputs": [
        {
          "output_type": "display_data",
          "data": {
            "text/plain": [
              "<Figure size 504x504 with 1 Axes>"
            ],
            "image/png": "[encoded data removed]"
          },
          "metadata": {
            "needs_background": "light"
          }
        }
      ]
    },
    {
      "cell_type": "code",
      "source": [
        "print(\"Mean of time: \", np.mean(list_time))\n",
        "print(\"Mean of visisted nodes visited: \", np.mean(visited_nodes))\n",
        "print(\"Mean of path size: \", np.mean(path_size))"
      ],
      "metadata": {
        "colab": {
          "base_uri": "https://localhost:8080/"
        },
        "id": "H7nqjo4mCDBP",
        "outputId": "a4bdd7be-9268-4bad-d9e1-f7f08ee64085"
      },
      "execution_count": null,
      "outputs": [
        {
          "output_type": "stream",
          "name": "stdout",
          "text": [
            "Mean of time:  11.465834140777588\n",
            "Mean of visisted nodes visited:  19914.0\n",
            "Mean of path size:  84.0\n"
          ]
        }
      ]
    },
    {
      "cell_type": "code",
      "source": [
        "# Depth First Search (DFS)\n",
        "list_time = []\n",
        "visited_nodes = []\n",
        "path_size = []"
      ],
      "metadata": {
        "id": "NPl5i_Q5FxKw"
      },
      "execution_count": null,
      "outputs": []
    },
    {
      "cell_type": "code",
      "source": [
        "start_time = time.time()\n",
        "agent = Agent(10, 20)\n",
        "l = agent.goal_oriented_loop(np.array([2, 2]), np.array([7, 9]), \"dfs\")\n",
        "path = l[0]\n",
        "matrix = agent.KB[\"cells\"].copy()\n",
        "\n",
        "for (i, p) in enumerate(path):\n",
        "  matrix[p[0]][p[1]] = -1\n",
        "plt.figure(figsize=(7,7))\n",
        "plt.matshow(matrix, fignum=1, aspect='auto')\n",
        "end_time = time.time()\n",
        "elapsed_time1 = end_time - start_time\n",
        "list_time.append(elapsed_time1)\n",
        "visited_nodes.append(l[1])\n",
        "path_size.append(len(path))"
      ],
      "metadata": {
        "colab": {
          "base_uri": "https://localhost:8080/",
          "height": 442
        },
        "id": "ptpzi6bvGBmE",
        "outputId": "d0fe7ef2-b821-4016-9e2f-acec921d73b2"
      },
      "execution_count": null,
      "outputs": [
        {
          "output_type": "display_data",
          "data": {
            "text/plain": [
              "<Figure size 504x504 with 1 Axes>"
            ],
            "image/png": "[encoded data removed]"
          },
          "metadata": {
            "needs_background": "light"
          }
        }
      ]
    },
    {
      "cell_type": "code",
      "source": [
        "start_time = time.time()\n",
        "agent = Agent(10, 20)\n",
        "l = agent.goal_oriented_loop(np.array([2, 2]), np.array([9, 7]), \"dfs\")\n",
        "path = l[0]\n",
        "matrix = agent.KB[\"cells\"].copy()\n",
        "\n",
        "for (i, p) in enumerate(path):\n",
        "  matrix[p[0]][p[1]] = -1\n",
        "plt.figure(figsize=(7,7))\n",
        "plt.matshow(matrix, fignum=1, aspect='auto')\n",
        "end_time = time.time()\n",
        "elapsed_time2 = end_time - start_time\n",
        "list_time.append(elapsed_time2)\n",
        "visited_nodes.append(l[1])\n",
        "path_size.append(len(path))"
      ],
      "metadata": {
        "colab": {
          "base_uri": "https://localhost:8080/",
          "height": 442
        },
        "id": "Qx27ox0mGJ5B",
        "outputId": "8562a113-ba78-44a8-a632-4359f8b04d24"
      },
      "execution_count": null,
      "outputs": [
        {
          "output_type": "display_data",
          "data": {
            "text/plain": [
              "<Figure size 504x504 with 1 Axes>"
            ],
            "image/png": "[encoded data removed]"
          },
          "metadata": {
            "needs_background": "light"
          }
        }
      ]
    },
    {
      "cell_type": "code",
      "source": [
        "start_time = time.time()\n",
        "agent = Agent(70, 850)\n",
        "l = agent.goal_oriented_loop(np.array([35,35]), np.array([0,0]), \"dfs\")\n",
        "path = l[0]\n",
        "matrix = agent.KB[\"cells\"].copy()\n",
        "\n",
        "for (i, p) in enumerate(path):\n",
        "  matrix[p[0]][p[1]] = -1\n",
        "plt.figure(figsize=(7,7))\n",
        "plt.matshow(matrix, fignum=1, aspect='auto')\n",
        "end_time = time.time()\n",
        "elapsed_time3 = end_time - start_time\n",
        "list_time.append(elapsed_time3)\n",
        "visited_nodes.append(l[1])\n",
        "path_size.append(len(path))"
      ],
      "metadata": {
        "colab": {
          "base_uri": "https://localhost:8080/",
          "height": 442
        },
        "id": "eSCtGosCGP6N",
        "outputId": "d43c620f-54b6-4a5e-be3f-1b8784dbdaad"
      },
      "execution_count": null,
      "outputs": [
        {
          "output_type": "display_data",
          "data": {
            "text/plain": [
              "<Figure size 504x504 with 1 Axes>"
            ],
            "image/png": "[encoded data removed]"
          },
          "metadata": {
            "needs_background": "light"
          }
        }
      ]
    },
    {
      "cell_type": "code",
      "source": [
        "start_time = time.time()\n",
        "agent = Agent(70, 25)\n",
        "l = agent.goal_oriented_loop(np.array([69, 69]), np.array([0,0]), \"dfs\")\n",
        "path = l[0]\n",
        "matrix = agent.KB[\"cells\"].copy()\n",
        "\n",
        "for (i, p) in enumerate(path):\n",
        "  matrix[p[0]][p[1]] = -1\n",
        "plt.figure(figsize=(7,7))\n",
        "plt.matshow(matrix, fignum=1, aspect='auto')\n",
        "end_time = time.time()\n",
        "elapsed_time4 = end_time - start_time\n",
        "list_time.append(elapsed_time4)\n",
        "visited_nodes.append(l[1])\n",
        "path_size.append(len(path))"
      ],
      "metadata": {
        "colab": {
          "base_uri": "https://localhost:8080/",
          "height": 442
        },
        "id": "uc4yEeBPGznt",
        "outputId": "b31a2c4c-4392-4ab2-8c34-29948082ef21"
      },
      "execution_count": null,
      "outputs": [
        {
          "output_type": "display_data",
          "data": {
            "text/plain": [
              "<Figure size 504x504 with 1 Axes>"
            ],
            "image/png": "[encoded data removed]"
          },
          "metadata": {
            "needs_background": "light"
          }
        }
      ]
    },
    {
      "cell_type": "code",
      "source": [
        "start_time = time.time()\n",
        "agent = Agent(70, 850)\n",
        "l = agent.goal_oriented_loop(np.array([69, 69]), np.array([0,0]), \"dfs\")\n",
        "path = l[0]\n",
        "matrix = agent.KB[\"cells\"].copy()\n",
        "\n",
        "for (i, p) in enumerate(path):\n",
        "  matrix[p[0]][p[1]] = -1\n",
        "plt.figure(figsize=(7,7))\n",
        "plt.matshow(matrix, fignum=1, aspect='auto')\n",
        "end_time = time.time()\n",
        "elapsed_time5 = end_time - start_time\n",
        "list_time.append(elapsed_time5)\n",
        "visited_nodes.append(l[1])\n",
        "path_size.append(len(path))"
      ],
      "metadata": {
        "colab": {
          "base_uri": "https://localhost:8080/",
          "height": 442
        },
        "id": "NipB2rNtG7n9",
        "outputId": "eb364c6e-9ad3-4cc4-ce33-9fb62e45ed58"
      },
      "execution_count": null,
      "outputs": [
        {
          "output_type": "display_data",
          "data": {
            "text/plain": [
              "<Figure size 504x504 with 1 Axes>"
            ],
            "image/png": "[encoded data removed]"
          },
          "metadata": {
            "needs_background": "light"
          }
        }
      ]
    },
    {
      "cell_type": "code",
      "source": [
        "start_time = time.time()\n",
        "agent = Agent(120, 999)\n",
        "l = agent.goal_oriented_loop(np.random.randint(0, 120, 2), np.random.randint(0, 120, 2), \"dfs\")\n",
        "path = l[0]\n",
        "matrix = agent.KB[\"cells\"].copy()\n",
        "\n",
        "for (i, p) in enumerate(path):\n",
        "  matrix[p[0]][p[1]] = -1\n",
        "plt.figure(figsize=(7,7))\n",
        "plt.matshow(matrix, fignum=1, aspect='auto')\n",
        "end_time = time.time()\n",
        "elapsed_time6 = end_time - start_time\n",
        "list_time.append(elapsed_time6)\n",
        "visited_nodes.append(l[1])\n",
        "path_size.append(len(path))"
      ],
      "metadata": {
        "colab": {
          "base_uri": "https://localhost:8080/",
          "height": 442
        },
        "id": "KmeQfnPDHAIb",
        "outputId": "7e3b0fbe-a8d9-497d-9ae5-482c2522e244"
      },
      "execution_count": null,
      "outputs": [
        {
          "output_type": "display_data",
          "data": {
            "text/plain": [
              "<Figure size 504x504 with 1 Axes>"
            ],
            "image/png": "[encoded data removed]"
          },
          "metadata": {
            "needs_background": "light"
          }
        }
      ]
    },
    {
      "cell_type": "code",
      "source": [
        "start_time = time.time()\n",
        "agent = Agent(120, 999)\n",
        "l = agent.goal_oriented_loop(np.random.randint(0, 120, 2), np.random.randint(0, 120, 2), \"dfs\")\n",
        "path = l[0]\n",
        "matrix = agent.KB[\"cells\"].copy()\n",
        "\n",
        "for (i, p) in enumerate(path):\n",
        "  matrix[p[0]][p[1]] = -1\n",
        "plt.figure(figsize=(7,7))\n",
        "plt.matshow(matrix, fignum=1, aspect='auto')\n",
        "end_time = time.time()\n",
        "elapsed_time7 = end_time - start_time\n",
        "list_time.append(elapsed_time7)\n",
        "visited_nodes.append(l[1])\n",
        "path_size.append(len(path))"
      ],
      "metadata": {
        "colab": {
          "base_uri": "https://localhost:8080/",
          "height": 442
        },
        "id": "o5V6I4OIHHh3",
        "outputId": "8e18c5fa-7b16-4ad8-b6f6-56071929dfe3"
      },
      "execution_count": null,
      "outputs": [
        {
          "output_type": "display_data",
          "data": {
            "text/plain": [
              "<Figure size 504x504 with 1 Axes>"
            ],
            "image/png": "[encoded data removed]"
          },
          "metadata": {
            "needs_background": "light"
          }
        }
      ]
    },
    {
      "cell_type": "code",
      "source": [
        "start_time = time.time()\n",
        "agent = Agent(120, 999)\n",
        "l = agent.goal_oriented_loop(np.random.randint(0, 120, 2), np.random.randint(0, 120, 2), \"dfs\")\n",
        "path = l[0]\n",
        "matrix = agent.KB[\"cells\"].copy()\n",
        "\n",
        "for (i, p) in enumerate(path):\n",
        "  matrix[p[0]][p[1]] = -1\n",
        "plt.figure(figsize=(7,7))\n",
        "plt.matshow(matrix, fignum=1, aspect='auto')\n",
        "end_time = time.time()\n",
        "elapsed_time8 = end_time - start_time\n",
        "list_time.append(elapsed_time8)\n",
        "visited_nodes.append(l[1])\n",
        "path_size.append(len(path))"
      ],
      "metadata": {
        "colab": {
          "base_uri": "https://localhost:8080/",
          "height": 442
        },
        "id": "9RZ8eC8zHNfI",
        "outputId": "ee5665b6-3032-431e-86db-faea2524dc98"
      },
      "execution_count": null,
      "outputs": [
        {
          "output_type": "display_data",
          "data": {
            "text/plain": [
              "<Figure size 504x504 with 1 Axes>"
            ],
            "image/png": "[encoded data removed]"
          },
          "metadata": {
            "needs_background": "light"
          }
        }
      ]
    },
    {
      "cell_type": "code",
      "source": [
        "start_time = time.time()\n",
        "agent = Agent(120, 999)\n",
        "l = agent.goal_oriented_loop(np.random.randint(0, 120, 2), np.random.randint(0, 120, 2), \"dfs\")\n",
        "path = l[0]\n",
        "matrix = agent.KB[\"cells\"].copy()\n",
        "\n",
        "for (i, p) in enumerate(path):\n",
        "  matrix[p[0]][p[1]] = -1\n",
        "plt.figure(figsize=(7,7))\n",
        "plt.matshow(matrix, fignum=1, aspect='auto')\n",
        "end_time = time.time()\n",
        "elapsed_time9 = end_time - start_time\n",
        "list_time.append(elapsed_time9)\n",
        "visited_nodes.append(l[1])\n",
        "path_size.append(len(path))"
      ],
      "metadata": {
        "colab": {
          "base_uri": "https://localhost:8080/",
          "height": 442
        },
        "id": "jDeaidyFHTRc",
        "outputId": "0c84c3b3-f908-4536-bb0e-d52aeaafe514"
      },
      "execution_count": null,
      "outputs": [
        {
          "output_type": "display_data",
          "data": {
            "text/plain": [
              "<Figure size 504x504 with 1 Axes>"
            ],
            "image/png": "[encoded data removed]"
          },
          "metadata": {
            "needs_background": "light"
          }
        }
      ]
    },
    {
      "cell_type": "code",
      "source": [
        "start_time = time.time()\n",
        "agent = Agent(120, 999)\n",
        "l = agent.goal_oriented_loop(np.random.randint(0, 120, 2), np.random.randint(0, 120, 2), \"dfs\")\n",
        "path = l[0]\n",
        "matrix = agent.KB[\"cells\"].copy()\n",
        "\n",
        "for (i, p) in enumerate(path):\n",
        "  matrix[p[0]][p[1]] = -1\n",
        "plt.figure(figsize=(7,7))\n",
        "plt.matshow(matrix, fignum=1, aspect='auto')\n",
        "end_time = time.time()\n",
        "elapsed_time10 = end_time - start_time\n",
        "list_time.append(elapsed_time10)\n",
        "visited_nodes.append(l[1])\n",
        "path_size.append(len(path))"
      ],
      "metadata": {
        "colab": {
          "base_uri": "https://localhost:8080/",
          "height": 442
        },
        "id": "4ZKCnXnXHX9g",
        "outputId": "07cf1e92-7418-4f8b-fb95-dbe41bf1e8ba"
      },
      "execution_count": null,
      "outputs": [
        {
          "output_type": "display_data",
          "data": {
            "text/plain": [
              "<Figure size 504x504 with 1 Axes>"
            ],
            "image/png": "[encoded data removed]"
          },
          "metadata": {
            "needs_background": "light"
          }
        }
      ]
    },
    {
      "cell_type": "code",
      "source": [
        "print(\"Mean of time: \", np.mean(list_time))\n",
        "print(\"Mean of visisted nodes visited: \", np.mean(visited_nodes))\n",
        "print(\"Mean of path size: \", np.mean(path_size))"
      ],
      "metadata": {
        "colab": {
          "base_uri": "https://localhost:8080/"
        },
        "id": "gk1iNlsOHdzb",
        "outputId": "5ab0496a-0ddd-454a-b26c-f883498f420c"
      },
      "execution_count": null,
      "outputs": [
        {
          "output_type": "stream",
          "name": "stdout",
          "text": [
            "Mean of time:  9.49481179714203\n",
            "Mean of visisted nodes visited:  13587.9\n",
            "Mean of path size:  5022.1\n"
          ]
        }
      ]
    },
    {
      "cell_type": "code",
      "source": [
        "# Breadth First Search with cost (Cost-BFS)\n",
        "list_time = []\n",
        "visited_nodes = []\n",
        "path_size = []"
      ],
      "metadata": {
        "id": "vPE9zw4RIrrp"
      },
      "execution_count": 8,
      "outputs": []
    },
    {
      "cell_type": "code",
      "source": [
        "start_time = time.time()\n",
        "agent = Agent(10, 20)\n",
        "l = agent.goal_oriented_loop(np.array([2, 2]), np.array([7, 9]), \"cost_bfs\")\n",
        "path = l[0]\n",
        "matrix = agent.KB[\"cells\"].copy()\n",
        "\n",
        "for (i, p) in enumerate(path):\n",
        "  matrix[p[0]][p[1]] = -1\n",
        "plt.figure(figsize=(7,7))\n",
        "plt.matshow(matrix, fignum=1, aspect='auto')\n",
        "end_time = time.time()\n",
        "elapsed_time1 = end_time - start_time\n",
        "list_time.append(elapsed_time1)\n",
        "visited_nodes.append(l[1])\n",
        "path_size.append(len(path))"
      ],
      "metadata": {
        "colab": {
          "base_uri": "https://localhost:8080/",
          "height": 442
        },
        "id": "qkKmXudsIq3Q",
        "outputId": "7b2c9aae-2cdf-4646-f0c6-3410fa92b82c"
      },
      "execution_count": 16,
      "outputs": [
        {
          "output_type": "display_data",
          "data": {
            "text/plain": [
              "<Figure size 504x504 with 1 Axes>"
            ],
            "image/png": "[encoded data removed]"
          },
          "metadata": {
            "needs_background": "light"
          }
        }
      ]
    },
    {
      "cell_type": "code",
      "source": [
        "start_time = time.time()\n",
        "agent = Agent(10, 20)\n",
        "l = agent.goal_oriented_loop(np.array([2, 2]), np.array([9, 7]), \"cost_bfs\")\n",
        "path = l[0]\n",
        "matrix = agent.KB[\"cells\"].copy()\n",
        "\n",
        "for (i, p) in enumerate(path):\n",
        "  matrix[p[0]][p[1]] = -1\n",
        "plt.figure(figsize=(7,7))\n",
        "plt.matshow(matrix, fignum=1, aspect='auto')\n",
        "end_time = time.time()\n",
        "elapsed_time2 = end_time - start_time\n",
        "list_time.append(elapsed_time2)\n",
        "visited_nodes.append(l[1])\n",
        "path_size.append(len(path))"
      ],
      "metadata": {
        "colab": {
          "base_uri": "https://localhost:8080/",
          "height": 442
        },
        "id": "dgGmcj5ULyY7",
        "outputId": "d8552e3c-4e7c-4bbe-c4cd-bd3c30280665"
      },
      "execution_count": 29,
      "outputs": [
        {
          "output_type": "display_data",
          "data": {
            "text/plain": [
              "<Figure size 504x504 with 1 Axes>"
            ],
            "image/png": "[encoded data removed]"
          },
          "metadata": {
            "needs_background": "light"
          }
        }
      ]
    },
    {
      "cell_type": "code",
      "source": [
        "start_time = time.time()\n",
        "agent = Agent(70, 850)\n",
        "l = agent.goal_oriented_loop(np.array([35,35]), np.array([0,0]), \"cost_bfs\")\n",
        "path = l[0]\n",
        "matrix = agent.KB[\"cells\"].copy()\n",
        "\n",
        "for (i, p) in enumerate(path):\n",
        "  matrix[p[0]][p[1]] = -1\n",
        "plt.figure(figsize=(7,7))\n",
        "plt.matshow(matrix, fignum=1, aspect='auto')\n",
        "end_time = time.time()\n",
        "elapsed_time3 = end_time - start_time\n",
        "list_time.append(elapsed_time3)\n",
        "visited_nodes.append(l[1])\n",
        "path_size.append(len(path))"
      ],
      "metadata": {
        "colab": {
          "base_uri": "https://localhost:8080/",
          "height": 442
        },
        "id": "pf2drfu9L3dF",
        "outputId": "59887df5-d454-466b-9e49-35d4841bb191"
      },
      "execution_count": 19,
      "outputs": [
        {
          "output_type": "display_data",
          "data": {
            "text/plain": [
              "<Figure size 504x504 with 1 Axes>"
            ],
            "image/png": "[encoded data removed]"
          },
          "metadata": {
            "needs_background": "light"
          }
        }
      ]
    },
    {
      "cell_type": "code",
      "source": [
        "start_time = time.time()\n",
        "agent = Agent(70, 850)\n",
        "l = agent.goal_oriented_loop(np.array([35,35]), np.array([0,0]), \"cost_bfs\")\n",
        "path = l[0]\n",
        "matrix = agent.KB[\"cells\"].copy()\n",
        "\n",
        "for (i, p) in enumerate(path):\n",
        "  matrix[p[0]][p[1]] = -1\n",
        "plt.figure(figsize=(7,7))\n",
        "plt.matshow(matrix, fignum=1, aspect='auto')\n",
        "end_time = time.time()\n",
        "elapsed_time3 = end_time - start_time\n",
        "list_time.append(elapsed_time3)\n",
        "visited_nodes.append(l[1])\n",
        "path_size.append(len(path))"
      ],
      "metadata": {
        "colab": {
          "base_uri": "https://localhost:8080/",
          "height": 442
        },
        "id": "aHvYceewL82K",
        "outputId": "9aa04303-2a4c-4dfb-8fe1-573487d3e85f"
      },
      "execution_count": 20,
      "outputs": [
        {
          "output_type": "display_data",
          "data": {
            "text/plain": [
              "<Figure size 504x504 with 1 Axes>"
            ],
            "image/png": "[encoded data removed]"
          },
          "metadata": {
            "needs_background": "light"
          }
        }
      ]
    },
    {
      "cell_type": "code",
      "source": [
        "start_time = time.time()\n",
        "agent = Agent(70, 25)\n",
        "l = agent.goal_oriented_loop(np.array([69, 69]), np.array([0,0]), \"cost_bfs\")\n",
        "path = l[0]\n",
        "matrix = agent.KB[\"cells\"].copy()\n",
        "\n",
        "for (i, p) in enumerate(path):\n",
        "  matrix[p[0]][p[1]] = -1\n",
        "plt.figure(figsize=(7,7))\n",
        "plt.matshow(matrix, fignum=1, aspect='auto')\n",
        "end_time = time.time()\n",
        "elapsed_time4 = end_time - start_time\n",
        "list_time.append(elapsed_time4)\n",
        "visited_nodes.append(l[1])\n",
        "path_size.append(len(path))"
      ],
      "metadata": {
        "colab": {
          "base_uri": "https://localhost:8080/",
          "height": 442
        },
        "id": "CXEbyT1fMKby",
        "outputId": "00634b98-c739-4c40-cc91-b969bc0843f6"
      },
      "execution_count": 21,
      "outputs": [
        {
          "output_type": "display_data",
          "data": {
            "text/plain": [
              "<Figure size 504x504 with 1 Axes>"
            ],
            "image/png": "[encoded data removed]"
          },
          "metadata": {
            "needs_background": "light"
          }
        }
      ]
    },
    {
      "cell_type": "code",
      "source": [
        "start_time = time.time()\n",
        "agent = Agent(70, 850)\n",
        "l = agent.goal_oriented_loop(np.array([69, 69]), np.array([0,0]), \"cost_bfs\")\n",
        "path = l[0]\n",
        "matrix = agent.KB[\"cells\"].copy()\n",
        "\n",
        "for (i, p) in enumerate(path):\n",
        "  matrix[p[0]][p[1]] = -1\n",
        "plt.figure(figsize=(7,7))\n",
        "plt.matshow(matrix, fignum=1, aspect='auto')\n",
        "end_time = time.time()\n",
        "elapsed_time5 = end_time - start_time\n",
        "list_time.append(elapsed_time5)\n",
        "visited_nodes.append(l[1])\n",
        "path_size.append(len(path))"
      ],
      "metadata": {
        "colab": {
          "base_uri": "https://localhost:8080/",
          "height": 442
        },
        "id": "ZiUcDswuMQdu",
        "outputId": "a602888b-eebb-42b1-f635-62acfcfc70bb"
      },
      "execution_count": 22,
      "outputs": [
        {
          "output_type": "display_data",
          "data": {
            "text/plain": [
              "<Figure size 504x504 with 1 Axes>"
            ],
            "image/png": "[encoded data removed]"
          },
          "metadata": {
            "needs_background": "light"
          }
        }
      ]
    },
    {
      "cell_type": "code",
      "source": [
        "start_time = time.time()\n",
        "agent = Agent(120, 999)\n",
        "l = agent.goal_oriented_loop(np.random.randint(0, 120, 2), np.random.randint(0, 120, 2), \"cost_bfs\")\n",
        "matrix = agent.KB[\"cells\"].copy()\n",
        "\n",
        "for (i, p) in enumerate(path):\n",
        "  matrix[p[0]][p[1]] = -1\n",
        "plt.figure(figsize=(7,7))\n",
        "plt.matshow(matrix, fignum=1, aspect='auto')\n",
        "end_time = time.time()\n",
        "elapsed_time6 = end_time - start_time\n",
        "list_time.append(elapsed_time6)\n",
        "visited_nodes.append(l[1])\n",
        "path_size.append(len(path))"
      ],
      "metadata": {
        "colab": {
          "base_uri": "https://localhost:8080/",
          "height": 442
        },
        "id": "_cHVsMMeMXxF",
        "outputId": "636c36a5-c255-45e5-dc7a-677e06a9fd7f"
      },
      "execution_count": 23,
      "outputs": [
        {
          "output_type": "display_data",
          "data": {
            "text/plain": [
              "<Figure size 504x504 with 1 Axes>"
            ],
            "image/png": "[encoded data removed]"
          },
          "metadata": {
            "needs_background": "light"
          }
        }
      ]
    },
    {
      "cell_type": "code",
      "source": [
        "start_time = time.time()\n",
        "agent = Agent(120, 999)\n",
        "l = agent.goal_oriented_loop(np.random.randint(0, 120, 2), np.random.randint(0, 120, 2), \"cost_bfs\")\n",
        "path = l[0]\n",
        "matrix = agent.KB[\"cells\"].copy()\n",
        "\n",
        "for (i, p) in enumerate(path):\n",
        "  matrix[p[0]][p[1]] = -1\n",
        "plt.figure(figsize=(7,7))\n",
        "plt.matshow(matrix, fignum=1, aspect='auto')\n",
        "end_time = time.time()\n",
        "elapsed_time7 = end_time - start_time\n",
        "list_time.append(elapsed_time7)\n",
        "visited_nodes.append(l[1])\n",
        "path_size.append(len(path))"
      ],
      "metadata": {
        "id": "lDOEQl8LMd1E",
        "colab": {
          "base_uri": "https://localhost:8080/",
          "height": 442
        },
        "outputId": "5a91c9fc-7d07-4a60-faf3-3abb8e60dc31"
      },
      "execution_count": 24,
      "outputs": [
        {
          "output_type": "display_data",
          "data": {
            "text/plain": [
              "<Figure size 504x504 with 1 Axes>"
            ],
            "image/png": "[encoded data removed]"
          },
          "metadata": {
            "needs_background": "light"
          }
        }
      ]
    },
    {
      "cell_type": "code",
      "source": [
        "start_time = time.time()\n",
        "agent = Agent(120, 999)\n",
        "l = agent.goal_oriented_loop(np.random.randint(0, 120, 2), np.random.randint(0, 120, 2), \"cost_bfs\")\n",
        "path = l[0]\n",
        "matrix = agent.KB[\"cells\"].copy()\n",
        "\n",
        "for (i, p) in enumerate(path):\n",
        "  matrix[p[0]][p[1]] = -1\n",
        "plt.figure(figsize=(7,7))\n",
        "plt.matshow(matrix, fignum=1, aspect='auto')\n",
        "end_time = time.time()\n",
        "elapsed_time8 = end_time - start_time\n",
        "list_time.append(elapsed_time8)\n",
        "visited_nodes.append(l[1])\n",
        "path_size.append(len(path))"
      ],
      "metadata": {
        "id": "tMAF2XVwMk3p",
        "colab": {
          "base_uri": "https://localhost:8080/",
          "height": 442
        },
        "outputId": "63fca1ca-d9ca-44f5-b501-3da2250fdce5"
      },
      "execution_count": 25,
      "outputs": [
        {
          "output_type": "display_data",
          "data": {
            "text/plain": [
              "<Figure size 504x504 with 1 Axes>"
            ],
            "image/png": "[encoded data removed]"
          },
          "metadata": {
            "needs_background": "light"
          }
        }
      ]
    },
    {
      "cell_type": "code",
      "source": [
        "start_time = time.time()\n",
        "agent = Agent(120, 999)\n",
        "l = agent.goal_oriented_loop(np.random.randint(0, 120, 2), np.random.randint(0, 120, 2), \"cost_bfs\")\n",
        "path = l[0]\n",
        "matrix = agent.KB[\"cells\"].copy()\n",
        "\n",
        "for (i, p) in enumerate(path):\n",
        "  matrix[p[0]][p[1]] = -1\n",
        "plt.figure(figsize=(7,7))\n",
        "plt.matshow(matrix, fignum=1, aspect='auto')\n",
        "end_time = time.time()\n",
        "elapsed_time9 = end_time - start_time\n",
        "list_time.append(elapsed_time9)\n",
        "visited_nodes.append(l[1])\n",
        "path_size.append(len(path))"
      ],
      "metadata": {
        "id": "cNM5kY1QMu0m",
        "colab": {
          "base_uri": "https://localhost:8080/",
          "height": 442
        },
        "outputId": "4551c757-0232-485c-ed3b-5869fee22c9d"
      },
      "execution_count": 26,
      "outputs": [
        {
          "output_type": "display_data",
          "data": {
            "text/plain": [
              "<Figure size 504x504 with 1 Axes>"
            ],
            "image/png": "[encoded data removed]"
          },
          "metadata": {
            "needs_background": "light"
          }
        }
      ]
    },
    {
      "cell_type": "code",
      "source": [
        "start_time = time.time()\n",
        "agent = Agent(120, 999)\n",
        "l = agent.goal_oriented_loop(np.random.randint(0, 120, 2), np.random.randint(0, 120, 2), \"cost_bfs\")\n",
        "path = l[0]\n",
        "matrix = agent.KB[\"cells\"].copy()\n",
        "\n",
        "for (i, p) in enumerate(path):\n",
        "  matrix[p[0]][p[1]] = -1\n",
        "plt.figure(figsize=(7,7))\n",
        "plt.matshow(matrix, fignum=1, aspect='auto')\n",
        "end_time = time.time()\n",
        "elapsed_time10 = end_time - start_time\n",
        "list_time.append(elapsed_time10)\n",
        "visited_nodes.append(l[1])\n",
        "path_size.append(len(path))"
      ],
      "metadata": {
        "id": "Pgk8qXWtM0w3",
        "colab": {
          "base_uri": "https://localhost:8080/",
          "height": 442
        },
        "outputId": "f7444d74-4251-433d-b654-bc4b29cb4591"
      },
      "execution_count": 27,
      "outputs": [
        {
          "output_type": "display_data",
          "data": {
            "text/plain": [
              "<Figure size 504x504 with 1 Axes>"
            ],
            "image/png": "[encoded data removed]"
          },
          "metadata": {
            "needs_background": "light"
          }
        }
      ]
    },
    {
      "cell_type": "code",
      "source": [
        "print(\"Mean of time: \", np.mean(list_time))\n",
        "print(\"Mean of visisted nodes visited: \", np.mean(visited_nodes))\n",
        "print(\"Mean of path size: \", np.mean(path_size))"
      ],
      "metadata": {
        "id": "D5O76QyUM8CK",
        "colab": {
          "base_uri": "https://localhost:8080/"
        },
        "outputId": "89f761e0-767b-4727-b4cd-bcea9cd48985"
      },
      "execution_count": 28,
      "outputs": [
        {
          "output_type": "stream",
          "name": "stdout",
          "text": [
            "Mean of time:  18.537695624611594\n",
            "Mean of visisted nodes visited:  22650.545454545456\n",
            "Mean of path size:  94.36363636363636\n"
          ]
        }
      ]
    }
  ]
}